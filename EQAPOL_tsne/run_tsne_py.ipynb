{
 "cells": [
  {
   "cell_type": "markdown",
   "metadata": {},
   "source": [
    "# About the notebook"
   ]
  },
  {
   "cell_type": "markdown",
   "metadata": {},
   "source": [
    "set environment"
   ]
  },
  {
   "cell_type": "code",
   "execution_count": 6,
   "metadata": {},
   "outputs": [],
   "source": [
    "from MulticoreTSNE import MulticoreTSNE as TSNE\n",
    "import numpy as np\n",
    "import pandas as pd\n",
    "import os\n",
    "\n",
    "dat_dir = \"/data/clintko/SMPK\""
   ]
  },
  {
   "cell_type": "markdown",
   "metadata": {},
   "source": [
    "The data that will be analyzed."
   ]
  },
  {
   "cell_type": "code",
   "execution_count": 3,
   "metadata": {},
   "outputs": [
    {
     "name": "stdout",
     "output_type": "stream",
     "text": [
      "C.txt\r\n",
      "ep8cs_dat_gaussnorm.txt\r\n",
      "ep8cs_dat_mpsk_cal.txt\r\n",
      "ep8cs_dat_mpsk_raw.txt\r\n",
      "ep8cs_mpsk_cal.RDS\r\n",
      "ep8cs_mpsk_chainSummary.RDS\r\n",
      "ep8cs_mpsk_raw.RDS\r\n",
      "ep8cs_mpsk_relab.RDS\r\n",
      "ep8cs_tsne_gaussnorm.txt\r\n",
      "ep8cs_tsne_idx.txt\r\n",
      "ep8cs_tsne_mpsk_cal.txt\r\n",
      "ep8cs_tsne_raw.txt\r\n",
      "ep8cs_tsne_test.txt\r\n",
      "Y_raw.txt\r\n"
     ]
    }
   ],
   "source": [
    "!ls -1 \"/data/clintko/SMPK\""
   ]
  },
  {
   "cell_type": "code",
   "execution_count": 4,
   "metadata": {},
   "outputs": [
    {
     "name": "stdout",
     "output_type": "stream",
     "text": [
      "/data/clintko/SMPK/ep8cs_dat_gaussnorm.txt\r\n",
      "/data/clintko/SMPK/ep8cs_dat_mpsk_cal.txt\r\n",
      "/data/clintko/SMPK/ep8cs_dat_mpsk_raw.txt\r\n"
     ]
    }
   ],
   "source": [
    "!ls -1 /data/clintko/SMPK/ep8cs_dat*"
   ]
  },
  {
   "cell_type": "markdown",
   "metadata": {},
   "source": [
    "# import data"
   ]
  },
  {
   "cell_type": "code",
   "execution_count": 10,
   "metadata": {},
   "outputs": [],
   "source": [
    "dat_mpsk_raw  = pd.read_csv(os.path.join(dat_dir, \"ep8cs_dat_mpsk_raw.txt\"),  sep = \"\\t\")\n",
    "dat_mpsk_cal  = pd.read_csv(os.path.join(dat_dir, \"ep8cs_dat_mpsk_cal.txt\"),  sep = \"\\t\")\n",
    "dat_gaussnorm = pd.read_csv(os.path.join(dat_dir, \"ep8cs_dat_gaussnorm.txt\"), sep = \"\\t\")"
   ]
  },
  {
   "cell_type": "markdown",
   "metadata": {},
   "source": [
    "check the data"
   ]
  },
  {
   "cell_type": "code",
   "execution_count": 12,
   "metadata": {},
   "outputs": [
    {
     "name": "stdout",
     "output_type": "stream",
     "text": [
      "(180000, 12)\n",
      "(180000, 12)\n",
      "(180000, 11)\n"
     ]
    }
   ],
   "source": [
    "print(dat_mpsk_raw.shape)\n",
    "print(dat_mpsk_cal.shape)\n",
    "print(dat_gaussnorm.shape)"
   ]
  },
  {
   "cell_type": "markdown",
   "metadata": {},
   "source": [
    "# Test multicore t-SNE"
   ]
  },
  {
   "cell_type": "code",
   "execution_count": 21,
   "metadata": {},
   "outputs": [],
   "source": [
    "from sklearn.datasets import load_iris\n",
    "iris = load_iris()"
   ]
  },
  {
   "cell_type": "code",
   "execution_count": 31,
   "metadata": {},
   "outputs": [
    {
     "data": {
      "text/plain": [
       "sklearn.utils.Bunch"
      ]
     },
     "execution_count": 31,
     "metadata": {},
     "output_type": "execute_result"
    }
   ],
   "source": [
    "type(iris)"
   ]
  },
  {
   "cell_type": "code",
   "execution_count": 32,
   "metadata": {},
   "outputs": [
    {
     "data": {
      "text/plain": [
       "numpy.ndarray"
      ]
     },
     "execution_count": 32,
     "metadata": {},
     "output_type": "execute_result"
    }
   ],
   "source": [
    "type(iris['data'])"
   ]
  },
  {
   "cell_type": "code",
   "execution_count": 33,
   "metadata": {},
   "outputs": [
    {
     "data": {
      "text/plain": [
       "(150, 4)"
      ]
     },
     "execution_count": 33,
     "metadata": {},
     "output_type": "execute_result"
    }
   ],
   "source": [
    "dat = iris['data']\n",
    "dat.shape"
   ]
  },
  {
   "cell_type": "code",
   "execution_count": 34,
   "metadata": {},
   "outputs": [
    {
     "data": {
      "text/plain": [
       "array([[5.1, 3.5, 1.4, 0.2],\n",
       "       [4.9, 3. , 1.4, 0.2],\n",
       "       [4.7, 3.2, 1.3, 0.2],\n",
       "       [4.6, 3.1, 1.5, 0.2],\n",
       "       [5. , 3.6, 1.4, 0.2],\n",
       "       [5.4, 3.9, 1.7, 0.4]])"
      ]
     },
     "execution_count": 34,
     "metadata": {},
     "output_type": "execute_result"
    }
   ],
   "source": [
    "dat[:6]"
   ]
  },
  {
   "cell_type": "code",
   "execution_count": 35,
   "metadata": {},
   "outputs": [
    {
     "data": {
      "text/plain": [
       "(150, 2)"
      ]
     },
     "execution_count": 35,
     "metadata": {},
     "output_type": "execute_result"
    }
   ],
   "source": [
    "tsne = TSNE(n_jobs=8, random_state=123).fit_transform(dat)\n",
    "tsne.shape"
   ]
  },
  {
   "cell_type": "markdown",
   "metadata": {},
   "source": [
    "# Apply multicore t-SNE on our data"
   ]
  },
  {
   "cell_type": "code",
   "execution_count": 36,
   "metadata": {},
   "outputs": [
    {
     "data": {
      "text/html": [
       "<div>\n",
       "<style scoped>\n",
       "    .dataframe tbody tr th:only-of-type {\n",
       "        vertical-align: middle;\n",
       "    }\n",
       "\n",
       "    .dataframe tbody tr th {\n",
       "        vertical-align: top;\n",
       "    }\n",
       "\n",
       "    .dataframe thead th {\n",
       "        text-align: right;\n",
       "    }\n",
       "</style>\n",
       "<table border=\"1\" class=\"dataframe\">\n",
       "  <thead>\n",
       "    <tr style=\"text-align: right;\">\n",
       "      <th></th>\n",
       "      <th>sample</th>\n",
       "      <th>cluster</th>\n",
       "      <th>FSC-A</th>\n",
       "      <th>SSC-A</th>\n",
       "      <th>Aqua</th>\n",
       "      <th>CD3</th>\n",
       "      <th>CD4</th>\n",
       "      <th>CD8</th>\n",
       "      <th>TNFa</th>\n",
       "      <th>IL2</th>\n",
       "      <th>IFNg</th>\n",
       "      <th>CD107a</th>\n",
       "    </tr>\n",
       "  </thead>\n",
       "  <tbody>\n",
       "    <tr>\n",
       "      <th>0</th>\n",
       "      <td>1</td>\n",
       "      <td>4</td>\n",
       "      <td>-1.141636</td>\n",
       "      <td>-0.099866</td>\n",
       "      <td>-0.421067</td>\n",
       "      <td>0.776101</td>\n",
       "      <td>2.273135</td>\n",
       "      <td>0.644450</td>\n",
       "      <td>-0.193783</td>\n",
       "      <td>-0.020157</td>\n",
       "      <td>-0.273449</td>\n",
       "      <td>0.607103</td>\n",
       "    </tr>\n",
       "    <tr>\n",
       "      <th>1</th>\n",
       "      <td>1</td>\n",
       "      <td>3</td>\n",
       "      <td>-0.840589</td>\n",
       "      <td>-0.738581</td>\n",
       "      <td>1.240796</td>\n",
       "      <td>-0.422247</td>\n",
       "      <td>-0.565880</td>\n",
       "      <td>0.655721</td>\n",
       "      <td>-0.611852</td>\n",
       "      <td>-0.023774</td>\n",
       "      <td>-0.349649</td>\n",
       "      <td>-0.037570</td>\n",
       "    </tr>\n",
       "    <tr>\n",
       "      <th>2</th>\n",
       "      <td>1</td>\n",
       "      <td>1</td>\n",
       "      <td>0.510718</td>\n",
       "      <td>-0.846094</td>\n",
       "      <td>-1.059825</td>\n",
       "      <td>-0.366179</td>\n",
       "      <td>-0.588925</td>\n",
       "      <td>-1.852735</td>\n",
       "      <td>-1.184041</td>\n",
       "      <td>-0.034473</td>\n",
       "      <td>-0.425907</td>\n",
       "      <td>-0.026722</td>\n",
       "    </tr>\n",
       "    <tr>\n",
       "      <th>3</th>\n",
       "      <td>1</td>\n",
       "      <td>4</td>\n",
       "      <td>-1.568180</td>\n",
       "      <td>-0.579970</td>\n",
       "      <td>-0.558817</td>\n",
       "      <td>0.231985</td>\n",
       "      <td>1.841521</td>\n",
       "      <td>-0.150230</td>\n",
       "      <td>-0.559565</td>\n",
       "      <td>0.021467</td>\n",
       "      <td>-0.510098</td>\n",
       "      <td>-0.013919</td>\n",
       "    </tr>\n",
       "    <tr>\n",
       "      <th>4</th>\n",
       "      <td>1</td>\n",
       "      <td>8</td>\n",
       "      <td>-1.537123</td>\n",
       "      <td>0.324638</td>\n",
       "      <td>-0.253565</td>\n",
       "      <td>-0.677213</td>\n",
       "      <td>2.087219</td>\n",
       "      <td>-1.316632</td>\n",
       "      <td>-0.645375</td>\n",
       "      <td>-0.221684</td>\n",
       "      <td>-0.888717</td>\n",
       "      <td>0.150537</td>\n",
       "    </tr>\n",
       "  </tbody>\n",
       "</table>\n",
       "</div>"
      ],
      "text/plain": [
       "   sample  cluster     FSC-A     SSC-A      Aqua       CD3       CD4  \\\n",
       "0       1        4 -1.141636 -0.099866 -0.421067  0.776101  2.273135   \n",
       "1       1        3 -0.840589 -0.738581  1.240796 -0.422247 -0.565880   \n",
       "2       1        1  0.510718 -0.846094 -1.059825 -0.366179 -0.588925   \n",
       "3       1        4 -1.568180 -0.579970 -0.558817  0.231985  1.841521   \n",
       "4       1        8 -1.537123  0.324638 -0.253565 -0.677213  2.087219   \n",
       "\n",
       "        CD8      TNFa       IL2      IFNg    CD107a  \n",
       "0  0.644450 -0.193783 -0.020157 -0.273449  0.607103  \n",
       "1  0.655721 -0.611852 -0.023774 -0.349649 -0.037570  \n",
       "2 -1.852735 -1.184041 -0.034473 -0.425907 -0.026722  \n",
       "3 -0.150230 -0.559565  0.021467 -0.510098 -0.013919  \n",
       "4 -1.316632 -0.645375 -0.221684 -0.888717  0.150537  "
      ]
     },
     "execution_count": 36,
     "metadata": {},
     "output_type": "execute_result"
    }
   ],
   "source": [
    "dat_mpsk_raw.head()"
   ]
  },
  {
   "cell_type": "code",
   "execution_count": 55,
   "metadata": {},
   "outputs": [
    {
     "name": "stdout",
     "output_type": "stream",
     "text": [
      "CPU times: user 1h 9min 23s, sys: 964 ms, total: 1h 9min 24s\n",
      "Wall time: 8min 50s\n"
     ]
    }
   ],
   "source": [
    "%%time\n",
    "\n",
    "mat  = dat_mpsk_raw.drop(['sample', 'cluster'], axis = 1).values\n",
    "tsne = TSNE(n_jobs=8, random_state=123).fit_transform(mat)\n",
    "np.savetxt(os.path.join(dat_dir, \"ep8cs_tsne_raw.txt\"), tsne, delimiter = \"\\t\")"
   ]
  },
  {
   "cell_type": "code",
   "execution_count": 56,
   "metadata": {},
   "outputs": [
    {
     "name": "stdout",
     "output_type": "stream",
     "text": [
      "CPU times: user 19min 31s, sys: 376 ms, total: 19min 31s\n",
      "Wall time: 7min 54s\n"
     ]
    }
   ],
   "source": [
    "%%time\n",
    "\n",
    "mat  = dat_mpsk_cal.drop(['sample', 'cluster'], axis = 1).values\n",
    "tsne = TSNE(n_jobs=8, random_state=123).fit_transform(mat)\n",
    "np.savetxt(os.path.join(dat_dir, \"ep8cs_tsne_mpsk_cal.txt\"), tsne, delimiter = \"\\t\")"
   ]
  },
  {
   "cell_type": "code",
   "execution_count": 57,
   "metadata": {},
   "outputs": [
    {
     "name": "stdout",
     "output_type": "stream",
     "text": [
      "CPU times: user 19min, sys: 340 ms, total: 19min 1s\n",
      "Wall time: 7min 36s\n"
     ]
    }
   ],
   "source": [
    "%%time\n",
    "\n",
    "mat  = dat_gaussnorm.drop(['sample'], axis = 1).values\n",
    "tsne = TSNE(n_jobs=8, random_state=123).fit_transform(mat)\n",
    "np.savetxt(os.path.join(dat_dir, \"ep8cs_tsne_gaussnorm.txt\"), tsne, delimiter = \"\\t\")"
   ]
  }
 ],
 "metadata": {
  "kernelspec": {
   "display_name": "Python 3",
   "language": "python",
   "name": "python3"
  },
  "language_info": {
   "codemirror_mode": {
    "name": "ipython",
    "version": 3
   },
   "file_extension": ".py",
   "mimetype": "text/x-python",
   "name": "python",
   "nbconvert_exporter": "python",
   "pygments_lexer": "ipython3",
   "version": "3.6.6"
  }
 },
 "nbformat": 4,
 "nbformat_minor": 2
}
