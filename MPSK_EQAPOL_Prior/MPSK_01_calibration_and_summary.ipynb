{
 "cells": [
  {
   "cell_type": "markdown",
   "metadata": {},
   "source": [
    "# About the notebook"
   ]
  },
  {
   "cell_type": "markdown",
   "metadata": {},
   "source": [
    "notebook"
   ]
  },
  {
   "cell_type": "code",
   "execution_count": 1,
   "metadata": {},
   "outputs": [],
   "source": [
    "### libraries\n",
    "import numpy as np\n",
    "import pickle\n",
    "import glob\n",
    "import os\n",
    "import re\n",
    "\n",
    "from rpy2.robjects import r\n",
    "import matplotlib.pyplot as plt\n",
    "\n",
    "### helper function\n",
    "head = lambda x, n = 6: x[:n]\n",
    "tail = lambda x, n = 6: x[-n:]\n",
    "\n",
    "### set directories\n",
    "dat_dir01 = \"/data/SMPK\"\n",
    "dat_dir02 = \"/data/clintko/SMPK\""
   ]
  },
  {
   "cell_type": "code",
   "execution_count": 2,
   "metadata": {},
   "outputs": [],
   "source": [
    "%matplotlib inline\n",
    "%load_ext rpy2.ipython"
   ]
  },
  {
   "cell_type": "markdown",
   "metadata": {},
   "source": [
    "Setting R environment"
   ]
  },
  {
   "cell_type": "code",
   "execution_count": 3,
   "metadata": {},
   "outputs": [
    {
     "data": {
      "text/plain": [
       "Set Directories\n",
       "[1] \"/data/SMPK\"\n",
       "[1] \"/data/clintko/SMPK\"\n"
      ]
     },
     "metadata": {},
     "output_type": "display_data"
    }
   ],
   "source": [
    "%%R -i dat_dir01,dat_dir02\n",
    "\n",
    "suppressMessages(suppressWarnings(library(tidyverse)))\n",
    "library(MPSK)\n",
    "cat(\"Set Directories\\n\")\n",
    "print(dat_dir01)\n",
    "print(dat_dir02)"
   ]
  },
  {
   "cell_type": "markdown",
   "metadata": {},
   "source": [
    "result files"
   ]
  },
  {
   "cell_type": "code",
   "execution_count": 4,
   "metadata": {},
   "outputs": [
    {
     "name": "stdout",
     "output_type": "stream",
     "text": [
      "/data/SMPK/res_05_GEN070XT_CMVpp65.pic\n",
      "/data/SMPK/res_06_GEN070XT_CMVpp65.pic\n",
      "/data/SMPK/res_07_GEN070XT_CMVpp65.pic\n",
      "/data/SMPK/res_08_GEN070XT_CMVpp65.pic\n",
      "/data/SMPK/res_09_GEN070XT_CMVpp65.pic\n",
      "/data/SMPK/res_10_GEN070XT_CMVpp65.pic\n",
      "/data/SMPK/res_11_GEN070XT_CMVpp65.pic\n",
      "/data/SMPK/res_12_GEN070XT_CMVpp65.pic\n",
      "/data/SMPK/res_13_GEN070XT_CMVpp65.pic\n",
      "/data/SMPK/res_14_GEN070XT_CMVpp65.pic\n",
      "/data/SMPK/res_15_GEN070XT_CMVpp65.pic\n",
      "/data/SMPK/res_20_GEN070XT_CMVpp65.pic\n",
      "/data/SMPK/res_25_GEN070XT_CMVpp65.pic\n",
      "/data/SMPK/res_30_GEN070XT_CMVpp65.pic\n",
      "/data/SMPK/res_35_GEN070XT_CMVpp65.pic\n",
      "/data/SMPK/res_40_GEN070XT_CMVpp65.pic\n",
      "/data/SMPK/res_45_GEN070XT_CMVpp65.pic\n",
      "/data/SMPK/res_50_GEN070XT_CMVpp65.pic\n",
      "['05', '06', '07', '08', '09', '10', '11', '12', '13', '14', '15', '20', '25', '30', '35', '40', '45', '50']\n"
     ]
    }
   ],
   "source": [
    "fnames = !ls /data/SMPK/res_*_GEN070XT_CMVpp65.pic\n",
    "for fn in fnames:\n",
    "    print(fn)\n",
    "    \n",
    "priors = [re.search(\"res_(.*)_GEN070XT_CMVpp65.pic\", fn).group(1) for fn in fnames]\n",
    "r.assign(\"priors\", priors)\n",
    "print(priors)"
   ]
  },
  {
   "cell_type": "markdown",
   "metadata": {},
   "source": [
    "# Store each results"
   ]
  },
  {
   "cell_type": "code",
   "execution_count": 5,
   "metadata": {},
   "outputs": [
    {
     "name": "stdout",
     "output_type": "stream",
     "text": [
      "/data/SMPK/res_05_GEN070XT_CMVpp65.pic\n",
      "05\n",
      "/data/SMPK/res_06_GEN070XT_CMVpp65.pic\n",
      "06\n",
      "/data/SMPK/res_07_GEN070XT_CMVpp65.pic\n",
      "07\n",
      "/data/SMPK/res_08_GEN070XT_CMVpp65.pic\n",
      "08\n",
      "/data/SMPK/res_09_GEN070XT_CMVpp65.pic\n",
      "09\n",
      "/data/SMPK/res_10_GEN070XT_CMVpp65.pic\n",
      "10\n",
      "/data/SMPK/res_11_GEN070XT_CMVpp65.pic\n",
      "11\n",
      "/data/SMPK/res_12_GEN070XT_CMVpp65.pic\n",
      "12\n",
      "/data/SMPK/res_13_GEN070XT_CMVpp65.pic\n",
      "13\n",
      "/data/SMPK/res_14_GEN070XT_CMVpp65.pic\n",
      "14\n",
      "/data/SMPK/res_15_GEN070XT_CMVpp65.pic\n",
      "15\n",
      "/data/SMPK/res_20_GEN070XT_CMVpp65.pic\n",
      "20\n",
      "/data/SMPK/res_25_GEN070XT_CMVpp65.pic\n",
      "25\n",
      "/data/SMPK/res_30_GEN070XT_CMVpp65.pic\n",
      "30\n",
      "/data/SMPK/res_35_GEN070XT_CMVpp65.pic\n",
      "35\n",
      "/data/SMPK/res_40_GEN070XT_CMVpp65.pic\n",
      "40\n",
      "/data/SMPK/res_45_GEN070XT_CMVpp65.pic\n",
      "45\n",
      "/data/SMPK/res_50_GEN070XT_CMVpp65.pic\n",
      "50\n"
     ]
    }
   ],
   "source": [
    "for fn in fnames:\n",
    "    ### subtract the prior number of each results \n",
    "    prior = re.search(\"res_(.*)_GEN070XT_CMVpp65.pic\", fn).group(1)\n",
    "    \n",
    "    ### read in the \n",
    "    print(fn)\n",
    "    print(prior)\n",
    "    with open(fn, 'rb') as f:\n",
    "        res = pickle.load(f)\n",
    "        r.assign(\"res_p\" + prior, res)"
   ]
  },
  {
   "cell_type": "code",
   "execution_count": 6,
   "metadata": {},
   "outputs": [
    {
     "data": {
      "text/plain": [
       "[1] \"res_p05\"\n",
       "[1] \"res_p06\"\n",
       "[1] \"res_p07\"\n",
       "[1] \"res_p08\"\n",
       "[1] \"res_p09\"\n",
       "[1] \"res_p10\"\n",
       "[1] \"res_p11\"\n",
       "[1] \"res_p12\"\n",
       "[1] \"res_p13\"\n",
       "[1] \"res_p14\"\n",
       "[1] \"res_p15\"\n",
       "[1] \"res_p20\"\n",
       "[1] \"res_p25\"\n",
       "[1] \"res_p30\"\n",
       "[1] \"res_p35\"\n",
       "[1] \"res_p40\"\n",
       "[1] \"res_p45\"\n",
       "[1] \"res_p50\"\n"
      ]
     },
     "metadata": {},
     "output_type": "display_data"
    }
   ],
   "source": [
    "%%R\n",
    "\n",
    "for (idx in 1:length(priors)) {\n",
    "    ### set prior and variable name\n",
    "    prior = priors[idx]\n",
    "    varname = paste0(\"res_p\", prior)\n",
    "    print(varname)\n",
    "    \n",
    "    ### MPSK calibration and summarization\n",
    "    lst = list()\n",
    "    res = eval(parse(text = varname))\n",
    "    #resRelab      = relabelChain(res)\n",
    "    #resCalibrated = calibrate(resRelab)\n",
    "    #chainSummary  = summarizeChain(resRelab)\n",
    "    lst[[1]] = relabelChain(res)\n",
    "    lst[[2]] = calibrate(lst[[1]])\n",
    "    lst[[3]] = summarizeChain(lst[[1]])\n",
    "    names(lst) = c(\"Relab\", \"Calibrated\", \"ChainSummary\")\n",
    "    \n",
    "    ### store\n",
    "    fname = paste0(\"ep8cs_mpsk_prior\", prior, \".RDS\")\n",
    "    saveRDS(lst, file.path(dat_dir02, fname))\n",
    "} # end for loop"
   ]
  },
  {
   "cell_type": "code",
   "execution_count": null,
   "metadata": {},
   "outputs": [],
   "source": []
  }
 ],
 "metadata": {
  "kernelspec": {
   "display_name": "Python 3",
   "language": "python",
   "name": "python3"
  },
  "language_info": {
   "codemirror_mode": {
    "name": "ipython",
    "version": 3
   },
   "file_extension": ".py",
   "mimetype": "text/x-python",
   "name": "python",
   "nbconvert_exporter": "python",
   "pygments_lexer": "ipython3",
   "version": "3.6.6"
  }
 },
 "nbformat": 4,
 "nbformat_minor": 2
}
