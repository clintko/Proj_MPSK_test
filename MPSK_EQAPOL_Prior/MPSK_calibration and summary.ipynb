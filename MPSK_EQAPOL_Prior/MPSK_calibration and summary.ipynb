{
 "cells": [
  {
   "cell_type": "markdown",
   "metadata": {},
   "source": [
    "# About the notebook"
   ]
  },
  {
   "cell_type": "markdown",
   "metadata": {},
   "source": [
    "Setting Python environment"
   ]
  },
  {
   "cell_type": "code",
   "execution_count": 1,
   "metadata": {},
   "outputs": [],
   "source": [
    "### libraries\n",
    "import numpy as np\n",
    "import pickle\n",
    "import glob\n",
    "import os\n",
    "import re\n",
    "\n",
    "from rpy2.robjects import r\n",
    "import matplotlib.pyplot as plt\n",
    "\n",
    "### helper function\n",
    "head = lambda x, n = 6: x[:n]\n",
    "tail = lambda x, n = 6: x[-n:]\n",
    "\n",
    "### set directories\n",
    "dat_dir01 = \"/data/SMPK\"\n",
    "dat_dir02 = \"/data/clintko/SMPK\""
   ]
  },
  {
   "cell_type": "code",
   "execution_count": 2,
   "metadata": {},
   "outputs": [],
   "source": [
    "%matplotlib inline\n",
    "%load_ext rpy2.ipython"
   ]
  },
  {
   "cell_type": "markdown",
   "metadata": {},
   "source": [
    "Setting R environment"
   ]
  },
  {
   "cell_type": "code",
   "execution_count": 3,
   "metadata": {},
   "outputs": [
    {
     "data": {
      "text/plain": [
       "Set Directories\n",
       "[1] \"/data/SMPK\"\n",
       "[1] \"/data/clintko/SMPK\"\n"
      ]
     },
     "metadata": {},
     "output_type": "display_data"
    }
   ],
   "source": [
    "%%R -i dat_dir01,dat_dir02\n",
    "\n",
    "suppressMessages(suppressWarnings(library(tidyverse)))\n",
    "library(MPSK)\n",
    "cat(\"Set Directories\\n\")\n",
    "print(dat_dir01)\n",
    "print(dat_dir02)"
   ]
  },
  {
   "cell_type": "markdown",
   "metadata": {},
   "source": [
    "result files"
   ]
  },
  {
   "cell_type": "code",
   "execution_count": 4,
   "metadata": {},
   "outputs": [
    {
     "name": "stdout",
     "output_type": "stream",
     "text": [
      "/data/SMPK/res_05_GEN070XT_CMVpp65.pic\n",
      "/data/SMPK/res_06_GEN070XT_CMVpp65.pic\n",
      "/data/SMPK/res_07_GEN070XT_CMVpp65.pic\n",
      "/data/SMPK/res_08_GEN070XT_CMVpp65.pic\n",
      "/data/SMPK/res_09_GEN070XT_CMVpp65.pic\n",
      "/data/SMPK/res_10_GEN070XT_CMVpp65.pic\n",
      "/data/SMPK/res_11_GEN070XT_CMVpp65.pic\n",
      "/data/SMPK/res_12_GEN070XT_CMVpp65.pic\n",
      "/data/SMPK/res_13_GEN070XT_CMVpp65.pic\n",
      "/data/SMPK/res_14_GEN070XT_CMVpp65.pic\n",
      "/data/SMPK/res_15_GEN070XT_CMVpp65.pic\n",
      "/data/SMPK/res_20_GEN070XT_CMVpp65.pic\n",
      "/data/SMPK/res_25_GEN070XT_CMVpp65.pic\n",
      "/data/SMPK/res_30_GEN070XT_CMVpp65.pic\n",
      "/data/SMPK/res_35_GEN070XT_CMVpp65.pic\n",
      "/data/SMPK/res_40_GEN070XT_CMVpp65.pic\n",
      "/data/SMPK/res_45_GEN070XT_CMVpp65.pic\n",
      "/data/SMPK/res_50_GEN070XT_CMVpp65.pic\n"
     ]
    }
   ],
   "source": [
    "fnames = !ls /data/SMPK/res_*_GEN070XT_CMVpp65.pic\n",
    "for fn in fnames:\n",
    "    print(fn)"
   ]
  },
  {
   "cell_type": "code",
   "execution_count": 5,
   "metadata": {},
   "outputs": [
    {
     "name": "stdout",
     "output_type": "stream",
     "text": [
      "['05', '06', '07', '08', '09', '10', '11', '12', '13', '14', '15', '20', '25', '30', '35', '40', '45', '50']\n"
     ]
    }
   ],
   "source": [
    "priors = [re.search(\"res_(.*)_GEN070XT_CMVpp65.pic\", fn).group(1) for fn in fnames]\n",
    "r.assign(\"priors\", priors)\n",
    "print(priors)"
   ]
  },
  {
   "cell_type": "markdown",
   "metadata": {},
   "source": [
    "# import data"
   ]
  },
  {
   "cell_type": "code",
   "execution_count": 6,
   "metadata": {},
   "outputs": [
    {
     "name": "stdout",
     "output_type": "stream",
     "text": [
      "/data/SMPK/res_05_GEN070XT_CMVpp65.pic\n",
      "05\n",
      "/data/SMPK/res_06_GEN070XT_CMVpp65.pic\n",
      "06\n",
      "/data/SMPK/res_07_GEN070XT_CMVpp65.pic\n",
      "07\n",
      "/data/SMPK/res_08_GEN070XT_CMVpp65.pic\n",
      "08\n",
      "/data/SMPK/res_09_GEN070XT_CMVpp65.pic\n",
      "09\n",
      "/data/SMPK/res_10_GEN070XT_CMVpp65.pic\n",
      "10\n",
      "/data/SMPK/res_11_GEN070XT_CMVpp65.pic\n",
      "11\n",
      "/data/SMPK/res_12_GEN070XT_CMVpp65.pic\n",
      "12\n",
      "/data/SMPK/res_13_GEN070XT_CMVpp65.pic\n",
      "13\n",
      "/data/SMPK/res_14_GEN070XT_CMVpp65.pic\n",
      "14\n",
      "/data/SMPK/res_15_GEN070XT_CMVpp65.pic\n",
      "15\n",
      "/data/SMPK/res_20_GEN070XT_CMVpp65.pic\n",
      "20\n",
      "/data/SMPK/res_25_GEN070XT_CMVpp65.pic\n",
      "25\n",
      "/data/SMPK/res_30_GEN070XT_CMVpp65.pic\n",
      "30\n",
      "/data/SMPK/res_35_GEN070XT_CMVpp65.pic\n",
      "35\n",
      "/data/SMPK/res_40_GEN070XT_CMVpp65.pic\n",
      "40\n",
      "/data/SMPK/res_45_GEN070XT_CMVpp65.pic\n",
      "45\n",
      "/data/SMPK/res_50_GEN070XT_CMVpp65.pic\n",
      "50\n"
     ]
    }
   ],
   "source": [
    "for fn in fnames:\n",
    "    ### subtract the prior number of each results \n",
    "    prior = re.search(\"res_(.*)_GEN070XT_CMVpp65.pic\", fn).group(1)\n",
    "    \n",
    "    ### read in the \n",
    "    print(fn)\n",
    "    print(prior)\n",
    "    with open(fn, 'rb') as f:\n",
    "        res = pickle.load(f)\n",
    "        r.assign(\"res_p\" + prior, res)"
   ]
  },
  {
   "cell_type": "code",
   "execution_count": 7,
   "metadata": {},
   "outputs": [
    {
     "data": {
      "text/plain": [
       " [1] \"res_p05\" \"res_p06\" \"res_p07\" \"res_p08\" \"res_p09\" \"res_p10\" \"res_p11\"\n",
       " [8] \"res_p12\" \"res_p13\" \"res_p14\" \"res_p15\" \"res_p20\" \"res_p25\" \"res_p30\"\n",
       "[15] \"res_p35\" \"res_p40\" \"res_p45\" \"res_p50\"\n",
       "=======================\n",
       "[1] \"chain\" \"data\"  \"prior\" \"pmc\"  \n",
       "[1] \"chain\" \"data\"  \"prior\" \"pmc\"  \n",
       "[1] \"MPSK\"\n",
       "[1] \"MPSK\"\n"
      ]
     },
     "metadata": {},
     "output_type": "display_data"
    }
   ],
   "source": [
    "%%R\n",
    "print(grep(\"res\", ls(), value = TRUE))\n",
    "cat(\"=======================\\n\")\n",
    "print(names(res_p05))\n",
    "print(names(res_p06))\n",
    "print(class(res_p05))\n",
    "print(class(res_p06))"
   ]
  },
  {
   "cell_type": "markdown",
   "metadata": {},
   "source": [
    "Markers"
   ]
  },
  {
   "cell_type": "code",
   "execution_count": 8,
   "metadata": {},
   "outputs": [
    {
     "name": "stderr",
     "output_type": "stream",
     "text": [
      "/local_data/env-py3/lib/python3.6/site-packages/rpy2/rinterface/__init__.py:145: RRuntimeWarning: Parsed with column specification:\n",
      "cols(\n",
      "  X1 = col_character()\n",
      ")\n",
      "\n",
      "  warnings.warn(x, RRuntimeWarning)\n"
     ]
    },
    {
     "data": {
      "text/plain": [
       "# A tibble: 10 x 3\n",
       "   label  color      measure\n",
       "   <chr>  <chr>      <chr>  \n",
       " 1 FSC-A  FSC-A      FSC-A  \n",
       " 2 SSC-A  SSC-A      SSC-A  \n",
       " 3 Aqua   Amine      FLR-A  \n",
       " 4 CD3    APC-H7     FLR-A  \n",
       " 5 CD4    PE-Cy7     FLR-A  \n",
       " 6 CD8    PerCP-Cy55 FLR-A  \n",
       " 7 TNFa   FITC       FLR-A  \n",
       " 8 IL2    BV421      FLR-A  \n",
       " 9 IFNg   APC        FLR-A  \n",
       "10 CD107a PE         FLR-A  \n"
      ]
     },
     "metadata": {},
     "output_type": "display_data"
    }
   ],
   "source": [
    "%%R -i dat_dir01\n",
    "\n",
    "### read markers data and arrange markers\n",
    "markers = read_table(file.path(dat_dir01, \"markers.txt\"), col_names = FALSE)\n",
    "markers = separate(\n",
    "    markers, \n",
    "    col  = \"X1\", \n",
    "    into = c(\"label\", \"color\", \"measure\"), \n",
    "    sep  = \" \")\n",
    "### assign scatter names\n",
    "markers$color[1:2]   = c(\"FSC-A\", \"SSC-A\")\n",
    "markers$measure[1:2] = c(\"FSC-A\", \"SSC-A\")\n",
    "### print the results\n",
    "markers"
   ]
  },
  {
   "cell_type": "markdown",
   "metadata": {},
   "source": [
    "# Calibration and Summarize"
   ]
  },
  {
   "cell_type": "markdown",
   "metadata": {},
   "source": [
    "The code for calibration and summarizing\n",
    "```\n",
    "resRelab      = relabelChain(res)\n",
    "resCalibrated = calibrate(resRelab)\n",
    "chainSummary  = summarizeChain(resRelab)\n",
    "```"
   ]
  },
  {
   "cell_type": "markdown",
   "metadata": {},
   "source": [
    "Reference for the code below\n",
    "- [Converting a String to a Variable Name On-The-Fly and Vice-versa in R](https://stackoverflow.com/questions/6034655/convert-string-to-a-variable-name)\n",
    "- [Convert string to a variable name\n",
    "](https://www.r-bloggers.com/converting-a-string-to-a-variable-name-on-the-fly-and-vice-versa-in-r/)"
   ]
  },
  {
   "cell_type": "markdown",
   "metadata": {},
   "source": [
    "testing the MPSK results"
   ]
  },
  {
   "cell_type": "markdown",
   "metadata": {},
   "source": [
    "```\n",
    "%%R\n",
    "varname = \"res_p05\"\n",
    "tmp = eval(parse(text = varname))\n",
    "print(class(tmp))\n",
    "print(names(tmp))\n",
    "cat(\"===================\\n\")\n",
    "tmp_relab     = relabelChain(tmp)\n",
    "print(class(tmp_relab))\n",
    "print(names(tmp_relab))\n",
    "cat(\"===================\\n\")\n",
    "tmp_cal       = calibrate(tmp_relab)\n",
    "print(class(tmp_cal))\n",
    "print(names(tmp_cal))\n",
    "cat(\"===================\\n\")\n",
    "tmp_chain_sum = summarizeChain(tmp_relab)\n",
    "print(class(tmp_chain_sum))\n",
    "print(names(tmp_chain_sum))\n",
    "```"
   ]
  },
  {
   "cell_type": "markdown",
   "metadata": {},
   "source": [
    "```\n",
    "%%R\n",
    "### initialization\n",
    "lst_relab        = list()\n",
    "lst_calibrated   = list()\n",
    "lst_chainSummary = list()\n",
    "\n",
    "for (idx in 1:2) {\n",
    "    ### set prior and variable name\n",
    "    prior = priors[idx]\n",
    "    varname = paste0(\"res_p\", prior)\n",
    "    #print(varname)\n",
    "    \n",
    "    ### MPSK calibration and summarization\n",
    "    res = eval(parse(text = varname))\n",
    "    resRelab      = relabelChain(res)\n",
    "    resCalibrated = calibrate(resRelab)\n",
    "    chainSummary  = summarizeChain(resRelab)\n",
    "    \n",
    "    ### observe the results\n",
    "    cat(\"###################\\n\")\n",
    "    cat(varname, \"res\\n\")\n",
    "    print(class(res))\n",
    "    print(names(res))\n",
    "    cat(\"===================\\n\")\n",
    "    cat(\"resRelab\\n\")\n",
    "    print(class(resRelab))\n",
    "    print(names(resRelab))\n",
    "    cat(\"===================\\n\")\n",
    "    cat(\"resCalibrated\\n\")\n",
    "    print(class(resCalibrated))\n",
    "    print(names(resCalibrated))\n",
    "    cat(\"===================\\n\")\n",
    "    cat(\"chainSummary\\n\")\n",
    "    print(class(chainSummary))\n",
    "    print(names(chainSummary))\n",
    "   \n",
    "    \n",
    "    ### store\n",
    "    lst_relab[[idx]]        = resRelab\n",
    "    lst_calibrated[[idx]]   = resCalibrated\n",
    "    lst_chainSummary[[idx]] = chainSummary\n",
    "    \n",
    "    ### Recheck the results\n",
    "    cat(\"+++++++++++++++++++\\n\")\n",
    "    cat(\"tmp_relab\\n\")\n",
    "    tmp_relab     = lst_relab[[idx]]\n",
    "    print(class(tmp_relab))\n",
    "    print(names(tmp_relab))\n",
    "    cat(\"===================\\n\")\n",
    "    cat(\"tmp_cal\\n\")\n",
    "    tmp_cal       = lst_calibrated[[idx]]\n",
    "    print(class(tmp_cal))\n",
    "    print(names(tmp_cal))\n",
    "    cat(\"===================\\n\")\n",
    "    cat(\"tmp_chain_sum\\n\")\n",
    "    tmp_chain_sum = lst_chainSummary[[idx]]\n",
    "    print(class(tmp_chain_sum))\n",
    "    print(names(tmp_chain_sum))\n",
    "    \n",
    "    ###\n",
    "    #varname = paste0(\"res_p\", prior, \"_calibrate\")\n",
    "    #assign(varname, resCalibrated)\n",
    "    ###\n",
    "    #varname = paste0(\"res_p\", prior, \"_chain_sum\")\n",
    "    #assign(varname, chainSummary)\n",
    "} # end for loop\n",
    "```"
   ]
  },
  {
   "cell_type": "markdown",
   "metadata": {},
   "source": [
    "Calibrate and summarize all the files"
   ]
  },
  {
   "cell_type": "code",
   "execution_count": 9,
   "metadata": {
    "scrolled": true
   },
   "outputs": [
    {
     "name": "stdout",
     "output_type": "stream",
     "text": [
      "[1] \"res_p05\"\n",
      "[1] \"res_p06\"\n",
      "[1] \"res_p07\"\n",
      "[1] \"res_p08\"\n",
      "[1] \"res_p09\"\n",
      "[1] \"res_p10\"\n",
      "[1] \"res_p11\"\n",
      "[1] \"res_p12\"\n",
      "[1] \"res_p13\"\n",
      "[1] \"res_p14\"\n",
      "[1] \"res_p15\"\n",
      "[1] \"res_p20\"\n",
      "Error in calib(x$data$Y, matrix(C, ncol = 1), Z, x$chain$xi, dim(x$chain$xi),  : \n",
      "  std::bad_alloc\n"
     ]
    },
    {
     "name": "stderr",
     "output_type": "stream",
     "text": [
      "/local_data/env-py3/lib/python3.6/site-packages/rpy2/rinterface/__init__.py:145: RRuntimeWarning: \n",
      "error: \n",
      "  warnings.warn(x, RRuntimeWarning)\n",
      "/local_data/env-py3/lib/python3.6/site-packages/rpy2/rinterface/__init__.py:145: RRuntimeWarning: arma::memory::acquire(): out of memory\n",
      "  warnings.warn(x, RRuntimeWarning)\n",
      "/local_data/env-py3/lib/python3.6/site-packages/rpy2/rinterface/__init__.py:145: RRuntimeWarning: \n",
      "\n",
      "  warnings.warn(x, RRuntimeWarning)\n",
      "/local_data/env-py3/lib/python3.6/site-packages/rpy2/rinterface/__init__.py:145: RRuntimeWarning: Error in calib(x$data$Y, matrix(C, ncol = 1), Z, x$chain$xi, dim(x$chain$xi),  : \n",
      "  std::bad_alloc\n",
      "\n",
      "  warnings.warn(x, RRuntimeWarning)\n",
      "/local_data/env-py3/lib/python3.6/site-packages/rpy2/rinterface/__init__.py:145: RRuntimeWarning: In addition: \n",
      "  warnings.warn(x, RRuntimeWarning)\n",
      "/local_data/env-py3/lib/python3.6/site-packages/rpy2/rinterface/__init__.py:145: RRuntimeWarning: Warning message:\n",
      "\n",
      "  warnings.warn(x, RRuntimeWarning)\n",
      "/local_data/env-py3/lib/python3.6/site-packages/rpy2/rinterface/__init__.py:145: RRuntimeWarning: Expected 3 pieces. Missing pieces filled with `NA` in 2 rows [1, 2]. \n",
      "\n",
      "  warnings.warn(x, RRuntimeWarning)\n"
     ]
    }
   ],
   "source": [
    "%%R\n",
    "\n",
    "### initialization\n",
    "lst_relab        = list()\n",
    "lst_calibrated   = list()\n",
    "lst_chainSummary = list()\n",
    "\n",
    "for (idx in 1:length(priors)) {\n",
    "    ### set prior and variable name\n",
    "    prior = priors[idx]\n",
    "    varname = paste0(\"res_p\", prior)\n",
    "    print(varname)\n",
    "    \n",
    "    ### MPSK calibration and summarization\n",
    "    res = eval(parse(text = varname))\n",
    "    resRelab      = relabelChain(res)\n",
    "    resCalibrated = calibrate(resRelab)\n",
    "    chainSummary  = summarizeChain(resRelab)\n",
    "    \n",
    "    ### store\n",
    "    lst_relab[[idx]]        = resRelab\n",
    "    lst_calibrated[[idx]]   = resCalibrated\n",
    "    lst_chainSummary[[idx]] = chainSummary\n",
    "} # end for loop\n",
    "\n",
    "### reset the name of lists\n",
    "names(lst_relab)        = priors\n",
    "names(lst_calibrated)   = priors\n",
    "names(lst_chainSummary) = priors"
   ]
  },
  {
   "cell_type": "code",
   "execution_count": 19,
   "metadata": {},
   "outputs": [
    {
     "name": "stdout",
     "output_type": "stream",
     "text": [
      "[1] \"MPSK\"\n",
      "[1] \"chain\" \"data\"  \"prior\" \"pmc\"  \n",
      "===================\n",
      "[1] \"MPSK\"\n",
      "[1] \"chain\" \"data\"  \"prior\" \"pmc\"  \n",
      "===================\n",
      "Error in calib(x$data$Y, matrix(C, ncol = 1), Z, x$chain$xi, dim(x$chain$xi),  : \n",
      "  std::bad_alloc\n"
     ]
    }
   ],
   "source": [
    "%%R\n",
    "varname = \"res_p06\"\n",
    "tmp = eval(parse(text = varname))\n",
    "print(class(tmp))\n",
    "print(names(tmp))\n",
    "cat(\"===================\\n\")\n",
    "tmp_relab     = relabelChain(tmp)\n",
    "print(class(tmp_relab))\n",
    "print(names(tmp_relab))\n",
    "cat(\"===================\\n\")\n",
    "tmp_cal       = calibrate(tmp_relab)\n",
    "print(class(tmp_cal))\n",
    "print(names(tmp_cal))\n",
    "cat(\"===================\\n\")\n",
    "tmp_chain_sum = summarizeChain(tmp_relab)\n",
    "print(class(tmp_chain_sum))\n",
    "print(names(tmp_chain_sum))"
   ]
  },
  {
   "cell_type": "markdown",
   "metadata": {},
   "source": [
    "check the #{samples} of the results"
   ]
  },
  {
   "cell_type": "code",
   "execution_count": 10,
   "metadata": {},
   "outputs": [
    {
     "data": {
      "text/plain": [
       "[1] 11\n",
       "[1] 11\n",
       "[1] 11\n"
      ]
     },
     "metadata": {},
     "output_type": "display_data"
    }
   ],
   "source": [
    "%%R\n",
    "print(length(lst_relab))\n",
    "print(length(lst_calibrated))\n",
    "print(length(lst_chainSummary))"
   ]
  },
  {
   "cell_type": "code",
   "execution_count": 11,
   "metadata": {},
   "outputs": [
    {
     "name": "stdout",
     "output_type": "stream",
     "text": [
      "[1] \"Prior: 05\"\n",
      "Error in `colnames<-`(`*tmp*`, value = markers$label) : \n",
      "  attempt to set 'colnames' on an object with less than two dimensions\n"
     ]
    },
    {
     "name": "stderr",
     "output_type": "stream",
     "text": [
      "/local_data/env-py3/lib/python3.6/site-packages/rpy2/rinterface/__init__.py:145: RRuntimeWarning: Error in `colnames<-`(`*tmp*`, value = markers$label) : \n",
      "  attempt to set 'colnames' on an object with less than two dimensions\n",
      "\n",
      "  warnings.warn(x, RRuntimeWarning)\n"
     ]
    }
   ],
   "source": [
    "%%R\n",
    "### init\n",
    "lst_dat_mpsk_raw = list()\n",
    "lst_dat_mpsk_cal = list()\n",
    "\n",
    "### loop through each prior\n",
    "for (prior in priors) {\n",
    "    ### get \n",
    "    print(paste(\"Prior:\", prior))\n",
    "    resRelab      = lst_relab[[prior]]\n",
    "    resCalibrated = lst_calibrated[[prior]]\n",
    "    chainSummary  = lst_chainSummary[[prior]]\n",
    "    \n",
    "    ### extract needed data\n",
    "    clust = chainSummary$t\n",
    "    C     = resRelab$data$C\n",
    "    Y_raw = resRelab$data$Y\n",
    "    Y_cal = resCalibrated$Y_cal\n",
    "    C0    = resRelab$data$C %>% as.vector %>% str_pad(., 2, pad = \"0\")\n",
    "\n",
    "    ### assign column names\n",
    "    colnames(Y_raw) = markers$label\n",
    "    colnames(Y_cal) = markers$label\n",
    "\n",
    "    ### combine MPSK cluster label with raw data\n",
    "    dat = cbind(C, clust, Y_raw) %>% as.data.frame\n",
    "    dat$V1 = C0\n",
    "    colnames(dat)[1:2] = c(\"sample\", \"cluster\")\n",
    "    lst_dat_mpsk_raw[[prior]] = dat\n",
    "    dat_mpsk_raw = dat\n",
    "\n",
    "    ### combine MPSK cluster label with calibrated data\n",
    "    dat = cbind(C, clust, Y_cal) %>% as.data.frame\n",
    "    dat$V1 = C0\n",
    "    colnames(dat)[1:2] = c(\"sample\", \"cluster\")\n",
    "    lst_dat_mpsk_cal[[prior]] = dat\n",
    "} # end for loop"
   ]
  },
  {
   "cell_type": "markdown",
   "metadata": {},
   "source": [
    "check the results"
   ]
  },
  {
   "cell_type": "code",
   "execution_count": 12,
   "metadata": {},
   "outputs": [
    {
     "data": {
      "text/plain": [
       "[1] 0\n",
       "[1] 0\n"
      ]
     },
     "metadata": {},
     "output_type": "display_data"
    }
   ],
   "source": [
    "%%R\n",
    "print(length(lst_dat_mpsk_raw))\n",
    "print(length(lst_dat_mpsk_cal))"
   ]
  },
  {
   "cell_type": "code",
   "execution_count": 13,
   "metadata": {},
   "outputs": [
    {
     "data": {
      "text/plain": [
       "[1] \"NULL\"\n",
       "NULL\n"
      ]
     },
     "metadata": {},
     "output_type": "display_data"
    }
   ],
   "source": [
    "%%R\n",
    "print(class(lst_dat_mpsk_raw[[\"05\"]]))\n",
    "print( head(lst_dat_mpsk_raw[[\"05\"]]))"
   ]
  },
  {
   "cell_type": "code",
   "execution_count": 14,
   "metadata": {},
   "outputs": [
    {
     "data": {
      "text/plain": [
       "[1] \"NULL\"\n",
       "NULL\n"
      ]
     },
     "metadata": {},
     "output_type": "display_data"
    }
   ],
   "source": [
    "%%R\n",
    "print(class(lst_dat_mpsk_cal[[\"05\"]]))\n",
    "print( head(lst_dat_mpsk_cal[[\"05\"]]))"
   ]
  },
  {
   "cell_type": "markdown",
   "metadata": {},
   "source": [
    "# Store the results"
   ]
  },
  {
   "cell_type": "markdown",
   "metadata": {},
   "source": [
    "store the results into RDS file"
   ]
  },
  {
   "cell_type": "code",
   "execution_count": 15,
   "metadata": {},
   "outputs": [
    {
     "name": "stdout",
     "output_type": "stream",
     "text": [
      "\n",
      "Error in saveRDS(dat_mpsk_raw, file.path(dat_dir02, \"ep8cs_priors_dat_mpsk_raw.RDS\")) : \n",
      "  object 'dat_mpsk_raw' not found\n"
     ]
    },
    {
     "name": "stderr",
     "output_type": "stream",
     "text": [
      "/local_data/env-py3/lib/python3.6/site-packages/rpy2/rinterface/__init__.py:145: RRuntimeWarning: Error in saveRDS(dat_mpsk_raw, file.path(dat_dir02, \"ep8cs_priors_dat_mpsk_raw.RDS\")) : \n",
      "  object 'dat_mpsk_raw' not found\n",
      "\n",
      "  warnings.warn(x, RRuntimeWarning)\n"
     ]
    }
   ],
   "source": [
    "%%R\n",
    "saveRDS(dat_mpsk_raw,  file.path(dat_dir02, \"ep8cs_priors_dat_mpsk_raw.RDS\"))\n",
    "saveRDS(dat_mpsk_cal,  file.path(dat_dir02, \"ep8cs_priors_dat_mpsk_cal.RDS\"))"
   ]
  },
  {
   "cell_type": "markdown",
   "metadata": {},
   "source": [
    "Check if the files really exists"
   ]
  },
  {
   "cell_type": "code",
   "execution_count": 16,
   "metadata": {},
   "outputs": [
    {
     "ename": "OSError",
     "evalue": "[Errno 12] Cannot allocate memory",
     "output_type": "error",
     "traceback": [
      "\u001b[0;31m---------------------------------------------------------------------------\u001b[0m",
      "\u001b[0;31mOSError\u001b[0m                                   Traceback (most recent call last)",
      "\u001b[0;32m<ipython-input-16-e9c242f8a754>\u001b[0m in \u001b[0;36m<module>\u001b[0;34m()\u001b[0m\n\u001b[0;32m----> 1\u001b[0;31m \u001b[0mget_ipython\u001b[0m\u001b[0;34m(\u001b[0m\u001b[0;34m)\u001b[0m\u001b[0;34m.\u001b[0m\u001b[0msystem\u001b[0m\u001b[0;34m(\u001b[0m\u001b[0;34m'ls /data/clintko/SMPK'\u001b[0m\u001b[0;34m)\u001b[0m\u001b[0;34m\u001b[0m\u001b[0;34m\u001b[0m\u001b[0m\n\u001b[0m",
      "\u001b[0;32m/local_data/env-py3/lib/python3.6/site-packages/IPython/core/interactiveshell.py\u001b[0m in \u001b[0;36msystem_piped\u001b[0;34m(self, cmd)\u001b[0m\n\u001b[1;32m   2223\u001b[0m         \u001b[0;31m# a non-None value would trigger :func:`sys.displayhook` calls.\u001b[0m\u001b[0;34m\u001b[0m\u001b[0;34m\u001b[0m\u001b[0;34m\u001b[0m\u001b[0m\n\u001b[1;32m   2224\u001b[0m         \u001b[0;31m# Instead, we store the exit_code in user_ns.\u001b[0m\u001b[0;34m\u001b[0m\u001b[0;34m\u001b[0m\u001b[0;34m\u001b[0m\u001b[0m\n\u001b[0;32m-> 2225\u001b[0;31m         \u001b[0mself\u001b[0m\u001b[0;34m.\u001b[0m\u001b[0muser_ns\u001b[0m\u001b[0;34m[\u001b[0m\u001b[0;34m'_exit_code'\u001b[0m\u001b[0;34m]\u001b[0m \u001b[0;34m=\u001b[0m \u001b[0msystem\u001b[0m\u001b[0;34m(\u001b[0m\u001b[0mself\u001b[0m\u001b[0;34m.\u001b[0m\u001b[0mvar_expand\u001b[0m\u001b[0;34m(\u001b[0m\u001b[0mcmd\u001b[0m\u001b[0;34m,\u001b[0m \u001b[0mdepth\u001b[0m\u001b[0;34m=\u001b[0m\u001b[0;36m1\u001b[0m\u001b[0;34m)\u001b[0m\u001b[0;34m)\u001b[0m\u001b[0;34m\u001b[0m\u001b[0;34m\u001b[0m\u001b[0m\n\u001b[0m\u001b[1;32m   2226\u001b[0m \u001b[0;34m\u001b[0m\u001b[0m\n\u001b[1;32m   2227\u001b[0m     \u001b[0;32mdef\u001b[0m \u001b[0msystem_raw\u001b[0m\u001b[0;34m(\u001b[0m\u001b[0mself\u001b[0m\u001b[0;34m,\u001b[0m \u001b[0mcmd\u001b[0m\u001b[0;34m)\u001b[0m\u001b[0;34m:\u001b[0m\u001b[0;34m\u001b[0m\u001b[0;34m\u001b[0m\u001b[0m\n",
      "\u001b[0;32m/local_data/env-py3/lib/python3.6/site-packages/IPython/utils/_process_posix.py\u001b[0m in \u001b[0;36msystem\u001b[0;34m(self, cmd)\u001b[0m\n\u001b[1;32m    154\u001b[0m                 \u001b[0mchild\u001b[0m \u001b[0;34m=\u001b[0m \u001b[0mpexpect\u001b[0m\u001b[0;34m.\u001b[0m\u001b[0mspawnb\u001b[0m\u001b[0;34m(\u001b[0m\u001b[0mself\u001b[0m\u001b[0;34m.\u001b[0m\u001b[0msh\u001b[0m\u001b[0;34m,\u001b[0m \u001b[0margs\u001b[0m\u001b[0;34m=\u001b[0m\u001b[0;34m[\u001b[0m\u001b[0;34m'-c'\u001b[0m\u001b[0;34m,\u001b[0m \u001b[0mcmd\u001b[0m\u001b[0;34m]\u001b[0m\u001b[0;34m)\u001b[0m \u001b[0;31m# Pexpect-U\u001b[0m\u001b[0;34m\u001b[0m\u001b[0;34m\u001b[0m\u001b[0m\n\u001b[1;32m    155\u001b[0m             \u001b[0;32melse\u001b[0m\u001b[0;34m:\u001b[0m\u001b[0;34m\u001b[0m\u001b[0;34m\u001b[0m\u001b[0m\n\u001b[0;32m--> 156\u001b[0;31m                 \u001b[0mchild\u001b[0m \u001b[0;34m=\u001b[0m \u001b[0mpexpect\u001b[0m\u001b[0;34m.\u001b[0m\u001b[0mspawn\u001b[0m\u001b[0;34m(\u001b[0m\u001b[0mself\u001b[0m\u001b[0;34m.\u001b[0m\u001b[0msh\u001b[0m\u001b[0;34m,\u001b[0m \u001b[0margs\u001b[0m\u001b[0;34m=\u001b[0m\u001b[0;34m[\u001b[0m\u001b[0;34m'-c'\u001b[0m\u001b[0;34m,\u001b[0m \u001b[0mcmd\u001b[0m\u001b[0;34m]\u001b[0m\u001b[0;34m)\u001b[0m  \u001b[0;31m# Vanilla Pexpect\u001b[0m\u001b[0;34m\u001b[0m\u001b[0;34m\u001b[0m\u001b[0m\n\u001b[0m\u001b[1;32m    157\u001b[0m             \u001b[0mflush\u001b[0m \u001b[0;34m=\u001b[0m \u001b[0msys\u001b[0m\u001b[0;34m.\u001b[0m\u001b[0mstdout\u001b[0m\u001b[0;34m.\u001b[0m\u001b[0mflush\u001b[0m\u001b[0;34m\u001b[0m\u001b[0;34m\u001b[0m\u001b[0m\n\u001b[1;32m    158\u001b[0m             \u001b[0;32mwhile\u001b[0m \u001b[0;32mTrue\u001b[0m\u001b[0;34m:\u001b[0m\u001b[0;34m\u001b[0m\u001b[0;34m\u001b[0m\u001b[0m\n",
      "\u001b[0;32m/local_data/env-py3/lib/python3.6/site-packages/pexpect/pty_spawn.py\u001b[0m in \u001b[0;36m__init__\u001b[0;34m(self, command, args, timeout, maxread, searchwindowsize, logfile, cwd, env, ignore_sighup, echo, preexec_fn, encoding, codec_errors, dimensions)\u001b[0m\n\u001b[1;32m    196\u001b[0m             \u001b[0mself\u001b[0m\u001b[0;34m.\u001b[0m\u001b[0mname\u001b[0m \u001b[0;34m=\u001b[0m \u001b[0;34m'<pexpect factory incomplete>'\u001b[0m\u001b[0;34m\u001b[0m\u001b[0;34m\u001b[0m\u001b[0m\n\u001b[1;32m    197\u001b[0m         \u001b[0;32melse\u001b[0m\u001b[0;34m:\u001b[0m\u001b[0;34m\u001b[0m\u001b[0;34m\u001b[0m\u001b[0m\n\u001b[0;32m--> 198\u001b[0;31m             \u001b[0mself\u001b[0m\u001b[0;34m.\u001b[0m\u001b[0m_spawn\u001b[0m\u001b[0;34m(\u001b[0m\u001b[0mcommand\u001b[0m\u001b[0;34m,\u001b[0m \u001b[0margs\u001b[0m\u001b[0;34m,\u001b[0m \u001b[0mpreexec_fn\u001b[0m\u001b[0;34m,\u001b[0m \u001b[0mdimensions\u001b[0m\u001b[0;34m)\u001b[0m\u001b[0;34m\u001b[0m\u001b[0;34m\u001b[0m\u001b[0m\n\u001b[0m\u001b[1;32m    199\u001b[0m \u001b[0;34m\u001b[0m\u001b[0m\n\u001b[1;32m    200\u001b[0m     \u001b[0;32mdef\u001b[0m \u001b[0m__str__\u001b[0m\u001b[0;34m(\u001b[0m\u001b[0mself\u001b[0m\u001b[0;34m)\u001b[0m\u001b[0;34m:\u001b[0m\u001b[0;34m\u001b[0m\u001b[0;34m\u001b[0m\u001b[0m\n",
      "\u001b[0;32m/local_data/env-py3/lib/python3.6/site-packages/pexpect/pty_spawn.py\u001b[0m in \u001b[0;36m_spawn\u001b[0;34m(self, command, args, preexec_fn, dimensions)\u001b[0m\n\u001b[1;32m    296\u001b[0m \u001b[0;34m\u001b[0m\u001b[0m\n\u001b[1;32m    297\u001b[0m         self.ptyproc = self._spawnpty(self.args, env=self.env,\n\u001b[0;32m--> 298\u001b[0;31m                                      cwd=self.cwd, **kwargs)\n\u001b[0m\u001b[1;32m    299\u001b[0m \u001b[0;34m\u001b[0m\u001b[0m\n\u001b[1;32m    300\u001b[0m         \u001b[0mself\u001b[0m\u001b[0;34m.\u001b[0m\u001b[0mpid\u001b[0m \u001b[0;34m=\u001b[0m \u001b[0mself\u001b[0m\u001b[0;34m.\u001b[0m\u001b[0mptyproc\u001b[0m\u001b[0;34m.\u001b[0m\u001b[0mpid\u001b[0m\u001b[0;34m\u001b[0m\u001b[0;34m\u001b[0m\u001b[0m\n",
      "\u001b[0;32m/local_data/env-py3/lib/python3.6/site-packages/pexpect/pty_spawn.py\u001b[0m in \u001b[0;36m_spawnpty\u001b[0;34m(self, args, **kwargs)\u001b[0m\n\u001b[1;32m    307\u001b[0m     \u001b[0;32mdef\u001b[0m \u001b[0m_spawnpty\u001b[0m\u001b[0;34m(\u001b[0m\u001b[0mself\u001b[0m\u001b[0;34m,\u001b[0m \u001b[0margs\u001b[0m\u001b[0;34m,\u001b[0m \u001b[0;34m**\u001b[0m\u001b[0mkwargs\u001b[0m\u001b[0;34m)\u001b[0m\u001b[0;34m:\u001b[0m\u001b[0;34m\u001b[0m\u001b[0;34m\u001b[0m\u001b[0m\n\u001b[1;32m    308\u001b[0m         \u001b[0;34m'''Spawn a pty and return an instance of PtyProcess.'''\u001b[0m\u001b[0;34m\u001b[0m\u001b[0;34m\u001b[0m\u001b[0m\n\u001b[0;32m--> 309\u001b[0;31m         \u001b[0;32mreturn\u001b[0m \u001b[0mptyprocess\u001b[0m\u001b[0;34m.\u001b[0m\u001b[0mPtyProcess\u001b[0m\u001b[0;34m.\u001b[0m\u001b[0mspawn\u001b[0m\u001b[0;34m(\u001b[0m\u001b[0margs\u001b[0m\u001b[0;34m,\u001b[0m \u001b[0;34m**\u001b[0m\u001b[0mkwargs\u001b[0m\u001b[0;34m)\u001b[0m\u001b[0;34m\u001b[0m\u001b[0;34m\u001b[0m\u001b[0m\n\u001b[0m\u001b[1;32m    310\u001b[0m \u001b[0;34m\u001b[0m\u001b[0m\n\u001b[1;32m    311\u001b[0m     \u001b[0;32mdef\u001b[0m \u001b[0mclose\u001b[0m\u001b[0;34m(\u001b[0m\u001b[0mself\u001b[0m\u001b[0;34m,\u001b[0m \u001b[0mforce\u001b[0m\u001b[0;34m=\u001b[0m\u001b[0;32mTrue\u001b[0m\u001b[0;34m)\u001b[0m\u001b[0;34m:\u001b[0m\u001b[0;34m\u001b[0m\u001b[0;34m\u001b[0m\u001b[0m\n",
      "\u001b[0;32m/local_data/env-py3/lib/python3.6/site-packages/ptyprocess/ptyprocess.py\u001b[0m in \u001b[0;36mspawn\u001b[0;34m(cls, argv, cwd, env, echo, preexec_fn, dimensions)\u001b[0m\n\u001b[1;32m    220\u001b[0m \u001b[0;34m\u001b[0m\u001b[0m\n\u001b[1;32m    221\u001b[0m         \u001b[0;32mif\u001b[0m \u001b[0muse_native_pty_fork\u001b[0m\u001b[0;34m:\u001b[0m\u001b[0;34m\u001b[0m\u001b[0;34m\u001b[0m\u001b[0m\n\u001b[0;32m--> 222\u001b[0;31m             \u001b[0mpid\u001b[0m\u001b[0;34m,\u001b[0m \u001b[0mfd\u001b[0m \u001b[0;34m=\u001b[0m \u001b[0mpty\u001b[0m\u001b[0;34m.\u001b[0m\u001b[0mfork\u001b[0m\u001b[0;34m(\u001b[0m\u001b[0;34m)\u001b[0m\u001b[0;34m\u001b[0m\u001b[0;34m\u001b[0m\u001b[0m\n\u001b[0m\u001b[1;32m    223\u001b[0m         \u001b[0;32melse\u001b[0m\u001b[0;34m:\u001b[0m\u001b[0;34m\u001b[0m\u001b[0;34m\u001b[0m\u001b[0m\n\u001b[1;32m    224\u001b[0m             \u001b[0;31m# Use internal fork_pty, for Solaris\u001b[0m\u001b[0;34m\u001b[0m\u001b[0;34m\u001b[0m\u001b[0;34m\u001b[0m\u001b[0m\n",
      "\u001b[0;32m/usr/lib/python3.6/pty.py\u001b[0m in \u001b[0;36mfork\u001b[0;34m()\u001b[0m\n\u001b[1;32m     95\u001b[0m \u001b[0;34m\u001b[0m\u001b[0m\n\u001b[1;32m     96\u001b[0m     \u001b[0mmaster_fd\u001b[0m\u001b[0;34m,\u001b[0m \u001b[0mslave_fd\u001b[0m \u001b[0;34m=\u001b[0m \u001b[0mopenpty\u001b[0m\u001b[0;34m(\u001b[0m\u001b[0;34m)\u001b[0m\u001b[0;34m\u001b[0m\u001b[0;34m\u001b[0m\u001b[0m\n\u001b[0;32m---> 97\u001b[0;31m     \u001b[0mpid\u001b[0m \u001b[0;34m=\u001b[0m \u001b[0mos\u001b[0m\u001b[0;34m.\u001b[0m\u001b[0mfork\u001b[0m\u001b[0;34m(\u001b[0m\u001b[0;34m)\u001b[0m\u001b[0;34m\u001b[0m\u001b[0;34m\u001b[0m\u001b[0m\n\u001b[0m\u001b[1;32m     98\u001b[0m     \u001b[0;32mif\u001b[0m \u001b[0mpid\u001b[0m \u001b[0;34m==\u001b[0m \u001b[0mCHILD\u001b[0m\u001b[0;34m:\u001b[0m\u001b[0;34m\u001b[0m\u001b[0;34m\u001b[0m\u001b[0m\n\u001b[1;32m     99\u001b[0m         \u001b[0;31m# Establish a new session.\u001b[0m\u001b[0;34m\u001b[0m\u001b[0;34m\u001b[0m\u001b[0;34m\u001b[0m\u001b[0m\n",
      "\u001b[0;31mOSError\u001b[0m: [Errno 12] Cannot allocate memory"
     ]
    }
   ],
   "source": [
    "!ls /data/clintko/SMPK"
   ]
  }
 ],
 "metadata": {
  "kernelspec": {
   "display_name": "Python 3",
   "language": "python",
   "name": "python3"
  },
  "language_info": {
   "codemirror_mode": {
    "name": "ipython",
    "version": 3
   },
   "file_extension": ".py",
   "mimetype": "text/x-python",
   "name": "python",
   "nbconvert_exporter": "python",
   "pygments_lexer": "ipython3",
   "version": "3.6.6"
  }
 },
 "nbformat": 4,
 "nbformat_minor": 2
}
