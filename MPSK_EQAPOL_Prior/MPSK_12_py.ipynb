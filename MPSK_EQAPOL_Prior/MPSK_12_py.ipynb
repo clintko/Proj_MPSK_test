{
 "cells": [
  {
   "cell_type": "markdown",
   "metadata": {},
   "source": [
    "# Set environment"
   ]
  },
  {
   "cell_type": "code",
   "execution_count": 95,
   "metadata": {},
   "outputs": [],
   "source": [
    "import numpy as np\n",
    "from scipy.spatial.distance import squareform, pdist\n",
    "from scipy.stats            import entropy\n",
    "\n",
    "import pandas as pd\n",
    "import os, glob\n",
    "import re\n",
    "\n",
    "from sklearn.metrics.pairwise import pairwise_distances\n",
    "from sklearn.manifold.t_sne   import _joint_probabilities\n",
    "\n",
    "import seaborn as sns\n",
    "import matplotlib.pyplot as plt\n",
    "\n",
    "dat_dir = \"/data/clintko/SMPK\""
   ]
  },
  {
   "cell_type": "code",
   "execution_count": 2,
   "metadata": {},
   "outputs": [],
   "source": [
    "%matplotlib inline"
   ]
  },
  {
   "cell_type": "markdown",
   "metadata": {},
   "source": [
    "# Read in the data"
   ]
  },
  {
   "cell_type": "code",
   "execution_count": 4,
   "metadata": {},
   "outputs": [
    {
     "data": {
      "text/plain": [
       "['/data/clintko/SMPK/ep8cs_dat_cal_prior05.txt',\n",
       " '/data/clintko/SMPK/ep8cs_dat_cal_prior06.txt',\n",
       " '/data/clintko/SMPK/ep8cs_dat_cal_prior07.txt',\n",
       " '/data/clintko/SMPK/ep8cs_dat_cal_prior08.txt',\n",
       " '/data/clintko/SMPK/ep8cs_dat_cal_prior09.txt',\n",
       " '/data/clintko/SMPK/ep8cs_dat_cal_prior10.txt',\n",
       " '/data/clintko/SMPK/ep8cs_dat_cal_prior11.txt',\n",
       " '/data/clintko/SMPK/ep8cs_dat_cal_prior12.txt',\n",
       " '/data/clintko/SMPK/ep8cs_dat_cal_prior13.txt',\n",
       " '/data/clintko/SMPK/ep8cs_dat_cal_prior14.txt',\n",
       " '/data/clintko/SMPK/ep8cs_dat_cal_prior15.txt',\n",
       " '/data/clintko/SMPK/ep8cs_dat_cal_prior20.txt',\n",
       " '/data/clintko/SMPK/ep8cs_dat_cal_prior25.txt',\n",
       " '/data/clintko/SMPK/ep8cs_dat_cal_prior30.txt',\n",
       " '/data/clintko/SMPK/ep8cs_dat_cal_prior35.txt',\n",
       " '/data/clintko/SMPK/ep8cs_dat_cal_prior40.txt',\n",
       " '/data/clintko/SMPK/ep8cs_dat_cal_prior45.txt',\n",
       " '/data/clintko/SMPK/ep8cs_dat_cal_prior50.txt']"
      ]
     },
     "execution_count": 4,
     "metadata": {},
     "output_type": "execute_result"
    }
   ],
   "source": [
    "fnames = !ls /data/clintko/SMPK/ep8cs_dat_cal*\n",
    "fnames"
   ]
  },
  {
   "cell_type": "code",
   "execution_count": 96,
   "metadata": {},
   "outputs": [
    {
     "data": {
      "text/plain": [
       "['/data/clintko/SMPK/ep8cs_dat_cal_prior05.txt',\n",
       " '/data/clintko/SMPK/ep8cs_dat_cal_prior06.txt',\n",
       " '/data/clintko/SMPK/ep8cs_dat_cal_prior07.txt',\n",
       " '/data/clintko/SMPK/ep8cs_dat_cal_prior08.txt',\n",
       " '/data/clintko/SMPK/ep8cs_dat_cal_prior09.txt',\n",
       " '/data/clintko/SMPK/ep8cs_dat_cal_prior10.txt',\n",
       " '/data/clintko/SMPK/ep8cs_dat_cal_prior11.txt',\n",
       " '/data/clintko/SMPK/ep8cs_dat_cal_prior12.txt',\n",
       " '/data/clintko/SMPK/ep8cs_dat_cal_prior13.txt',\n",
       " '/data/clintko/SMPK/ep8cs_dat_cal_prior14.txt',\n",
       " '/data/clintko/SMPK/ep8cs_dat_cal_prior15.txt',\n",
       " '/data/clintko/SMPK/ep8cs_dat_cal_prior20.txt',\n",
       " '/data/clintko/SMPK/ep8cs_dat_cal_prior25.txt',\n",
       " '/data/clintko/SMPK/ep8cs_dat_cal_prior30.txt',\n",
       " '/data/clintko/SMPK/ep8cs_dat_cal_prior35.txt',\n",
       " '/data/clintko/SMPK/ep8cs_dat_cal_prior40.txt',\n",
       " '/data/clintko/SMPK/ep8cs_dat_cal_prior45.txt',\n",
       " '/data/clintko/SMPK/ep8cs_dat_cal_prior50.txt']"
      ]
     },
     "execution_count": 96,
     "metadata": {},
     "output_type": "execute_result"
    }
   ],
   "source": [
    "glob.glob(os.path.join(dat_dir, \"ep8cs_dat_cal_prior*\"))"
   ]
  },
  {
   "cell_type": "markdown",
   "metadata": {},
   "source": [
    "# helper function for generating the similarities"
   ]
  },
  {
   "cell_type": "code",
   "execution_count": 81,
   "metadata": {},
   "outputs": [],
   "source": [
    "def get_similarity(X, perplexity = 30, verbose = False):\n",
    "    \"\"\"calculate the similarity matrix Pi|j + Pj|i\n",
    "    ref: https://www.oreilly.com/learning/an-illustrated-introduction-to-the-t-sne-algorithm\n",
    "    \"\"\"\n",
    "    # Pairwise distances between all data points.\n",
    "    D = pairwise_distances(X, squared=True)\n",
    "    \n",
    "    # Similarity with variable sigma.\n",
    "    P = _joint_probabilities(D, perplexity, verbose)\n",
    "    return P\n",
    "\n",
    "def kl_div(P1, P2):\n",
    "    \"\"\"calculate KL divergence\"\"\"\n",
    "    return entropy(P1.ravel(), P2.ravel())\n",
    "\n",
    "def js_div(P1, P2):\n",
    "    \"\"\"calculate Jensen-Shannon Divergence\"\"\"\n",
    "    return 0.5 * (kl_div(P1, P2) + kl_div(P2, P1))"
   ]
  },
  {
   "cell_type": "markdown",
   "metadata": {},
   "source": [
    "# Raw t-SNE data"
   ]
  },
  {
   "cell_type": "code",
   "execution_count": 57,
   "metadata": {},
   "outputs": [],
   "source": [
    "y_raw = pd.read_csv(\n",
    "    os.path.join(dat_dir, \"ep8cs_tsne_raw.txt\"),\n",
    "    header=None,\n",
    "    names=[\"sample\", \"tsne1\", \"tsne2\"],\n",
    "    sep = \"\\t\")"
   ]
  },
  {
   "cell_type": "markdown",
   "metadata": {},
   "source": [
    "## Prior = 5"
   ]
  },
  {
   "cell_type": "code",
   "execution_count": 109,
   "metadata": {},
   "outputs": [
    {
     "data": {
      "text/plain": [
       "[['05'],\n",
       " ['06'],\n",
       " ['07'],\n",
       " ['08'],\n",
       " ['09'],\n",
       " ['10'],\n",
       " ['11'],\n",
       " ['12'],\n",
       " ['13'],\n",
       " ['14'],\n",
       " ['15'],\n",
       " ['20'],\n",
       " ['25'],\n",
       " ['30'],\n",
       " ['35'],\n",
       " ['40'],\n",
       " ['45'],\n",
       " ['50']]"
      ]
     },
     "execution_count": 109,
     "metadata": {},
     "output_type": "execute_result"
    }
   ],
   "source": [
    "fnames = glob.glob(os.path.join(dat_dir, \"ep8cs_dat_cal_prior*\"))\n",
    "[re.findall(\"prior(.*).txt\", x) for x in fnames]"
   ]
  },
  {
   "cell_type": "code",
   "execution_count": 71,
   "metadata": {},
   "outputs": [],
   "source": [
    "prior = \"05\"\n",
    "y_cal05 = pd.read_csv(\n",
    "    os.path.join(dat_dir, \"ep8cs_tsne_cal_prior\" + prior + \".txt\"),\n",
    "    header=None,\n",
    "    names=[\"sample\", \"cluster\", \"tsne1\", \"tsne2\"],\n",
    "    sep = \"\\t\")"
   ]
  },
  {
   "cell_type": "markdown",
   "metadata": {},
   "source": [
    "# calculate the similarities \n",
    "**using Sample1 and Sample2**"
   ]
  },
  {
   "cell_type": "markdown",
   "metadata": {},
   "source": [
    "**Raw data**"
   ]
  },
  {
   "cell_type": "code",
   "execution_count": 73,
   "metadata": {},
   "outputs": [],
   "source": [
    "y = y_raw\n",
    "X_raw1 = y.loc[(y[\"sample\"] == 1), (\"tsne1\", \"tsne2\")]\n",
    "X_raw2 = y.loc[(y[\"sample\"] == 2), (\"tsne1\", \"tsne2\")]"
   ]
  },
  {
   "cell_type": "markdown",
   "metadata": {},
   "source": [
    "**Calibrated data**"
   ]
  },
  {
   "cell_type": "code",
   "execution_count": 74,
   "metadata": {},
   "outputs": [],
   "source": [
    "y = y_cal05\n",
    "X_cal1 = y.loc[(y[\"sample\"] == 1), (\"tsne1\", \"tsne2\")]\n",
    "X_cal2 = y.loc[(y[\"sample\"] == 2), (\"tsne1\", \"tsne2\")]"
   ]
  },
  {
   "cell_type": "markdown",
   "metadata": {},
   "source": [
    "**Check dimension**"
   ]
  },
  {
   "cell_type": "code",
   "execution_count": 77,
   "metadata": {},
   "outputs": [
    {
     "name": "stdout",
     "output_type": "stream",
     "text": [
      "(10000, 2)\n",
      "(10000, 2)\n",
      "(10000, 2)\n",
      "(10000, 2)\n"
     ]
    }
   ],
   "source": [
    "print(X_raw1.shape)\n",
    "print(X_raw2.shape)\n",
    "print(X_cal1.shape)\n",
    "print(X_cal2.shape)"
   ]
  },
  {
   "cell_type": "markdown",
   "metadata": {},
   "source": [
    "**similarity**"
   ]
  },
  {
   "cell_type": "code",
   "execution_count": 82,
   "metadata": {},
   "outputs": [
    {
     "name": "stdout",
     "output_type": "stream",
     "text": [
      "CPU times: user 2min 46s, sys: 9.71 s, total: 2min 56s\n",
      "Wall time: 2min 45s\n"
     ]
    }
   ],
   "source": [
    "%%time\n",
    "P_raw1 = get_similarity(X_raw1)\n",
    "P_raw2 = get_similarity(X_raw2)\n",
    "P_cal1 = get_similarity(X_cal1)\n",
    "P_cal2 = get_similarity(X_cal2)"
   ]
  },
  {
   "cell_type": "code",
   "execution_count": 87,
   "metadata": {},
   "outputs": [
    {
     "name": "stdout",
     "output_type": "stream",
     "text": [
      "CPU times: user 18.9 s, sys: 5.94 s, total: 24.9 s\n",
      "Wall time: 24.9 s\n"
     ]
    }
   ],
   "source": [
    "%%time\n",
    "div_raw   = js_div(squareform(P_raw1), squareform(P_raw2))\n",
    "div_after = js_div(squareform(P_cal1), squareform(P_cal2))\n",
    "div_cal1  = js_div(squareform(P_raw1), squareform(P_cal1))\n",
    "div_cal2  = js_div(squareform(P_raw2), squareform(P_cal2))"
   ]
  },
  {
   "cell_type": "code",
   "execution_count": 92,
   "metadata": {},
   "outputs": [
    {
     "name": "stdout",
     "output_type": "stream",
     "text": [
      "22.928072821978496\n",
      "23.00765507774418\n",
      "8.30796200856228\n",
      "9.572316596847582\n"
     ]
    }
   ],
   "source": [
    "print(div_raw)\n",
    "print(div_after)\n",
    "print(div_cal1)\n",
    "print(div_cal2)"
   ]
  },
  {
   "cell_type": "markdown",
   "metadata": {},
   "source": [
    "notice that I do not need to get the squared matrix to calcualte divergence"
   ]
  },
  {
   "cell_type": "code",
   "execution_count": null,
   "metadata": {},
   "outputs": [],
   "source": [
    "%%time\n",
    "div_raw   = js_div(P_raw1, P_raw2)\n",
    "div_after = js_div(P_cal1, P_cal2)\n",
    "div_cal1  = js_div(P_raw1, P_cal1)\n",
    "div_cal2  = js_div(P_raw2, P_cal2)"
   ]
  },
  {
   "cell_type": "code",
   "execution_count": 84,
   "metadata": {},
   "outputs": [
    {
     "name": "stdout",
     "output_type": "stream",
     "text": [
      "22.928072821978397\n",
      "23.00765507774409\n",
      "8.307962008562232\n",
      "9.572316596847582\n"
     ]
    }
   ],
   "source": [
    "print(div_raw)\n",
    "print(div_after)\n",
    "print(div_cal1)\n",
    "print(div_cal2)"
   ]
  },
  {
   "cell_type": "code",
   "execution_count": 86,
   "metadata": {},
   "outputs": [
    {
     "name": "stdout",
     "output_type": "stream",
     "text": [
      "0.5000000106592931\n",
      "(49995000,)\n"
     ]
    }
   ],
   "source": [
    "print(np.sum(P_raw1))\n",
    "print(P_raw1.shape)"
   ]
  },
  {
   "cell_type": "markdown",
   "metadata": {},
   "source": [
    "# design the script"
   ]
  },
  {
   "cell_type": "markdown",
   "metadata": {},
   "source": [
    "plan: each file generated a matrix `18 x 49995000`"
   ]
  },
  {
   "cell_type": "code",
   "execution_count": 102,
   "metadata": {},
   "outputs": [
    {
     "data": {
      "text/plain": [
       "array([ 1.,  2.,  3.,  4.,  5.,  6.,  7.,  8.,  9., 10., 11., 12., 13.,\n",
       "       14., 15., 16., 17., 18.])"
      ]
     },
     "execution_count": 102,
     "metadata": {},
     "output_type": "execute_result"
    }
   ],
   "source": [
    "y_raw[\"sample\"].unique()"
   ]
  },
  {
   "cell_type": "code",
   "execution_count": 154,
   "metadata": {},
   "outputs": [],
   "source": [
    "def get_sample(dat, idx_sample):\n",
    "    \"\"\"get the sample from the data\"\"\"\n",
    "    X = dat.loc[(dat[\"sample\"] == idx_sample), (\"tsne1\", \"tsne2\")]\n",
    "    return X.head(100)\n",
    "\n",
    "def process_data(dat, idx_sample):\n",
    "    \"\"\"get a sample from data and get similarity\"\"\"\n",
    "    print(\"    Sample:\", idx_sample)\n",
    "    X = get_sample(dat, idx_sample)\n",
    "    P = get_similarity(X, perplexity = 30, verbose = False)\n",
    "    return P"
   ]
  },
  {
   "cell_type": "code",
   "execution_count": 155,
   "metadata": {},
   "outputs": [
    {
     "name": "stdout",
     "output_type": "stream",
     "text": [
      "    Sample: 1\n",
      "    Sample: 2\n",
      "    Sample: 3\n",
      "    Sample: 4\n",
      "    Sample: 5\n",
      "    Sample: 6\n",
      "    Sample: 7\n",
      "    Sample: 8\n",
      "    Sample: 9\n",
      "    Sample: 10\n",
      "    Sample: 11\n",
      "    Sample: 12\n",
      "    Sample: 13\n",
      "    Sample: 14\n",
      "    Sample: 15\n",
      "    Sample: 16\n",
      "    Sample: 17\n",
      "    Sample: 18\n",
      "Check dimension: (4950, 18)\n",
      "[[4.74116201e-09 4.62523957e-06 2.98340974e-07 ... 1.01277501e-05\n",
      "  6.93357623e-05 2.09638147e-04]\n",
      " [1.87644649e-05 1.01336627e-06 1.68971617e-07 ... 9.03843370e-06\n",
      "  4.88545944e-06 3.36034873e-06]\n",
      " [5.07845565e-04 2.92985650e-05 8.66090109e-06 ... 6.06459320e-06\n",
      "  3.46580887e-09 4.38045181e-04]\n",
      " ...\n",
      " [8.70034271e-05 1.53128149e-04 3.72553669e-05 ... 3.87655721e-06\n",
      "  1.74368563e-05 4.29359292e-07]\n",
      " [5.82500019e-05 1.37648156e-06 1.73342678e-04 ... 2.60152813e-04\n",
      "  3.63272115e-05 9.19092346e-06]\n",
      " [6.47135992e-04 2.27301933e-08 9.14349412e-06 ... 1.22639679e-04\n",
      "  9.27735007e-05 4.79975145e-09]]\n"
     ]
    }
   ],
   "source": [
    "#mat = np.array([process_data(y, idx) for idx in range(1, 18+1)]).T\n",
    "mat = np.array([process_data(y_raw, idx) for idx in range(1, 18+1)]).T\n",
    "print(\"Check dimension:\", mat.shape)\n",
    "print(mat)"
   ]
  },
  {
   "cell_type": "code",
   "execution_count": null,
   "metadata": {},
   "outputs": [],
   "source": []
  },
  {
   "cell_type": "code",
   "execution_count": 122,
   "metadata": {},
   "outputs": [
    {
     "ename": "ValueError",
     "evalue": "cannot copy sequence with size 5 to array axis with dimension 2",
     "output_type": "error",
     "traceback": [
      "\u001b[0;31m---------------------------------------------------------------------------\u001b[0m",
      "\u001b[0;31mValueError\u001b[0m                                Traceback (most recent call last)",
      "\u001b[0;32m<ipython-input-122-759f5587e913>\u001b[0m in \u001b[0;36m<module>\u001b[0;34m()\u001b[0m\n\u001b[0;32m----> 1\u001b[0;31m \u001b[0mmat\u001b[0m \u001b[0;34m=\u001b[0m \u001b[0mnp\u001b[0m\u001b[0;34m.\u001b[0m\u001b[0marray\u001b[0m\u001b[0;34m(\u001b[0m\u001b[0;34m[\u001b[0m\u001b[0mtest\u001b[0m\u001b[0;34m(\u001b[0m\u001b[0my_raw\u001b[0m\u001b[0;34m,\u001b[0m \u001b[0midx\u001b[0m\u001b[0;34m)\u001b[0m \u001b[0;32mfor\u001b[0m \u001b[0midx\u001b[0m \u001b[0;32min\u001b[0m \u001b[0mrange\u001b[0m\u001b[0;34m(\u001b[0m\u001b[0;36m1\u001b[0m\u001b[0;34m,\u001b[0m \u001b[0;36m19\u001b[0m\u001b[0;34m)\u001b[0m\u001b[0;34m]\u001b[0m\u001b[0;34m)\u001b[0m\u001b[0;34m\u001b[0m\u001b[0;34m\u001b[0m\u001b[0m\n\u001b[0m",
      "\u001b[0;31mValueError\u001b[0m: cannot copy sequence with size 5 to array axis with dimension 2"
     ]
    }
   ],
   "source": [
    "mat = np.array([test(y_raw, idx) for idx in range(1, 19)])"
   ]
  },
  {
   "cell_type": "code",
   "execution_count": 116,
   "metadata": {},
   "outputs": [
    {
     "data": {
      "text/html": [
       "<div>\n",
       "<style scoped>\n",
       "    .dataframe tbody tr th:only-of-type {\n",
       "        vertical-align: middle;\n",
       "    }\n",
       "\n",
       "    .dataframe tbody tr th {\n",
       "        vertical-align: top;\n",
       "    }\n",
       "\n",
       "    .dataframe thead th {\n",
       "        text-align: right;\n",
       "    }\n",
       "</style>\n",
       "<table border=\"1\" class=\"dataframe\">\n",
       "  <thead>\n",
       "    <tr style=\"text-align: right;\">\n",
       "      <th></th>\n",
       "      <th>tsne1</th>\n",
       "      <th>tsne2</th>\n",
       "    </tr>\n",
       "  </thead>\n",
       "  <tbody>\n",
       "    <tr>\n",
       "      <th>10000</th>\n",
       "      <td>10.740033</td>\n",
       "      <td>-15.140380</td>\n",
       "    </tr>\n",
       "    <tr>\n",
       "      <th>10001</th>\n",
       "      <td>-2.968976</td>\n",
       "      <td>4.073344</td>\n",
       "    </tr>\n",
       "    <tr>\n",
       "      <th>10002</th>\n",
       "      <td>-9.825284</td>\n",
       "      <td>3.050411</td>\n",
       "    </tr>\n",
       "    <tr>\n",
       "      <th>10003</th>\n",
       "      <td>-7.211396</td>\n",
       "      <td>-17.826702</td>\n",
       "    </tr>\n",
       "    <tr>\n",
       "      <th>10004</th>\n",
       "      <td>-13.362154</td>\n",
       "      <td>-12.046859</td>\n",
       "    </tr>\n",
       "  </tbody>\n",
       "</table>\n",
       "</div>"
      ],
      "text/plain": [
       "           tsne1      tsne2\n",
       "10000  10.740033 -15.140380\n",
       "10001  -2.968976   4.073344\n",
       "10002  -9.825284   3.050411\n",
       "10003  -7.211396 -17.826702\n",
       "10004 -13.362154 -12.046859"
      ]
     },
     "execution_count": 116,
     "metadata": {},
     "output_type": "execute_result"
    }
   ],
   "source": [
    "mat = np.empty(5)\n",
    "test(y_raw, 2)"
   ]
  },
  {
   "cell_type": "code",
   "execution_count": null,
   "metadata": {},
   "outputs": [],
   "source": []
  },
  {
   "cell_type": "code",
   "execution_count": null,
   "metadata": {},
   "outputs": [],
   "source": [
    "X = y_raw.loc[:, [\"tsne1\", \"tsne2\"]].head(100)"
   ]
  },
  {
   "cell_type": "code",
   "execution_count": 38,
   "metadata": {},
   "outputs": [],
   "source": [
    "X = y_raw.loc[:, [\"tsne1\", \"tsne2\"]].head(100)\n",
    "P = get_similarity(X)\n",
    "P_sym = squareform(P)"
   ]
  },
  {
   "cell_type": "code",
   "execution_count": 39,
   "metadata": {},
   "outputs": [
    {
     "data": {
      "text/plain": [
       "<matplotlib.image.AxesImage at 0x7f97d5f23668>"
      ]
     },
     "execution_count": 39,
     "metadata": {},
     "output_type": "execute_result"
    },
    {
     "data": {
      "image/png": "[encoded data removed]",
      "text/plain": [
       "<Figure size 432x288 with 1 Axes>"
      ]
     },
     "metadata": {},
     "output_type": "display_data"
    }
   ],
   "source": [
    "pal = sns.light_palette(\"blue\", as_cmap=True)\n",
    "plt.imshow(P_sym, interpolation='none', cmap=pal)"
   ]
  },
  {
   "cell_type": "code",
   "execution_count": 34,
   "metadata": {},
   "outputs": [
    {
     "data": {
      "text/plain": [
       "'/data/clintko/SMPK/ep8cs_tsne_raw_similarity.npy'"
      ]
     },
     "execution_count": 34,
     "metadata": {},
     "output_type": "execute_result"
    }
   ],
   "source": [
    "fname = os.path.join(dat_dir, \"ep8cs_tsne_raw_similarity.npy\")\n",
    "fname"
   ]
  },
  {
   "cell_type": "code",
   "execution_count": null,
   "metadata": {},
   "outputs": [],
   "source": [
    "np.save(\"\", P_binary)"
   ]
  },
  {
   "cell_type": "code",
   "execution_count": null,
   "metadata": {},
   "outputs": [],
   "source": []
  },
  {
   "cell_type": "code",
   "execution_count": 41,
   "metadata": {},
   "outputs": [],
   "source": [
    "X = y_raw.loc[:, [\"tsne1\", \"tsne2\"]].head(100)\n",
    "P = get_similarity(X)\n",
    "P_sym2 = squareform(P)"
   ]
  },
  {
   "cell_type": "code",
   "execution_count": 42,
   "metadata": {},
   "outputs": [
    {
     "data": {
      "text/plain": [
       "<matplotlib.image.AxesImage at 0x7f97d5e2da90>"
      ]
     },
     "execution_count": 42,
     "metadata": {},
     "output_type": "execute_result"
    },
    {
     "data": {
      "image/png": "[encoded data removed]",
      "text/plain": [
       "<Figure size 432x288 with 1 Axes>"
      ]
     },
     "metadata": {},
     "output_type": "display_data"
    }
   ],
   "source": [
    "pal = sns.light_palette(\"blue\", as_cmap=True)\n",
    "plt.imshow(P_sym2, interpolation='none', cmap=pal)"
   ]
  },
  {
   "cell_type": "code",
   "execution_count": 49,
   "metadata": {},
   "outputs": [
    {
     "data": {
      "text/plain": [
       "array([[0, 1, 2],\n",
       "       [1, 0, 3],\n",
       "       [2, 3, 0]])"
      ]
     },
     "execution_count": 49,
     "metadata": {},
     "output_type": "execute_result"
    }
   ],
   "source": [
    "squareform([1,2,3])"
   ]
  },
  {
   "cell_type": "code",
   "execution_count": 48,
   "metadata": {},
   "outputs": [
    {
     "data": {
      "text/plain": [
       "(4950,)"
      ]
     },
     "execution_count": 48,
     "metadata": {},
     "output_type": "execute_result"
    }
   ],
   "source": [
    "P.shape"
   ]
  },
  {
   "cell_type": "code",
   "execution_count": 44,
   "metadata": {},
   "outputs": [
    {
     "name": "stderr",
     "output_type": "stream",
     "text": [
      "/local_data/env-py3/lib/python3.6/site-packages/ipykernel_launcher.py:1: RuntimeWarning: divide by zero encountered in log\n",
      "  \"\"\"Entry point for launching an IPython kernel.\n",
      "/local_data/env-py3/lib/python3.6/site-packages/ipykernel_launcher.py:1: RuntimeWarning: invalid value encountered in subtract\n",
      "  \"\"\"Entry point for launching an IPython kernel.\n"
     ]
    },
    {
     "data": {
      "text/plain": [
       "array([[nan,  0.,  0., ...,  0.,  0.,  0.],\n",
       "       [ 0., nan,  0., ...,  0.,  0.,  0.],\n",
       "       [ 0.,  0., nan, ...,  0.,  0.,  0.],\n",
       "       ...,\n",
       "       [ 0.,  0.,  0., ..., nan,  0.,  0.],\n",
       "       [ 0.,  0.,  0., ...,  0., nan,  0.],\n",
       "       [ 0.,  0.,  0., ...,  0.,  0., nan]])"
      ]
     },
     "execution_count": 44,
     "metadata": {},
     "output_type": "execute_result"
    }
   ],
   "source": [
    "P_sym * (np.log(P_sym) - np.log(P_sym2)) #+ P_sym2 * np.log(P_sym2 / P_sym)"
   ]
  },
  {
   "cell_type": "code",
   "execution_count": null,
   "metadata": {},
   "outputs": [],
   "source": []
  },
  {
   "cell_type": "code",
   "execution_count": 8,
   "metadata": {},
   "outputs": [
    {
     "data": {
      "text/html": [
       "<div>\n",
       "<style scoped>\n",
       "    .dataframe tbody tr th:only-of-type {\n",
       "        vertical-align: middle;\n",
       "    }\n",
       "\n",
       "    .dataframe tbody tr th {\n",
       "        vertical-align: top;\n",
       "    }\n",
       "\n",
       "    .dataframe thead th {\n",
       "        text-align: right;\n",
       "    }\n",
       "</style>\n",
       "<table border=\"1\" class=\"dataframe\">\n",
       "  <thead>\n",
       "    <tr style=\"text-align: right;\">\n",
       "      <th></th>\n",
       "      <th>sample</th>\n",
       "      <th>tsne1</th>\n",
       "      <th>tsne2</th>\n",
       "    </tr>\n",
       "  </thead>\n",
       "  <tbody>\n",
       "    <tr>\n",
       "      <th>0</th>\n",
       "      <td>1.0</td>\n",
       "      <td>-18.683454</td>\n",
       "      <td>5.300567</td>\n",
       "    </tr>\n",
       "    <tr>\n",
       "      <th>1</th>\n",
       "      <td>1.0</td>\n",
       "      <td>18.398529</td>\n",
       "      <td>6.118176</td>\n",
       "    </tr>\n",
       "    <tr>\n",
       "      <th>2</th>\n",
       "      <td>1.0</td>\n",
       "      <td>-3.461957</td>\n",
       "      <td>13.952374</td>\n",
       "    </tr>\n",
       "    <tr>\n",
       "      <th>3</th>\n",
       "      <td>1.0</td>\n",
       "      <td>-17.099855</td>\n",
       "      <td>6.364835</td>\n",
       "    </tr>\n",
       "    <tr>\n",
       "      <th>4</th>\n",
       "      <td>1.0</td>\n",
       "      <td>-11.418336</td>\n",
       "      <td>5.993404</td>\n",
       "    </tr>\n",
       "  </tbody>\n",
       "</table>\n",
       "</div>"
      ],
      "text/plain": [
       "   sample      tsne1      tsne2\n",
       "0     1.0 -18.683454   5.300567\n",
       "1     1.0  18.398529   6.118176\n",
       "2     1.0  -3.461957  13.952374\n",
       "3     1.0 -17.099855   6.364835\n",
       "4     1.0 -11.418336   5.993404"
      ]
     },
     "execution_count": 8,
     "metadata": {},
     "output_type": "execute_result"
    }
   ],
   "source": [
    "y_raw.head()"
   ]
  },
  {
   "cell_type": "code",
   "execution_count": 8,
   "metadata": {},
   "outputs": [
    {
     "data": {
      "text/html": [
       "<div>\n",
       "<style scoped>\n",
       "    .dataframe tbody tr th:only-of-type {\n",
       "        vertical-align: middle;\n",
       "    }\n",
       "\n",
       "    .dataframe tbody tr th {\n",
       "        vertical-align: top;\n",
       "    }\n",
       "\n",
       "    .dataframe thead th {\n",
       "        text-align: right;\n",
       "    }\n",
       "</style>\n",
       "<table border=\"1\" class=\"dataframe\">\n",
       "  <thead>\n",
       "    <tr style=\"text-align: right;\">\n",
       "      <th></th>\n",
       "      <th>sample</th>\n",
       "      <th>cluster</th>\n",
       "      <th>tsne1</th>\n",
       "      <th>tsne2</th>\n",
       "    </tr>\n",
       "  </thead>\n",
       "  <tbody>\n",
       "    <tr>\n",
       "      <th>0</th>\n",
       "      <td>1.0</td>\n",
       "      <td>3.0</td>\n",
       "      <td>-17.887501</td>\n",
       "      <td>4.354687</td>\n",
       "    </tr>\n",
       "    <tr>\n",
       "      <th>1</th>\n",
       "      <td>1.0</td>\n",
       "      <td>5.0</td>\n",
       "      <td>14.683408</td>\n",
       "      <td>5.222981</td>\n",
       "    </tr>\n",
       "    <tr>\n",
       "      <th>2</th>\n",
       "      <td>1.0</td>\n",
       "      <td>4.0</td>\n",
       "      <td>-5.047520</td>\n",
       "      <td>15.896918</td>\n",
       "    </tr>\n",
       "    <tr>\n",
       "      <th>3</th>\n",
       "      <td>1.0</td>\n",
       "      <td>3.0</td>\n",
       "      <td>-19.548543</td>\n",
       "      <td>5.687037</td>\n",
       "    </tr>\n",
       "    <tr>\n",
       "      <th>4</th>\n",
       "      <td>1.0</td>\n",
       "      <td>3.0</td>\n",
       "      <td>-12.300324</td>\n",
       "      <td>0.664771</td>\n",
       "    </tr>\n",
       "  </tbody>\n",
       "</table>\n",
       "</div>"
      ],
      "text/plain": [
       "   sample  cluster      tsne1      tsne2\n",
       "0     1.0      3.0 -17.887501   4.354687\n",
       "1     1.0      5.0  14.683408   5.222981\n",
       "2     1.0      4.0  -5.047520  15.896918\n",
       "3     1.0      3.0 -19.548543   5.687037\n",
       "4     1.0      3.0 -12.300324   0.664771"
      ]
     },
     "execution_count": 8,
     "metadata": {},
     "output_type": "execute_result"
    }
   ],
   "source": [
    "y_cal.head()"
   ]
  },
  {
   "cell_type": "code",
   "execution_count": 9,
   "metadata": {},
   "outputs": [
    {
     "data": {
      "text/plain": [
       "(10000, 2)"
      ]
     },
     "execution_count": 9,
     "metadata": {},
     "output_type": "execute_result"
    }
   ],
   "source": [
    "df = y_raw\n",
    "df = df.loc[df[\"sample\"] == 1, [\"tsne1\", \"tsne2\"]]\n",
    "df.shape"
   ]
  },
  {
   "cell_type": "markdown",
   "metadata": {},
   "source": [
    "```\n",
    "MACHINE_EPSILON = np.finfo(np.double).eps\n",
    "\n",
    "distances = D.astype(np.float32, copy=False)\n",
    "conditional_P = _utils._binary_search_perplexity(\n",
    "        distances, None, desired_perplexity, verbose)\n",
    "P = conditional_P + conditional_P.T\n",
    "sum_P = np.maximum(np.sum(P), MACHINE_EPSILON)\n",
    "P = np.maximum(squareform(P) / sum_P, MACHINE_EPSILON)\n",
    "```"
   ]
  },
  {
   "cell_type": "code",
   "execution_count": 10,
   "metadata": {},
   "outputs": [
    {
     "name": "stdout",
     "output_type": "stream",
     "text": [
      "CPU times: user 1.39 s, sys: 1.32 s, total: 2.71 s\n",
      "Wall time: 1.25 s\n",
      "CPU times: user 51.4 s, sys: 792 ms, total: 52.2 s\n",
      "Wall time: 52.2 s\n"
     ]
    }
   ],
   "source": [
    "# Pairwise distances between all data points.\n",
    "%time D = pairwise_distances(df)\n",
    "# Similarity with variable sigma.\n",
    "%time P_binary = _joint_probabilities(D, 30., False)\n",
    "# The output of this function needs to be reshaped to a square matrix.\n",
    "P_binary_s11 = squareform(P_binary)"
   ]
  },
  {
   "cell_type": "code",
   "execution_count": 11,
   "metadata": {},
   "outputs": [
    {
     "data": {
      "text/plain": [
       "<matplotlib.image.AxesImage at 0x7eff8460d550>"
      ]
     },
     "execution_count": 11,
     "metadata": {},
     "output_type": "execute_result"
    },
    {
     "data": {
      "image/png": "[encoded data removed]",
      "text/plain": [
       "<Figure size 288x288 with 1 Axes>"
      ]
     },
     "metadata": {},
     "output_type": "display_data"
    }
   ],
   "source": [
    "plt.figure(figsize=(4, 4))\n",
    "pal = sns.light_palette(\"blue\", as_cmap=True)\n",
    "plt.imshow(P_binary_s[::10, ::10], interpolation='none', cmap=pal)"
   ]
  },
  {
   "cell_type": "code",
   "execution_count": 12,
   "metadata": {},
   "outputs": [
    {
     "data": {
      "text/plain": [
       "(10000, 2)"
      ]
     },
     "execution_count": 12,
     "metadata": {},
     "output_type": "execute_result"
    }
   ],
   "source": [
    "df = y_cal\n",
    "df = df.loc[df[\"sample\"] == 1, [\"tsne1\", \"tsne2\"]]\n",
    "df.shape"
   ]
  },
  {
   "cell_type": "code",
   "execution_count": 13,
   "metadata": {},
   "outputs": [
    {
     "name": "stdout",
     "output_type": "stream",
     "text": [
      "CPU times: user 1.67 s, sys: 1.28 s, total: 2.95 s\n",
      "Wall time: 1.43 s\n",
      "CPU times: user 53.5 s, sys: 897 ms, total: 54.4 s\n",
      "Wall time: 54.3 s\n"
     ]
    }
   ],
   "source": [
    "# Pairwise distances between all data points.\n",
    "%time D = pairwise_distances(df)\n",
    "# Similarity with variable sigma.\n",
    "%time P_binary = _joint_probabilities(D, 30., False)\n",
    "# The output of this function needs to be reshaped to a square matrix.\n",
    "P_binary_s12 = squareform(P_binary)"
   ]
  },
  {
   "cell_type": "code",
   "execution_count": 14,
   "metadata": {},
   "outputs": [
    {
     "data": {
      "text/plain": [
       "<matplotlib.image.AxesImage at 0x7eff84595908>"
      ]
     },
     "execution_count": 14,
     "metadata": {},
     "output_type": "execute_result"
    },
    {
     "data": {
      "image/png": "[encoded data removed]",
      "text/plain": [
       "<Figure size 288x288 with 1 Axes>"
      ]
     },
     "metadata": {},
     "output_type": "display_data"
    }
   ],
   "source": [
    "plt.figure(figsize=(4, 4))\n",
    "pal = sns.light_palette(\"blue\", as_cmap=True)\n",
    "plt.imshow(P_binary_s12[::10, ::10], interpolation='none', cmap=pal)"
   ]
  },
  {
   "cell_type": "code",
   "execution_count": null,
   "metadata": {},
   "outputs": [],
   "source": [
    "_kl_divergence"
   ]
  }
 ],
 "metadata": {
  "kernelspec": {
   "display_name": "Python 3",
   "language": "python",
   "name": "python3"
  },
  "language_info": {
   "codemirror_mode": {
    "name": "ipython",
    "version": 3
   },
   "file_extension": ".py",
   "mimetype": "text/x-python",
   "name": "python",
   "nbconvert_exporter": "python",
   "pygments_lexer": "ipython3",
   "version": "3.6.6"
  }
 },
 "nbformat": 4,
 "nbformat_minor": 2
}
