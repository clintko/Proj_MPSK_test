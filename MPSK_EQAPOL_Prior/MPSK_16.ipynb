{
 "cells": [
  {
   "cell_type": "code",
   "execution_count": 1,
   "metadata": {},
   "outputs": [
    {
     "name": "stdout",
     "output_type": "stream",
     "text": [
      "(env-py3) "
     ]
    },
    {
     "ename": "",
     "evalue": "1",
     "output_type": "error",
     "traceback": []
    }
   ],
   "source": [
    "source /local_data/env-py3/bin/activate"
   ]
  },
  {
   "cell_type": "code",
   "execution_count": 2,
   "metadata": {
    "scrolled": true
   },
   "outputs": [
    {
     "name": "stdout",
     "output_type": "stream",
     "text": [
      "==========================\n",
      "get jsdiv matrix: raw\n",
      "    Read file\n",
      "    Calculate raw x raw\n",
      "==========================\n",
      "get jsdiv matrix: prior:05\n",
      "    Read file\n",
      "    Calculate cal x cal\n",
      "    Calculate raw x cal\n",
      "==========================\n",
      "get jsdiv matrix: prior:06\n",
      "    Read file\n",
      "    Calculate cal x cal\n",
      "    Calculate raw x cal\n",
      "==========================\n",
      "get jsdiv matrix: prior:07\n",
      "    Read file\n",
      "    Calculate cal x cal\n",
      "    Calculate raw x cal\n",
      "==========================\n",
      "get jsdiv matrix: prior:08\n",
      "    Read file\n",
      "    Calculate cal x cal\n",
      "    Calculate raw x cal\n",
      "==========================\n",
      "get jsdiv matrix: prior:09\n",
      "    Read file\n",
      "    Calculate cal x cal\n",
      "    Calculate raw x cal\n",
      "==========================\n",
      "get jsdiv matrix: prior:10\n",
      "    Read file\n",
      "    Calculate cal x cal\n",
      "    Calculate raw x cal\n",
      "==========================\n",
      "get jsdiv matrix: prior:11\n",
      "    Read file\n",
      "    Calculate cal x cal\n",
      "    Calculate raw x cal\n",
      "==========================\n",
      "get jsdiv matrix: prior:12\n",
      "    Read file\n",
      "    Calculate cal x cal\n",
      "    Calculate raw x cal\n",
      "==========================\n",
      "get jsdiv matrix: prior:13\n",
      "    Read file\n",
      "    Calculate cal x cal\n",
      "    Calculate raw x cal\n",
      "==========================\n",
      "get jsdiv matrix: prior:14\n",
      "    Read file\n",
      "    Calculate cal x cal\n",
      "    Calculate raw x cal\n",
      "==========================\n",
      "get jsdiv matrix: prior:15\n",
      "    Read file\n",
      "    Calculate cal x cal\n",
      "    Calculate raw x cal\n",
      "==========================\n",
      "get jsdiv matrix: prior:20\n",
      "    Read file\n",
      "    Calculate cal x cal\n",
      "    Calculate raw x cal\n",
      "==========================\n",
      "get jsdiv matrix: prior:25\n",
      "    Read file\n",
      "    Calculate cal x cal\n",
      "    Calculate raw x cal\n",
      "==========================\n",
      "get jsdiv matrix: prior:30\n",
      "    Read file\n",
      "    Calculate cal x cal\n",
      "    Calculate raw x cal\n",
      "==========================\n",
      "get jsdiv matrix: prior:35\n",
      "    Read file\n",
      "    Calculate cal x cal\n",
      "    Calculate raw x cal\n",
      "==========================\n",
      "get jsdiv matrix: prior:40\n",
      "    Read file\n",
      "    Calculate cal x cal\n",
      "    Calculate raw x cal\n",
      "==========================\n",
      "get jsdiv matrix: prior:45\n",
      "    Read file\n",
      "    Calculate cal x cal\n",
      "    Calculate raw x cal\n",
      "==========================\n",
      "get jsdiv matrix: prior:50\n",
      "    Read file\n",
      "    Calculate cal x cal\n",
      "    Calculate raw x cal\n",
      "(env-py3) "
     ]
    },
    {
     "ename": "",
     "evalue": "1",
     "output_type": "error",
     "traceback": []
    }
   ],
   "source": [
    "python mpsk_tsne_jsdiv.py"
   ]
  }
 ],
 "metadata": {
  "kernelspec": {
   "display_name": "Bash",
   "language": "bash",
   "name": "bash"
  },
  "language_info": {
   "codemirror_mode": "shell",
   "file_extension": ".sh",
   "mimetype": "text/x-sh",
   "name": "bash"
  }
 },
 "nbformat": 4,
 "nbformat_minor": 2
}
