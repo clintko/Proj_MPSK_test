{
 "cells": [
  {
   "cell_type": "code",
   "execution_count": 34,
   "metadata": {},
   "outputs": [],
   "source": [
    "import numpy as np\n",
    "from scipy.spatial.distance import squareform, pdist\n",
    "from scipy.stats            import entropy\n",
    "\n",
    "import pandas as pd\n",
    "import os, glob\n",
    "import re\n",
    "\n",
    "from sklearn.metrics.pairwise import pairwise_distances\n",
    "from sklearn.manifold.t_sne   import _joint_probabilities\n",
    "\n",
    "import seaborn as sns\n",
    "import matplotlib.pyplot as plt\n",
    "\n",
    "dat_dir = \"/data/clintko/SMPK\"\n",
    "fhead   = \"mpsk_tsne_jsdiv\"\n",
    "#fhead   = \"ep8cs_tsne_jsdiv\"\n",
    "pal = sns.light_palette(\"blue\", as_cmap=True)"
   ]
  },
  {
   "cell_type": "code",
   "execution_count": 35,
   "metadata": {},
   "outputs": [],
   "source": [
    "%matplotlib inline"
   ]
  },
  {
   "cell_type": "code",
   "execution_count": 36,
   "metadata": {},
   "outputs": [],
   "source": [
    "def fun(mat_raw_vs_cal):\n",
    "    \"\"\"...\"\"\"\n",
    "    diag = np.diag(mat_raw_vs_cal)\n",
    "    mat_out = np.zeros((18, 18))\n",
    "    for i in range(18):\n",
    "        for j in range(18):\n",
    "            mat_out[i, j] = diag[i] + diag[j]\n",
    "    return mat_out"
   ]
  },
  {
   "cell_type": "code",
   "execution_count": 51,
   "metadata": {},
   "outputs": [
    {
     "name": "stdout",
     "output_type": "stream",
     "text": [
      "C.txt\t\t\t\t  ep8cs_prior50_tsne_raw.txt\r\n",
      "ep8cs_dat_cal_prior05.txt\t  ep8cs_priors_dat_mpsk_raw.RDS\r\n",
      "ep8cs_dat_cal_prior06.txt\t  ep8cs_tsne_cal_prior05.txt\r\n",
      "ep8cs_dat_cal_prior07.txt\t  ep8cs_tsne_cal_prior06.txt\r\n",
      "ep8cs_dat_cal_prior08.txt\t  ep8cs_tsne_cal_prior07.txt\r\n",
      "ep8cs_dat_cal_prior09.txt\t  ep8cs_tsne_cal_prior08.txt\r\n",
      "ep8cs_dat_cal_prior10.txt\t  ep8cs_tsne_cal_prior09.txt\r\n",
      "ep8cs_dat_cal_prior11.txt\t  ep8cs_tsne_cal_prior10.txt\r\n",
      "ep8cs_dat_cal_prior12.txt\t  ep8cs_tsne_cal_prior11.txt\r\n",
      "ep8cs_dat_cal_prior13.txt\t  ep8cs_tsne_cal_prior12.txt\r\n",
      "ep8cs_dat_cal_prior14.txt\t  ep8cs_tsne_cal_prior13.txt\r\n",
      "ep8cs_dat_cal_prior15.txt\t  ep8cs_tsne_cal_prior14.txt\r\n",
      "ep8cs_dat_cal_prior20.txt\t  ep8cs_tsne_cal_prior15.txt\r\n",
      "ep8cs_dat_cal_prior25.txt\t  ep8cs_tsne_cal_prior20.txt\r\n",
      "ep8cs_dat_cal_prior30.txt\t  ep8cs_tsne_cal_prior25.txt\r\n",
      "ep8cs_dat_cal_prior35.txt\t  ep8cs_tsne_cal_prior30.txt\r\n",
      "ep8cs_dat_cal_prior40.txt\t  ep8cs_tsne_cal_prior35.txt\r\n",
      "ep8cs_dat_cal_prior45.txt\t  ep8cs_tsne_cal_prior40.txt\r\n",
      "ep8cs_dat_cal_prior50.txt\t  ep8cs_tsne_cal_prior45.txt\r\n",
      "ep8cs_dat_gaussnorm.txt\t\t  ep8cs_tsne_cal_prior50.txt\r\n",
      "ep8cs_dat_mpsk_cal.txt\t\t  ep8cs_tsne_gaussnorm.txt\r\n",
      "ep8cs_dat_mpsk_raw.txt\t\t  ep8cs_tsne_idx.txt\r\n",
      "ep8cs_dat_raw.txt\t\t  ep8cs_tsne_jsdiv_cal_prior05.npy\r\n",
      "ep8cs_mpsk_cal.RDS\t\t  ep8cs_tsne_jsdiv_raw.npy\r\n",
      "ep8cs_mpsk_chainSummary.RDS\t  ep8cs_tsne_mpsk_cal.txt\r\n",
      "ep8cs_mpsk_prior05.RDS\t\t  ep8cs_tsne_raw.txt\r\n",
      "ep8cs_mpsk_prior06.RDS\t\t  ep8cs_tsne_similarity_cal_prior05.npy\r\n",
      "ep8cs_mpsk_prior07.RDS\t\t  ep8cs_tsne_similarity_cal_prior06.npy\r\n",
      "ep8cs_mpsk_prior08.RDS\t\t  ep8cs_tsne_similarity_cal_prior07.npy\r\n",
      "ep8cs_mpsk_prior09.RDS\t\t  ep8cs_tsne_similarity_cal_prior08.npy\r\n",
      "ep8cs_mpsk_prior10.RDS\t\t  ep8cs_tsne_similarity_cal_prior09.npy\r\n",
      "ep8cs_mpsk_prior11.RDS\t\t  ep8cs_tsne_similarity_cal_prior10.npy\r\n",
      "ep8cs_mpsk_prior12.RDS\t\t  ep8cs_tsne_similarity_cal_prior11.npy\r\n",
      "ep8cs_mpsk_prior13.RDS\t\t  ep8cs_tsne_similarity_cal_prior12.npy\r\n",
      "ep8cs_mpsk_prior14.RDS\t\t  ep8cs_tsne_similarity_cal_prior13.npy\r\n",
      "ep8cs_mpsk_prior15.RDS\t\t  ep8cs_tsne_similarity_cal_prior14.npy\r\n",
      "ep8cs_mpsk_prior20.RDS\t\t  ep8cs_tsne_similarity_cal_prior15.npy\r\n",
      "ep8cs_mpsk_prior25.RDS\t\t  ep8cs_tsne_similarity_cal_prior20.npy\r\n",
      "ep8cs_mpsk_prior30.RDS\t\t  ep8cs_tsne_similarity_cal_prior25.npy\r\n",
      "ep8cs_mpsk_prior35.RDS\t\t  ep8cs_tsne_similarity_cal_prior30.npy\r\n",
      "ep8cs_mpsk_prior40.RDS\t\t  ep8cs_tsne_similarity_cal_prior35.npy\r\n",
      "ep8cs_mpsk_prior45.RDS\t\t  ep8cs_tsne_similarity_cal_prior40.npy\r\n",
      "ep8cs_mpsk_prior50.RDS\t\t  ep8cs_tsne_similarity_cal_prior45.npy\r\n",
      "ep8cs_mpsk_raw_prior50.RDS\t  ep8cs_tsne_similarity_cal_prior50.npy\r\n",
      "ep8cs_mpsk_raw.RDS\t\t  ep8cs_tsne_similarity_raw.npy\r\n",
      "ep8cs_mpsk_relab.RDS\t\t  ep8cs_tsne_test.txt\r\n",
      "ep8cs_prior50_dat_gaussnorm.txt   mpsk_tsne_jsdiv_cal_prior05.npy\r\n",
      "ep8cs_prior50_dat_mpsk_cal.txt\t  mpsk_tsne_jsdiv_raw_cal_prior05.npy\r\n",
      "ep8cs_prior50_dat_mpsk_raw.txt\t  mpsk_tsne_jsdiv_raw.npy\r\n",
      "ep8cs_prior50_tsne_gaussnorm.txt  Y_raw.txt\r\n",
      "ep8cs_prior50_tsne_mpsk_cal.txt\r\n"
     ]
    }
   ],
   "source": [
    "!ls /data/clintko/SMPK/"
   ]
  },
  {
   "cell_type": "code",
   "execution_count": 37,
   "metadata": {},
   "outputs": [
    {
     "name": "stdout",
     "output_type": "stream",
     "text": [
      "/data/clintko/SMPK/ep8cs_tsne_jsdiv_cal_prior05.npy\r\n",
      "/data/clintko/SMPK/ep8cs_tsne_jsdiv_raw.npy\r\n"
     ]
    }
   ],
   "source": [
    "!ls /data/clintko/SMPK/ep8cs_tsne_jsdiv*"
   ]
  },
  {
   "cell_type": "code",
   "execution_count": 38,
   "metadata": {},
   "outputs": [],
   "source": [
    "mat_jsdiv_raw = np.load(os.path.join(\n",
    "    dat_dir, \n",
    "    fhead + \"_raw.npy\"))"
   ]
  },
  {
   "cell_type": "code",
   "execution_count": 39,
   "metadata": {},
   "outputs": [],
   "source": [
    "mat_jsdiv_cal = np.load(os.path.join(\n",
    "    dat_dir, \n",
    "    fhead + \"_cal_prior05.npy\"))"
   ]
  },
  {
   "cell_type": "code",
   "execution_count": 40,
   "metadata": {},
   "outputs": [],
   "source": [
    "mat_jsdiv_raw_cal = np.load(os.path.join(\n",
    "    dat_dir, \n",
    "    fhead + \"_raw_cal_prior05.npy\"))"
   ]
  },
  {
   "cell_type": "code",
   "execution_count": 48,
   "metadata": {},
   "outputs": [
    {
     "name": "stdout",
     "output_type": "stream",
     "text": [
      "[[ 0.         22.92807331]\n",
      " [22.92807331  0.        ]]\n"
     ]
    }
   ],
   "source": [
    "mat = mat_jsdiv_raw\n",
    "print(mat[:2, :2])"
   ]
  },
  {
   "cell_type": "code",
   "execution_count": 49,
   "metadata": {},
   "outputs": [
    {
     "name": "stdout",
     "output_type": "stream",
     "text": [
      "[[ 0.         23.00765557]\n",
      " [23.00765557  0.        ]]\n"
     ]
    }
   ],
   "source": [
    "mat = mat_jsdiv_cal\n",
    "print(mat[:2, :2])"
   ]
  },
  {
   "cell_type": "code",
   "execution_count": 50,
   "metadata": {},
   "outputs": [
    {
     "name": "stdout",
     "output_type": "stream",
     "text": [
      "[[ 8.30796219 22.96782233]\n",
      " [22.97470415  9.5723168 ]]\n"
     ]
    }
   ],
   "source": [
    "mat = mat_jsdiv_raw_cal\n",
    "print(mat[:2, :2])"
   ]
  },
  {
   "cell_type": "code",
   "execution_count": 41,
   "metadata": {},
   "outputs": [
    {
     "data": {
      "text/plain": [
       "<matplotlib.colorbar.Colorbar at 0x7f13a84300b8>"
      ]
     },
     "execution_count": 41,
     "metadata": {},
     "output_type": "execute_result"
    },
    {
     "data": {
      "image/png": "[encoded data removed]",
      "text/plain": [
       "<Figure size 432x288 with 2 Axes>"
      ]
     },
     "metadata": {},
     "output_type": "display_data"
    }
   ],
   "source": [
    "mat = mat_jsdiv_raw\n",
    "\n",
    "plt.imshow(mat, interpolation='none', cmap=pal)\n",
    "plt.title(\"Raw Data (Before Calibration)\")\n",
    "plt.xlabel(\"Sample\")\n",
    "plt.ylabel(\"Sample\")\n",
    "plt.colorbar()"
   ]
  },
  {
   "cell_type": "code",
   "execution_count": 42,
   "metadata": {},
   "outputs": [
    {
     "data": {
      "text/plain": [
       "<matplotlib.colorbar.Colorbar at 0x7f13a83bcb70>"
      ]
     },
     "execution_count": 42,
     "metadata": {},
     "output_type": "execute_result"
    },
    {
     "data": {
      "image/png": "[encoded data removed]",
      "text/plain": [
       "<Figure size 432x288 with 2 Axes>"
      ]
     },
     "metadata": {},
     "output_type": "display_data"
    }
   ],
   "source": [
    "mat = mat_jsdiv_cal\n",
    "\n",
    "plt.imshow(mat, interpolation='none', cmap=pal)\n",
    "plt.title(\"MPSK (After Calibration; Prior = 5)\")\n",
    "plt.xlabel(\"Sample\")\n",
    "plt.ylabel(\"Sample\")\n",
    "plt.colorbar()"
   ]
  },
  {
   "cell_type": "code",
   "execution_count": 43,
   "metadata": {},
   "outputs": [
    {
     "data": {
      "text/plain": [
       "<matplotlib.colorbar.Colorbar at 0x7f13a82d56d8>"
      ]
     },
     "execution_count": 43,
     "metadata": {},
     "output_type": "execute_result"
    },
    {
     "data": {
      "image/png": "[encoded data removed]",
      "text/plain": [
       "<Figure size 432x288 with 2 Axes>"
      ]
     },
     "metadata": {},
     "output_type": "display_data"
    }
   ],
   "source": [
    "mat = mat_jsdiv_raw_cal\n",
    "\n",
    "plt.imshow(mat, interpolation='none', cmap=pal)\n",
    "plt.title(\"Raw vs MPSK\")\n",
    "plt.xlabel(\"Sample\")\n",
    "plt.ylabel(\"Sample\")\n",
    "plt.colorbar()"
   ]
  },
  {
   "cell_type": "code",
   "execution_count": 44,
   "metadata": {},
   "outputs": [
    {
     "data": {
      "text/plain": [
       "<matplotlib.colorbar.Colorbar at 0x7f134f9d3cc0>"
      ]
     },
     "execution_count": 44,
     "metadata": {},
     "output_type": "execute_result"
    },
    {
     "data": {
      "image/png": "[encoded data removed]",
      "text/plain": [
       "<Figure size 432x288 with 2 Axes>"
      ]
     },
     "metadata": {},
     "output_type": "display_data"
    }
   ],
   "source": [
    "mat_trans = fun(mat_jsdiv_raw_cal)\n",
    "mat = mat_trans\n",
    "\n",
    "plt.imshow(mat, interpolation='none', cmap=pal)\n",
    "plt.title(\"T11 + T22\")\n",
    "plt.xlabel(\"Samples\")\n",
    "plt.ylabel(\"Samples\")\n",
    "plt.colorbar()"
   ]
  },
  {
   "cell_type": "code",
   "execution_count": 45,
   "metadata": {},
   "outputs": [
    {
     "data": {
      "text/plain": [
       "<matplotlib.colorbar.Colorbar at 0x7f134f96bc18>"
      ]
     },
     "execution_count": 45,
     "metadata": {},
     "output_type": "execute_result"
    },
    {
     "data": {
      "image/png": "[encoded data removed]",
      "text/plain": [
       "<Figure size 432x288 with 2 Axes>"
      ]
     },
     "metadata": {},
     "output_type": "display_data"
    }
   ],
   "source": [
    "mat = mat_jsdiv_cal - mat_jsdiv_raw\n",
    "\n",
    "plt.imshow(mat, interpolation='none', cmap=pal)\n",
    "plt.title(\"D(prior = 5) - D(raw)\")\n",
    "plt.xlabel(\"Samples\")\n",
    "plt.ylabel(\"Samples\")\n",
    "plt.colorbar()"
   ]
  },
  {
   "cell_type": "code",
   "execution_count": 47,
   "metadata": {},
   "outputs": [
    {
     "data": {
      "text/plain": [
       "<matplotlib.colorbar.Colorbar at 0x7f134f821208>"
      ]
     },
     "execution_count": 47,
     "metadata": {},
     "output_type": "execute_result"
    },
    {
     "data": {
      "image/png": "[encoded data removed]",
      "text/plain": [
       "<Figure size 432x288 with 2 Axes>"
      ]
     },
     "metadata": {},
     "output_type": "display_data"
    }
   ],
   "source": [
    "mat = (mat_jsdiv_cal - mat_jsdiv_raw) / mat_trans\n",
    "\n",
    "plt.imshow(mat, interpolation='none', cmap=pal)\n",
    "plt.title(\"Metric (Prior = 5)\")\n",
    "plt.xlabel(\"Samples\")\n",
    "plt.ylabel(\"Samples\")\n",
    "plt.colorbar()"
   ]
  }
 ],
 "metadata": {
  "kernelspec": {
   "display_name": "Python 3",
   "language": "python",
   "name": "python3"
  },
  "language_info": {
   "codemirror_mode": {
    "name": "ipython",
    "version": 3
   },
   "file_extension": ".py",
   "mimetype": "text/x-python",
   "name": "python",
   "nbconvert_exporter": "python",
   "pygments_lexer": "ipython3",
   "version": "3.6.6"
  }
 },
 "nbformat": 4,
 "nbformat_minor": 2
}
