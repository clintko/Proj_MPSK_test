{
 "cells": [
  {
   "cell_type": "code",
   "execution_count": 1,
   "metadata": {},
   "outputs": [
    {
     "data": {
      "text/plain": [
       "(None, <pyximport.pyximport.PyxImporter at 0x7f53b02cb550>)"
      ]
     },
     "execution_count": 1,
     "metadata": {},
     "output_type": "execute_result"
    }
   ],
   "source": [
    "import numpy as np\n",
    "from scipy.stats            import entropy\n",
    "from scipy.spatial.distance import squareform\n",
    "import os\n",
    "\n",
    "import pyximport\n",
    "pyximport.install()"
   ]
  },
  {
   "cell_type": "code",
   "execution_count": 2,
   "metadata": {},
   "outputs": [],
   "source": [
    "import jsdiv\n",
    "dat_dir = \"/data/clintko/SMPK\""
   ]
  },
  {
   "cell_type": "code",
   "execution_count": 3,
   "metadata": {},
   "outputs": [
    {
     "data": {
      "text/plain": [
       "<module 'jsdiv' (/home/clintko/.pyxbld/lib.linux-x86_64-3.6/jsdiv.cpython-36m-x86_64-linux-gnu.so)>"
      ]
     },
     "execution_count": 3,
     "metadata": {},
     "output_type": "execute_result"
    }
   ],
   "source": [
    "jsdiv"
   ]
  },
  {
   "cell_type": "code",
   "execution_count": 4,
   "metadata": {},
   "outputs": [
    {
     "data": {
      "text/plain": [
       "<function jsdiv.pairwise_jsdiv_cy>"
      ]
     },
     "execution_count": 4,
     "metadata": {},
     "output_type": "execute_result"
    }
   ],
   "source": [
    "jsdiv.pairwise_jsdiv_cy"
   ]
  },
  {
   "cell_type": "code",
   "execution_count": 5,
   "metadata": {},
   "outputs": [],
   "source": [
    "p_raw = np.load(os.path.join(\n",
    "    dat_dir, \n",
    "    \"ep8cs_tsne_similarity\" + \"_raw.npy\"))"
   ]
  },
  {
   "cell_type": "code",
   "execution_count": 6,
   "metadata": {},
   "outputs": [
    {
     "name": "stdout",
     "output_type": "stream",
     "text": [
      "CPU times: user 4min 17s, sys: 1.19 s, total: 4min 18s\n",
      "Wall time: 4min 17s\n"
     ]
    }
   ],
   "source": [
    "%%time\n",
    "mat_raw2 = np.zeros((p_raw.shape[1], p_raw.shape[1]))\n",
    "jsdiv.pairwise_jsdiv_cy(mat_raw2, p_raw, p_raw)"
   ]
  },
  {
   "cell_type": "code",
   "execution_count": 7,
   "metadata": {},
   "outputs": [
    {
     "data": {
      "text/plain": [
       "array([[ 0.        , 11.46403666],\n",
       "       [11.46403666,  0.        ]])"
      ]
     },
     "execution_count": 7,
     "metadata": {},
     "output_type": "execute_result"
    }
   ],
   "source": [
    "mat_raw2[:2, :2]"
   ]
  },
  {
   "cell_type": "code",
   "execution_count": 12,
   "metadata": {},
   "outputs": [],
   "source": [
    "import glob,re"
   ]
  },
  {
   "cell_type": "code",
   "execution_count": 13,
   "metadata": {},
   "outputs": [],
   "source": [
    "fnames = glob.glob(os.path.join(dat_dir, \"ep8cs_dat_cal_prior*\"))\n",
    "priors = [re.findall(\"prior(.*).txt\", x)[0] for x in fnames]"
   ]
  },
  {
   "cell_type": "code",
   "execution_count": 14,
   "metadata": {},
   "outputs": [
    {
     "data": {
      "text/plain": [
       "18"
      ]
     },
     "execution_count": 14,
     "metadata": {},
     "output_type": "execute_result"
    }
   ],
   "source": [
    "len(priors)"
   ]
  },
  {
   "cell_type": "code",
   "execution_count": null,
   "metadata": {},
   "outputs": [],
   "source": []
  },
  {
   "cell_type": "code",
   "execution_count": null,
   "metadata": {},
   "outputs": [],
   "source": []
  },
  {
   "cell_type": "code",
   "execution_count": 68,
   "metadata": {},
   "outputs": [
    {
     "data": {
      "text/plain": [
       "array([[0.74373885, 0.72014541, 0.63822818, 1.02530635, 0.82888757],\n",
       "       [0.28597324, 1.03869919, 0.87391215, 1.24839417, 1.51509191],\n",
       "       [1.5138792 , 0.9909233 , 1.10772133, 1.06616801, 0.73915728],\n",
       "       [0.65030499, 0.4951706 , 1.13909117, 1.33976234, 0.84937533],\n",
       "       [0.74071711, 1.08445857, 1.52885035, 1.37445163, 1.32514123]])"
      ]
     },
     "execution_count": 68,
     "metadata": {},
     "output_type": "execute_result"
    }
   ],
   "source": [
    "pairwise_jsdiv1(P1, P2)"
   ]
  },
  {
   "cell_type": "code",
   "execution_count": 77,
   "metadata": {},
   "outputs": [
    {
     "data": {
      "text/plain": [
       "array([[0.74373885, 0.72014541, 0.63822818, 1.02530635, 0.82888757],\n",
       "       [0.72014541, 1.03869919, 0.87391215, 1.24839417, 1.51509191],\n",
       "       [0.63822818, 0.87391215, 1.10772133, 1.06616801, 0.73915728],\n",
       "       [1.02530635, 1.24839417, 1.06616801, 1.33976234, 0.84937533],\n",
       "       [0.82888757, 1.51509191, 0.73915728, 0.84937533, 1.32514123]])"
      ]
     },
     "execution_count": 77,
     "metadata": {},
     "output_type": "execute_result"
    }
   ],
   "source": [
    "vec = pairwise_jsdiv2(P1, P2)\n",
    "mat = np.zeros((5, 5))\n",
    "idx = np.triu_indices(5)\n",
    "mat[idx] = vec\n",
    "symmetrize(mat)"
   ]
  },
  {
   "cell_type": "code",
   "execution_count": 74,
   "metadata": {},
   "outputs": [],
   "source": [
    "def kldiv(P1, P2):\n",
    "    \"\"\"calculate KL divergence\"\"\"\n",
    "    P1 = np.array(P1)\n",
    "    P2 = np.array(P2)\n",
    "    return entropy(P1.ravel(), P2.ravel())\n",
    "\n",
    "def jsdiv(P1, P2):\n",
    "    \"\"\"calculate Jensen-Shannon Divergence\"\"\"\n",
    "    return 0.5 * (kldiv(P1, P2) + kldiv(P2, P1))\n",
    "\n",
    "def pairwise_jsdiv1(mat_p1, mat_p2):\n",
    "    \"\"\"\n",
    "    Arg:\n",
    "        mat_p1, mat_p2: similarity matrix\n",
    "    \"\"\" \n",
    "    ### loop over pairwise columns\n",
    "    n   = mat_p1.shape[1]\n",
    "    mat_out = np.zeros((n, n))\n",
    "    for i in range(n):\n",
    "        for j in range(n):\n",
    "            p1 = mat_p1[:, i]\n",
    "            p2 = mat_p2[:, j]\n",
    "            mat_out[i, j] = jsdiv(p1, p2)\n",
    "    return mat_out\n",
    "\n",
    "def pairwise_jsdiv2(mat_p1, mat_p2):\n",
    "    \"\"\"\n",
    "    Arg:\n",
    "        mat_p1, mat_p2: similarity matrix\n",
    "    \"\"\" \n",
    "    ### get & check input matrices' dimension\n",
    "    assert mat_p1.shape[1] == mat_p2.shape[1], \"Two input matrices not having same number of columns\"\n",
    "    n = mat_p1.shape[1]\n",
    "    \n",
    "    ### init\n",
    "    out = list()\n",
    "    ids = np.triu_indices(n)\n",
    "\n",
    "    ### loop over pairwise columns\n",
    "    for i, j in zip(*ids):\n",
    "        p1 = mat_p1[:, i]\n",
    "        p2 = mat_p2[:, j]\n",
    "        out.append(jsdiv(p1, p2))\n",
    "    return out\n",
    "\n",
    "def symmetrize(mat):\n",
    "    \"\"\"make the matrix into symmetric matrix\"\"\"\n",
    "    return mat + mat.T - np.diag(np.diag(mat))"
   ]
  },
  {
   "cell_type": "code",
   "execution_count": null,
   "metadata": {},
   "outputs": [],
   "source": []
  },
  {
   "cell_type": "code",
   "execution_count": null,
   "metadata": {},
   "outputs": [],
   "source": []
  },
  {
   "cell_type": "code",
   "execution_count": null,
   "metadata": {},
   "outputs": [],
   "source": []
  },
  {
   "cell_type": "code",
   "execution_count": null,
   "metadata": {},
   "outputs": [],
   "source": []
  }
 ],
 "metadata": {
  "kernelspec": {
   "display_name": "Python 3",
   "language": "python",
   "name": "python3"
  },
  "language_info": {
   "codemirror_mode": {
    "name": "ipython",
    "version": 3
   },
   "file_extension": ".py",
   "mimetype": "text/x-python",
   "name": "python",
   "nbconvert_exporter": "python",
   "pygments_lexer": "ipython3",
   "version": "3.6.6"
  }
 },
 "nbformat": 4,
 "nbformat_minor": 2
}
