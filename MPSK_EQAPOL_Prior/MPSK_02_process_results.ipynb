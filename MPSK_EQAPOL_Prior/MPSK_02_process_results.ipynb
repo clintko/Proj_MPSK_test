{
 "cells": [
  {
   "cell_type": "markdown",
   "metadata": {},
   "source": [
    "# About the notebook"
   ]
  },
  {
   "cell_type": "code",
   "execution_count": 1,
   "metadata": {},
   "outputs": [],
   "source": [
    "### import libraries\n",
    "suppressMessages(suppressWarnings(library(tidyverse)))\n",
    "suppressMessages(suppressWarnings(library(MPSK)))\n",
    "\n",
    "###\n",
    "dat_dir = \"/data/clintko/SMPK\""
   ]
  },
  {
   "cell_type": "markdown",
   "metadata": {},
   "source": [
    "**helper function**"
   ]
  },
  {
   "cell_type": "code",
   "execution_count": 2,
   "metadata": {},
   "outputs": [],
   "source": [
    "allclose = function(mat1, mat2, tol = 10^(-5)){\n",
    "    dim1 = dim(mat1)\n",
    "    dim2 = dim(mat2)\n",
    "    stopifnot(all(dim1 == dim2))\n",
    "    \n",
    "    x = sum(mat1 - mat2)\n",
    "    return(x < tol)\n",
    "} # end func"
   ]
  },
  {
   "cell_type": "markdown",
   "metadata": {},
   "source": [
    "check the function"
   ]
  },
  {
   "cell_type": "code",
   "execution_count": 3,
   "metadata": {},
   "outputs": [],
   "source": [
    "### read \"ep8cs_mpsk_prior05.RDS\"\n",
    "prior = \"05\"\n",
    "fn  = paste0(\"ep8cs_mpsk_prior\", prior, \".RDS\")\n",
    "lst = readRDS(file.path(dat_dir, fn))"
   ]
  },
  {
   "cell_type": "code",
   "execution_count": 4,
   "metadata": {},
   "outputs": [
    {
     "name": "stdout",
     "output_type": "stream",
     "text": [
      "[1] \"chain\" \"data\"  \"prior\" \"pmc\"  \n",
      "=============\n",
      "[1] \"Y_cal\"                    \"calibration_distribution\"\n",
      "[3] \"calibration_median\"      \n",
      "=============\n",
      " [1] \"xi0\"      \"psi\"      \"alpha\"    \"W\"        \"xi\"       \"Omega\"   \n",
      " [7] \"Sigma\"    \"E\"        \"meanvec\"  \"meanvec0\" \"t\"        \"S\"       \n",
      "[13] \"varphi\"   \"a0\"      \n"
     ]
    }
   ],
   "source": [
    "print(names(lst[[1]]))\n",
    "cat(\"=============\\n\")\n",
    "print(names(lst[[2]]))\n",
    "cat(\"=============\\n\")\n",
    "print(names(lst[[3]]))"
   ]
  },
  {
   "cell_type": "code",
   "execution_count": 5,
   "metadata": {},
   "outputs": [
    {
     "data": {
      "text/html": [
       "<table>\n",
       "<tbody>\n",
       "\t<tr><td>1 </td><td>3 </td><td>5 </td><td>7 </td><td> 9</td></tr>\n",
       "\t<tr><td>2 </td><td>4 </td><td>6 </td><td>8 </td><td>10</td></tr>\n",
       "</tbody>\n",
       "</table>\n"
      ],
      "text/latex": [
       "\\begin{tabular}{lllll}\n",
       "\t 1  & 3  & 5  & 7  &  9\\\\\n",
       "\t 2  & 4  & 6  & 8  & 10\\\\\n",
       "\\end{tabular}\n"
      ],
      "text/markdown": [
       "\n",
       "| 1  | 3  | 5  | 7  |  9 | \n",
       "| 2  | 4  | 6  | 8  | 10 | \n",
       "\n",
       "\n"
      ],
      "text/plain": [
       "     [,1] [,2] [,3] [,4] [,5]\n",
       "[1,] 1    3    5    7     9  \n",
       "[2,] 2    4    6    8    10  "
      ]
     },
     "metadata": {},
     "output_type": "display_data"
    }
   ],
   "source": [
    "matrix(1:10, 2, 5)"
   ]
  },
  {
   "cell_type": "code",
   "execution_count": 6,
   "metadata": {},
   "outputs": [
    {
     "ename": "ERROR",
     "evalue": "Error: all(dim1 == dim2) is not TRUE\n",
     "output_type": "error",
     "traceback": [
      "Error: all(dim1 == dim2) is not TRUE\nTraceback:\n",
      "1. allclose(matrix(1:10, 1, 10), matrix(1:10, 2, 5))",
      "2. stopifnot(all(dim1 == dim2))   # at line 4 of file <text>",
      "3. stop(msg, call. = FALSE, domain = NA)"
     ]
    }
   ],
   "source": [
    "allclose(matrix(1:10, 1, 10), matrix(1:10, 2, 5))"
   ]
  },
  {
   "cell_type": "code",
   "execution_count": 7,
   "metadata": {},
   "outputs": [
    {
     "data": {
      "text/html": [
       "TRUE"
      ],
      "text/latex": [
       "TRUE"
      ],
      "text/markdown": [
       "TRUE"
      ],
      "text/plain": [
       "[1] TRUE"
      ]
     },
     "metadata": {},
     "output_type": "display_data"
    }
   ],
   "source": [
    "allclose(matrix(1:10, 2, 5), matrix(1:10, 2, 5))"
   ]
  },
  {
   "cell_type": "markdown",
   "metadata": {},
   "source": [
    "# Get Raw data"
   ]
  },
  {
   "cell_type": "markdown",
   "metadata": {},
   "source": [
    "Marker"
   ]
  },
  {
   "cell_type": "code",
   "execution_count": 8,
   "metadata": {},
   "outputs": [
    {
     "name": "stderr",
     "output_type": "stream",
     "text": [
      "Parsed with column specification:\n",
      "cols(\n",
      "  X1 = col_character()\n",
      ")\n",
      "Warning message:\n",
      "“Expected 3 pieces. Missing pieces filled with `NA` in 2 rows [1, 2].”"
     ]
    },
    {
     "data": {
      "text/html": [
       "<table>\n",
       "<thead><tr><th scope=col>label</th><th scope=col>color</th><th scope=col>measure</th></tr></thead>\n",
       "<tbody>\n",
       "\t<tr><td>FSC-A     </td><td>FSC-A     </td><td>FSC-A     </td></tr>\n",
       "\t<tr><td>SSC-A     </td><td>SSC-A     </td><td>SSC-A     </td></tr>\n",
       "\t<tr><td>Aqua      </td><td>Amine     </td><td>FLR-A     </td></tr>\n",
       "\t<tr><td>CD3       </td><td>APC-H7    </td><td>FLR-A     </td></tr>\n",
       "\t<tr><td>CD4       </td><td>PE-Cy7    </td><td>FLR-A     </td></tr>\n",
       "\t<tr><td>CD8       </td><td>PerCP-Cy55</td><td>FLR-A     </td></tr>\n",
       "\t<tr><td>TNFa      </td><td>FITC      </td><td>FLR-A     </td></tr>\n",
       "\t<tr><td>IL2       </td><td>BV421     </td><td>FLR-A     </td></tr>\n",
       "\t<tr><td>IFNg      </td><td>APC       </td><td>FLR-A     </td></tr>\n",
       "\t<tr><td>CD107a    </td><td>PE        </td><td>FLR-A     </td></tr>\n",
       "</tbody>\n",
       "</table>\n"
      ],
      "text/latex": [
       "\\begin{tabular}{r|lll}\n",
       " label & color & measure\\\\\n",
       "\\hline\n",
       "\t FSC-A      & FSC-A      & FSC-A     \\\\\n",
       "\t SSC-A      & SSC-A      & SSC-A     \\\\\n",
       "\t Aqua       & Amine      & FLR-A     \\\\\n",
       "\t CD3        & APC-H7     & FLR-A     \\\\\n",
       "\t CD4        & PE-Cy7     & FLR-A     \\\\\n",
       "\t CD8        & PerCP-Cy55 & FLR-A     \\\\\n",
       "\t TNFa       & FITC       & FLR-A     \\\\\n",
       "\t IL2        & BV421      & FLR-A     \\\\\n",
       "\t IFNg       & APC        & FLR-A     \\\\\n",
       "\t CD107a     & PE         & FLR-A     \\\\\n",
       "\\end{tabular}\n"
      ],
      "text/markdown": [
       "\n",
       "label | color | measure | \n",
       "|---|---|---|---|---|---|---|---|---|---|\n",
       "| FSC-A      | FSC-A      | FSC-A      | \n",
       "| SSC-A      | SSC-A      | SSC-A      | \n",
       "| Aqua       | Amine      | FLR-A      | \n",
       "| CD3        | APC-H7     | FLR-A      | \n",
       "| CD4        | PE-Cy7     | FLR-A      | \n",
       "| CD8        | PerCP-Cy55 | FLR-A      | \n",
       "| TNFa       | FITC       | FLR-A      | \n",
       "| IL2        | BV421      | FLR-A      | \n",
       "| IFNg       | APC        | FLR-A      | \n",
       "| CD107a     | PE         | FLR-A      | \n",
       "\n",
       "\n"
      ],
      "text/plain": [
       "   label  color      measure\n",
       "1  FSC-A  FSC-A      FSC-A  \n",
       "2  SSC-A  SSC-A      SSC-A  \n",
       "3  Aqua   Amine      FLR-A  \n",
       "4  CD3    APC-H7     FLR-A  \n",
       "5  CD4    PE-Cy7     FLR-A  \n",
       "6  CD8    PerCP-Cy55 FLR-A  \n",
       "7  TNFa   FITC       FLR-A  \n",
       "8  IL2    BV421      FLR-A  \n",
       "9  IFNg   APC        FLR-A  \n",
       "10 CD107a PE         FLR-A  "
      ]
     },
     "metadata": {},
     "output_type": "display_data"
    }
   ],
   "source": [
    "### read markers data and arrange markers\n",
    "markers = read_table(file.path(\"/data/SMPK\", \"markers.txt\"), col_names = FALSE)\n",
    "markers = separate(\n",
    "    markers, \n",
    "    col  = \"X1\", \n",
    "    into = c(\"label\", \"color\", \"measure\"), \n",
    "    sep  = \" \")\n",
    "\n",
    "### assign scatter names\n",
    "markers$color[1:2]   = c(\"FSC-A\", \"SSC-A\")\n",
    "markers$measure[1:2] = c(\"FSC-A\", \"SSC-A\")\n",
    "\n",
    "### print the results\n",
    "markers"
   ]
  },
  {
   "cell_type": "markdown",
   "metadata": {},
   "source": [
    "read two MPSK results"
   ]
  },
  {
   "cell_type": "code",
   "execution_count": 34,
   "metadata": {},
   "outputs": [],
   "source": [
    "prior = \"05\"\n",
    "fn    = paste0(\"ep8cs_mpsk_prior\", prior, \".RDS\")\n",
    "lst1  = readRDS(file.path(dat_dir, fn))\n",
    "\n",
    "prior = \"06\"\n",
    "fn    = paste0(\"ep8cs_mpsk_prior\", prior, \".RDS\")\n",
    "lst2  = readRDS(file.path(dat_dir, fn))"
   ]
  },
  {
   "cell_type": "code",
   "execution_count": 35,
   "metadata": {},
   "outputs": [
    {
     "data": {
      "text/html": [
       "TRUE"
      ],
      "text/latex": [
       "TRUE"
      ],
      "text/markdown": [
       "TRUE"
      ],
      "text/plain": [
       "[1] TRUE"
      ]
     },
     "metadata": {},
     "output_type": "display_data"
    }
   ],
   "source": [
    "allclose(lst1[[1]]$data$Y, lst2[[2]]$data$Y)"
   ]
  },
  {
   "cell_type": "markdown",
   "metadata": {},
   "source": [
    "Raw data"
   ]
  },
  {
   "cell_type": "code",
   "execution_count": 36,
   "metadata": {},
   "outputs": [
    {
     "data": {
      "text/html": [
       "<table>\n",
       "<thead><tr><th scope=col>sample</th><th scope=col>FSC-A</th><th scope=col>SSC-A</th><th scope=col>Aqua</th><th scope=col>CD3</th><th scope=col>CD4</th><th scope=col>CD8</th><th scope=col>TNFa</th><th scope=col>IL2</th><th scope=col>IFNg</th><th scope=col>CD107a</th></tr></thead>\n",
       "<tbody>\n",
       "\t<tr><td>01                 </td><td>-1.14163633466038  </td><td>-0.0998663297424269</td><td>-0.421067346083575 </td><td>0.776101389553108  </td><td>2.27313461740812   </td><td>0.644449819581802  </td><td>-0.193782896321195 </td><td>-0.0201573743059543</td><td>-0.273448665686352 </td><td>0.607103389533675  </td></tr>\n",
       "\t<tr><td>01                 </td><td>-0.840589282014768 </td><td>-0.738580789812436 </td><td>1.24079568244088   </td><td>-0.422247218863449 </td><td>-0.565880069839085 </td><td>0.655720949526245  </td><td>-0.611851812386504 </td><td>-0.0237740919025737</td><td>-0.349648560256141 </td><td>-0.0375702726874197</td></tr>\n",
       "\t<tr><td>01                 </td><td>0.510717913710444  </td><td>-0.846093843932749 </td><td>-1.05982488841118  </td><td>-0.366178880979045 </td><td>-0.588924663736387 </td><td>-1.85273535637385  </td><td>-1.1840413301604   </td><td>-0.0344726425982347</td><td>-0.425906878914202 </td><td>-0.0267224278715797</td></tr>\n",
       "\t<tr><td>01                 </td><td>-1.56818018038748  </td><td>-0.579969789551865 </td><td>-0.558816545209534 </td><td>0.231985045771453  </td><td>1.84152051476522   </td><td>-0.150230219784546 </td><td>-0.559565415643016 </td><td>0.0214669603191592 </td><td>-0.51009832198181  </td><td>-0.0139190201834252</td></tr>\n",
       "\t<tr><td>01                 </td><td>-1.53712285656791  </td><td>0.324638432758144  </td><td>-0.253565063213273 </td><td>-0.677212987074833 </td><td>2.08721883541798   </td><td>-1.31663162011636  </td><td>-0.645374923534049 </td><td>-0.221684093395212 </td><td>-0.888716670500201 </td><td>0.150536943444253  </td></tr>\n",
       "\t<tr><td>01                 </td><td>-0.29597369902642  </td><td>-0.297036369707201 </td><td>-0.200570062232991 </td><td>-0.630230673248019 </td><td>0.491917617809735  </td><td>-0.845420011596455 </td><td>-0.264651458023937 </td><td>2.44124150050734   </td><td>0.0264719492124281 </td><td>0.338990913722236  </td></tr>\n",
       "</tbody>\n",
       "</table>\n"
      ],
      "text/latex": [
       "\\begin{tabular}{r|lllllllllll}\n",
       " sample & FSC-A & SSC-A & Aqua & CD3 & CD4 & CD8 & TNFa & IL2 & IFNg & CD107a\\\\\n",
       "\\hline\n",
       "\t 01                  & -1.14163633466038   & -0.0998663297424269 & -0.421067346083575  & 0.776101389553108   & 2.27313461740812    & 0.644449819581802   & -0.193782896321195  & -0.0201573743059543 & -0.273448665686352  & 0.607103389533675  \\\\\n",
       "\t 01                  & -0.840589282014768  & -0.738580789812436  & 1.24079568244088    & -0.422247218863449  & -0.565880069839085  & 0.655720949526245   & -0.611851812386504  & -0.0237740919025737 & -0.349648560256141  & -0.0375702726874197\\\\\n",
       "\t 01                  & 0.510717913710444   & -0.846093843932749  & -1.05982488841118   & -0.366178880979045  & -0.588924663736387  & -1.85273535637385   & -1.1840413301604    & -0.0344726425982347 & -0.425906878914202  & -0.0267224278715797\\\\\n",
       "\t 01                  & -1.56818018038748   & -0.579969789551865  & -0.558816545209534  & 0.231985045771453   & 1.84152051476522    & -0.150230219784546  & -0.559565415643016  & 0.0214669603191592  & -0.51009832198181   & -0.0139190201834252\\\\\n",
       "\t 01                  & -1.53712285656791   & 0.324638432758144   & -0.253565063213273  & -0.677212987074833  & 2.08721883541798    & -1.31663162011636   & -0.645374923534049  & -0.221684093395212  & -0.888716670500201  & 0.150536943444253  \\\\\n",
       "\t 01                  & -0.29597369902642   & -0.297036369707201  & -0.200570062232991  & -0.630230673248019  & 0.491917617809735   & -0.845420011596455  & -0.264651458023937  & 2.44124150050734    & 0.0264719492124281  & 0.338990913722236  \\\\\n",
       "\\end{tabular}\n"
      ],
      "text/markdown": [
       "\n",
       "sample | FSC-A | SSC-A | Aqua | CD3 | CD4 | CD8 | TNFa | IL2 | IFNg | CD107a | \n",
       "|---|---|---|---|---|---|\n",
       "| 01                  | -1.14163633466038   | -0.0998663297424269 | -0.421067346083575  | 0.776101389553108   | 2.27313461740812    | 0.644449819581802   | -0.193782896321195  | -0.0201573743059543 | -0.273448665686352  | 0.607103389533675   | \n",
       "| 01                  | -0.840589282014768  | -0.738580789812436  | 1.24079568244088    | -0.422247218863449  | -0.565880069839085  | 0.655720949526245   | -0.611851812386504  | -0.0237740919025737 | -0.349648560256141  | -0.0375702726874197 | \n",
       "| 01                  | 0.510717913710444   | -0.846093843932749  | -1.05982488841118   | -0.366178880979045  | -0.588924663736387  | -1.85273535637385   | -1.1840413301604    | -0.0344726425982347 | -0.425906878914202  | -0.0267224278715797 | \n",
       "| 01                  | -1.56818018038748   | -0.579969789551865  | -0.558816545209534  | 0.231985045771453   | 1.84152051476522    | -0.150230219784546  | -0.559565415643016  | 0.0214669603191592  | -0.51009832198181   | -0.0139190201834252 | \n",
       "| 01                  | -1.53712285656791   | 0.324638432758144   | -0.253565063213273  | -0.677212987074833  | 2.08721883541798    | -1.31663162011636   | -0.645374923534049  | -0.221684093395212  | -0.888716670500201  | 0.150536943444253   | \n",
       "| 01                  | -0.29597369902642   | -0.297036369707201  | -0.200570062232991  | -0.630230673248019  | 0.491917617809735   | -0.845420011596455  | -0.264651458023937  | 2.44124150050734    | 0.0264719492124281  | 0.338990913722236   | \n",
       "\n",
       "\n"
      ],
      "text/plain": [
       "  sample FSC-A              SSC-A               Aqua              \n",
       "1 01     -1.14163633466038  -0.0998663297424269 -0.421067346083575\n",
       "2 01     -0.840589282014768 -0.738580789812436  1.24079568244088  \n",
       "3 01     0.510717913710444  -0.846093843932749  -1.05982488841118 \n",
       "4 01     -1.56818018038748  -0.579969789551865  -0.558816545209534\n",
       "5 01     -1.53712285656791  0.324638432758144   -0.253565063213273\n",
       "6 01     -0.29597369902642  -0.297036369707201  -0.200570062232991\n",
       "  CD3                CD4                CD8                TNFa              \n",
       "1 0.776101389553108  2.27313461740812   0.644449819581802  -0.193782896321195\n",
       "2 -0.422247218863449 -0.565880069839085 0.655720949526245  -0.611851812386504\n",
       "3 -0.366178880979045 -0.588924663736387 -1.85273535637385  -1.1840413301604  \n",
       "4 0.231985045771453  1.84152051476522   -0.150230219784546 -0.559565415643016\n",
       "5 -0.677212987074833 2.08721883541798   -1.31663162011636  -0.645374923534049\n",
       "6 -0.630230673248019 0.491917617809735  -0.845420011596455 -0.264651458023937\n",
       "  IL2                 IFNg               CD107a             \n",
       "1 -0.0201573743059543 -0.273448665686352 0.607103389533675  \n",
       "2 -0.0237740919025737 -0.349648560256141 -0.0375702726874197\n",
       "3 -0.0344726425982347 -0.425906878914202 -0.0267224278715797\n",
       "4 0.0214669603191592  -0.51009832198181  -0.0139190201834252\n",
       "5 -0.221684093395212  -0.888716670500201 0.150536943444253  \n",
       "6 2.44124150050734    0.0264719492124281 0.338990913722236  "
      ]
     },
     "metadata": {},
     "output_type": "display_data"
    }
   ],
   "source": [
    "### init\n",
    "tmp = lst1[[1]]$data\n",
    "\n",
    "### get the raw data\n",
    "Y_raw = tmp$Y\n",
    "colnames(Y_raw) = markers$label\n",
    "\n",
    "### get the sample id \n",
    "C0    = tmp$C %>% as.vector %>% str_pad(., 2, pad = \"0\")\n",
    "dat = cbind(C0, Y_raw) %>% as.data.frame\n",
    "colnames(dat)[1] = \"sample\"\n",
    "\n",
    "### store the results\n",
    "dat_mpsk_raw = dat\n",
    "\n",
    "### check the result\n",
    "head(dat_mpsk_raw)"
   ]
  },
  {
   "cell_type": "code",
   "execution_count": 37,
   "metadata": {},
   "outputs": [],
   "source": [
    "write_delim(dat_mpsk_raw, file.path(dat_dir, \"ep8cs_dat_raw.txt\"), delim = \"\\t\")"
   ]
  },
  {
   "cell_type": "markdown",
   "metadata": {},
   "source": [
    "# Extract Calibration results"
   ]
  },
  {
   "cell_type": "code",
   "execution_count": 31,
   "metadata": {},
   "outputs": [
    {
     "data": {
      "text/html": [
       "<ol class=list-inline>\n",
       "\t<li>'ep8cs_mpsk_prior05.RDS'</li>\n",
       "\t<li>'ep8cs_mpsk_prior06.RDS'</li>\n",
       "\t<li>'ep8cs_mpsk_prior07.RDS'</li>\n",
       "\t<li>'ep8cs_mpsk_prior08.RDS'</li>\n",
       "\t<li>'ep8cs_mpsk_prior09.RDS'</li>\n",
       "\t<li>'ep8cs_mpsk_prior10.RDS'</li>\n",
       "\t<li>'ep8cs_mpsk_prior11.RDS'</li>\n",
       "\t<li>'ep8cs_mpsk_prior12.RDS'</li>\n",
       "\t<li>'ep8cs_mpsk_prior13.RDS'</li>\n",
       "\t<li>'ep8cs_mpsk_prior14.RDS'</li>\n",
       "\t<li>'ep8cs_mpsk_prior15.RDS'</li>\n",
       "\t<li>'ep8cs_mpsk_prior20.RDS'</li>\n",
       "\t<li>'ep8cs_mpsk_prior25.RDS'</li>\n",
       "\t<li>'ep8cs_mpsk_prior30.RDS'</li>\n",
       "\t<li>'ep8cs_mpsk_prior35.RDS'</li>\n",
       "\t<li>'ep8cs_mpsk_prior40.RDS'</li>\n",
       "\t<li>'ep8cs_mpsk_prior45.RDS'</li>\n",
       "\t<li>'ep8cs_mpsk_prior50.RDS'</li>\n",
       "</ol>\n"
      ],
      "text/latex": [
       "\\begin{enumerate*}\n",
       "\\item 'ep8cs\\_mpsk\\_prior05.RDS'\n",
       "\\item 'ep8cs\\_mpsk\\_prior06.RDS'\n",
       "\\item 'ep8cs\\_mpsk\\_prior07.RDS'\n",
       "\\item 'ep8cs\\_mpsk\\_prior08.RDS'\n",
       "\\item 'ep8cs\\_mpsk\\_prior09.RDS'\n",
       "\\item 'ep8cs\\_mpsk\\_prior10.RDS'\n",
       "\\item 'ep8cs\\_mpsk\\_prior11.RDS'\n",
       "\\item 'ep8cs\\_mpsk\\_prior12.RDS'\n",
       "\\item 'ep8cs\\_mpsk\\_prior13.RDS'\n",
       "\\item 'ep8cs\\_mpsk\\_prior14.RDS'\n",
       "\\item 'ep8cs\\_mpsk\\_prior15.RDS'\n",
       "\\item 'ep8cs\\_mpsk\\_prior20.RDS'\n",
       "\\item 'ep8cs\\_mpsk\\_prior25.RDS'\n",
       "\\item 'ep8cs\\_mpsk\\_prior30.RDS'\n",
       "\\item 'ep8cs\\_mpsk\\_prior35.RDS'\n",
       "\\item 'ep8cs\\_mpsk\\_prior40.RDS'\n",
       "\\item 'ep8cs\\_mpsk\\_prior45.RDS'\n",
       "\\item 'ep8cs\\_mpsk\\_prior50.RDS'\n",
       "\\end{enumerate*}\n"
      ],
      "text/markdown": [
       "1. 'ep8cs_mpsk_prior05.RDS'\n",
       "2. 'ep8cs_mpsk_prior06.RDS'\n",
       "3. 'ep8cs_mpsk_prior07.RDS'\n",
       "4. 'ep8cs_mpsk_prior08.RDS'\n",
       "5. 'ep8cs_mpsk_prior09.RDS'\n",
       "6. 'ep8cs_mpsk_prior10.RDS'\n",
       "7. 'ep8cs_mpsk_prior11.RDS'\n",
       "8. 'ep8cs_mpsk_prior12.RDS'\n",
       "9. 'ep8cs_mpsk_prior13.RDS'\n",
       "10. 'ep8cs_mpsk_prior14.RDS'\n",
       "11. 'ep8cs_mpsk_prior15.RDS'\n",
       "12. 'ep8cs_mpsk_prior20.RDS'\n",
       "13. 'ep8cs_mpsk_prior25.RDS'\n",
       "14. 'ep8cs_mpsk_prior30.RDS'\n",
       "15. 'ep8cs_mpsk_prior35.RDS'\n",
       "16. 'ep8cs_mpsk_prior40.RDS'\n",
       "17. 'ep8cs_mpsk_prior45.RDS'\n",
       "18. 'ep8cs_mpsk_prior50.RDS'\n",
       "\n",
       "\n"
      ],
      "text/plain": [
       " [1] \"ep8cs_mpsk_prior05.RDS\" \"ep8cs_mpsk_prior06.RDS\" \"ep8cs_mpsk_prior07.RDS\"\n",
       " [4] \"ep8cs_mpsk_prior08.RDS\" \"ep8cs_mpsk_prior09.RDS\" \"ep8cs_mpsk_prior10.RDS\"\n",
       " [7] \"ep8cs_mpsk_prior11.RDS\" \"ep8cs_mpsk_prior12.RDS\" \"ep8cs_mpsk_prior13.RDS\"\n",
       "[10] \"ep8cs_mpsk_prior14.RDS\" \"ep8cs_mpsk_prior15.RDS\" \"ep8cs_mpsk_prior20.RDS\"\n",
       "[13] \"ep8cs_mpsk_prior25.RDS\" \"ep8cs_mpsk_prior30.RDS\" \"ep8cs_mpsk_prior35.RDS\"\n",
       "[16] \"ep8cs_mpsk_prior40.RDS\" \"ep8cs_mpsk_prior45.RDS\" \"ep8cs_mpsk_prior50.RDS\""
      ]
     },
     "metadata": {},
     "output_type": "display_data"
    }
   ],
   "source": [
    "grep(\"ep8cs_mpsk_prior\", dir(dat_dir), value = TRUE)"
   ]
  },
  {
   "cell_type": "code",
   "execution_count": 32,
   "metadata": {},
   "outputs": [
    {
     "name": "stdout",
     "output_type": "stream",
     "text": [
      " [1] \"05\" \"06\" \"07\" \"08\" \"09\" \"10\" \"11\" \"12\" \"13\" \"14\" \"15\" \"20\" \"25\" \"30\" \"35\"\n",
      "[16] \"40\" \"45\" \"50\"\n"
     ]
    }
   ],
   "source": [
    "fnames = grep(\"ep8cs_mpsk_prior\", dir(dat_dir), value = TRUE)\n",
    "priors = str_extract(fnames, \"([0-9][0-9])\")\n",
    "print(priors)"
   ]
  },
  {
   "cell_type": "code",
   "execution_count": 33,
   "metadata": {},
   "outputs": [
    {
     "name": "stdout",
     "output_type": "stream",
     "text": [
      "[1] \"res_p 05\"\n",
      "[1] \"res_p 06\"\n",
      "[1] \"res_p 07\"\n",
      "[1] \"res_p 08\"\n",
      "[1] \"res_p 09\"\n",
      "[1] \"res_p 10\"\n",
      "[1] \"res_p 11\"\n",
      "[1] \"res_p 12\"\n",
      "[1] \"res_p 13\"\n",
      "[1] \"res_p 14\"\n",
      "[1] \"res_p 15\"\n",
      "[1] \"res_p 20\"\n",
      "[1] \"res_p 25\"\n",
      "[1] \"res_p 30\"\n",
      "[1] \"res_p 35\"\n",
      "[1] \"res_p 40\"\n",
      "[1] \"res_p 45\"\n",
      "[1] \"res_p 50\"\n"
     ]
    }
   ],
   "source": [
    "for (prior in priors) {\n",
    "    print(paste(\"res_p\", prior))\n",
    "    \n",
    "    ### get the results\n",
    "    fn  = paste0(\"ep8cs_mpsk_prior\", prior, \".RDS\")\n",
    "    lst = readRDS(file.path(dat_dir, fn))\n",
    "    resRelab      = lst[[1]]\n",
    "    resCalibrated = lst[[2]]\n",
    "    chainSummary  = lst[[3]]\n",
    "    \n",
    "    ### extract needed data\n",
    "    clust = chainSummary$t\n",
    "    Y_cal = resCalibrated$Y_cal\n",
    "    C0    = resRelab$data$C %>% as.vector %>% str_pad(., 2, pad = \"0\")\n",
    "    \n",
    "    ### assign column names\n",
    "    colnames(Y_cal) = markers$label\n",
    "\n",
    "    ### combine MPSK cluster label with calibrated data\n",
    "    dat = cbind(C0, clust, Y_cal) %>% as.data.frame\n",
    "    colnames(dat)[1:2] = c(\"sample\", \"cluster\")\n",
    "    \n",
    "    ### store the results\n",
    "    fn  = paste0(\"ep8cs_dat_cal_prior\", prior, \".txt\")\n",
    "    write_delim(dat, file.path(dat_dir, fn), delim = \"\\t\")\n",
    "} # end for loop"
   ]
  },
  {
   "cell_type": "code",
   "execution_count": 26,
   "metadata": {},
   "outputs": [
    {
     "data": {
      "text/html": [
       "'ep8cs_dat_cal_prior05.txt'"
      ],
      "text/latex": [
       "'ep8cs\\_dat\\_cal\\_prior05.txt'"
      ],
      "text/markdown": [
       "'ep8cs_dat_cal_prior05.txt'"
      ],
      "text/plain": [
       "[1] \"ep8cs_dat_cal_prior05.txt\""
      ]
     },
     "metadata": {},
     "output_type": "display_data"
    }
   ],
   "source": [
    "fn"
   ]
  },
  {
   "cell_type": "code",
   "execution_count": 25,
   "metadata": {},
   "outputs": [
    {
     "data": {
      "text/html": [
       "<table>\n",
       "<thead><tr><th scope=col>sample</th><th scope=col>cluster</th><th scope=col>FSC-A</th><th scope=col>SSC-A</th><th scope=col>Aqua</th><th scope=col>CD3</th><th scope=col>CD4</th><th scope=col>CD8</th><th scope=col>TNFa</th><th scope=col>IL2</th><th scope=col>IFNg</th><th scope=col>CD107a</th></tr></thead>\n",
       "<tbody>\n",
       "\t<tr><td>01                 </td><td>3                  </td><td>-0.98423150292396  </td><td>-0.16179342298508  </td><td>-0.795520988622445 </td><td>0.713207215414791  </td><td>2.01062749661674   </td><td>0.564377519812175  </td><td>-0.290899686381339 </td><td>-0.392517277473855 </td><td>-0.209602530629948 </td><td>0.400671774743342  </td></tr>\n",
       "\t<tr><td>01                 </td><td>5                  </td><td>-0.806028562483723 </td><td>-0.721101037252474 </td><td>1.09392118884391   </td><td>-0.75723963706419  </td><td>-0.933950298336434 </td><td>0.745650932812885  </td><td>-0.546633644246002 </td><td>-0.619454385253928 </td><td>-0.294870043265272 </td><td>-0.262249440731844 </td></tr>\n",
       "\t<tr><td>01                 </td><td>4                  </td><td>0.75269105527197   </td><td>-0.797409392676305 </td><td>-1.39024611271943  </td><td>-0.57610314126629  </td><td>-0.97506550355159  </td><td>-2.11399200191819  </td><td>-0.854901812582802 </td><td>-0.749277340384801 </td><td>-0.306363607198003 </td><td>-0.0913008538079166</td></tr>\n",
       "\t<tr><td>01                 </td><td>3                  </td><td>-1.41077534865106  </td><td>-0.641896882794518 </td><td>-0.933270187748404 </td><td>0.169090871633136  </td><td>1.57901339397384   </td><td>-0.230302519554173 </td><td>-0.65668220570316  </td><td>-0.350892942848741 </td><td>-0.446252186925406 </td><td>-0.220350634973757 </td></tr>\n",
       "\t<tr><td>01                 </td><td>3                  </td><td>-1.37971802483149  </td><td>0.262711339515491  </td><td>-0.628018705752143 </td><td>-0.74010716121315  </td><td>1.8247117146266    </td><td>-1.39670391988598  </td><td>-0.742491713594193 </td><td>-0.594043996563113 </td><td>-0.824870535443797 </td><td>-0.0558946713460795</td></tr>\n",
       "\t<tr><td>01                 </td><td>3                  </td><td>-0.123036655415598 </td><td>-0.344019718473991 </td><td>-0.562671117410012 </td><td>-0.708774259895499 </td><td>0.217465050249512  </td><td>-0.944924910166226 </td><td>-0.346659100168537 </td><td>2.04986332617732   </td><td>0.105045316671014  </td><td>0.151658991872607  </td></tr>\n",
       "</tbody>\n",
       "</table>\n"
      ],
      "text/latex": [
       "\\begin{tabular}{r|llllllllllll}\n",
       " sample & cluster & FSC-A & SSC-A & Aqua & CD3 & CD4 & CD8 & TNFa & IL2 & IFNg & CD107a\\\\\n",
       "\\hline\n",
       "\t 01                  & 3                   & -0.98423150292396   & -0.16179342298508   & -0.795520988622445  & 0.713207215414791   & 2.01062749661674    & 0.564377519812175   & -0.290899686381339  & -0.392517277473855  & -0.209602530629948  & 0.400671774743342  \\\\\n",
       "\t 01                  & 5                   & -0.806028562483723  & -0.721101037252474  & 1.09392118884391    & -0.75723963706419   & -0.933950298336434  & 0.745650932812885   & -0.546633644246002  & -0.619454385253928  & -0.294870043265272  & -0.262249440731844 \\\\\n",
       "\t 01                  & 4                   & 0.75269105527197    & -0.797409392676305  & -1.39024611271943   & -0.57610314126629   & -0.97506550355159   & -2.11399200191819   & -0.854901812582802  & -0.749277340384801  & -0.306363607198003  & -0.0913008538079166\\\\\n",
       "\t 01                  & 3                   & -1.41077534865106   & -0.641896882794518  & -0.933270187748404  & 0.169090871633136   & 1.57901339397384    & -0.230302519554173  & -0.65668220570316   & -0.350892942848741  & -0.446252186925406  & -0.220350634973757 \\\\\n",
       "\t 01                  & 3                   & -1.37971802483149   & 0.262711339515491   & -0.628018705752143  & -0.74010716121315   & 1.8247117146266     & -1.39670391988598   & -0.742491713594193  & -0.594043996563113  & -0.824870535443797  & -0.0558946713460795\\\\\n",
       "\t 01                  & 3                   & -0.123036655415598  & -0.344019718473991  & -0.562671117410012  & -0.708774259895499  & 0.217465050249512   & -0.944924910166226  & -0.346659100168537  & 2.04986332617732    & 0.105045316671014   & 0.151658991872607  \\\\\n",
       "\\end{tabular}\n"
      ],
      "text/markdown": [
       "\n",
       "sample | cluster | FSC-A | SSC-A | Aqua | CD3 | CD4 | CD8 | TNFa | IL2 | IFNg | CD107a | \n",
       "|---|---|---|---|---|---|\n",
       "| 01                  | 3                   | -0.98423150292396   | -0.16179342298508   | -0.795520988622445  | 0.713207215414791   | 2.01062749661674    | 0.564377519812175   | -0.290899686381339  | -0.392517277473855  | -0.209602530629948  | 0.400671774743342   | \n",
       "| 01                  | 5                   | -0.806028562483723  | -0.721101037252474  | 1.09392118884391    | -0.75723963706419   | -0.933950298336434  | 0.745650932812885   | -0.546633644246002  | -0.619454385253928  | -0.294870043265272  | -0.262249440731844  | \n",
       "| 01                  | 4                   | 0.75269105527197    | -0.797409392676305  | -1.39024611271943   | -0.57610314126629   | -0.97506550355159   | -2.11399200191819   | -0.854901812582802  | -0.749277340384801  | -0.306363607198003  | -0.0913008538079166 | \n",
       "| 01                  | 3                   | -1.41077534865106   | -0.641896882794518  | -0.933270187748404  | 0.169090871633136   | 1.57901339397384    | -0.230302519554173  | -0.65668220570316   | -0.350892942848741  | -0.446252186925406  | -0.220350634973757  | \n",
       "| 01                  | 3                   | -1.37971802483149   | 0.262711339515491   | -0.628018705752143  | -0.74010716121315   | 1.8247117146266     | -1.39670391988598   | -0.742491713594193  | -0.594043996563113  | -0.824870535443797  | -0.0558946713460795 | \n",
       "| 01                  | 3                   | -0.123036655415598  | -0.344019718473991  | -0.562671117410012  | -0.708774259895499  | 0.217465050249512   | -0.944924910166226  | -0.346659100168537  | 2.04986332617732    | 0.105045316671014   | 0.151658991872607   | \n",
       "\n",
       "\n"
      ],
      "text/plain": [
       "  sample cluster FSC-A              SSC-A              Aqua              \n",
       "1 01     3       -0.98423150292396  -0.16179342298508  -0.795520988622445\n",
       "2 01     5       -0.806028562483723 -0.721101037252474 1.09392118884391  \n",
       "3 01     4       0.75269105527197   -0.797409392676305 -1.39024611271943 \n",
       "4 01     3       -1.41077534865106  -0.641896882794518 -0.933270187748404\n",
       "5 01     3       -1.37971802483149  0.262711339515491  -0.628018705752143\n",
       "6 01     3       -0.123036655415598 -0.344019718473991 -0.562671117410012\n",
       "  CD3                CD4                CD8                TNFa              \n",
       "1 0.713207215414791  2.01062749661674   0.564377519812175  -0.290899686381339\n",
       "2 -0.75723963706419  -0.933950298336434 0.745650932812885  -0.546633644246002\n",
       "3 -0.57610314126629  -0.97506550355159  -2.11399200191819  -0.854901812582802\n",
       "4 0.169090871633136  1.57901339397384   -0.230302519554173 -0.65668220570316 \n",
       "5 -0.74010716121315  1.8247117146266    -1.39670391988598  -0.742491713594193\n",
       "6 -0.708774259895499 0.217465050249512  -0.944924910166226 -0.346659100168537\n",
       "  IL2                IFNg               CD107a             \n",
       "1 -0.392517277473855 -0.209602530629948 0.400671774743342  \n",
       "2 -0.619454385253928 -0.294870043265272 -0.262249440731844 \n",
       "3 -0.749277340384801 -0.306363607198003 -0.0913008538079166\n",
       "4 -0.350892942848741 -0.446252186925406 -0.220350634973757 \n",
       "5 -0.594043996563113 -0.824870535443797 -0.0558946713460795\n",
       "6 2.04986332617732   0.105045316671014  0.151658991872607  "
      ]
     },
     "metadata": {},
     "output_type": "display_data"
    }
   ],
   "source": [
    "head(dat)"
   ]
  }
 ],
 "metadata": {
  "kernelspec": {
   "display_name": "R",
   "language": "R",
   "name": "r"
  },
  "language_info": {
   "codemirror_mode": "r",
   "file_extension": ".r",
   "mimetype": "text/x-r-source",
   "name": "R",
   "pygments_lexer": "r",
   "version": "3.4.4"
  }
 },
 "nbformat": 4,
 "nbformat_minor": 2
}
