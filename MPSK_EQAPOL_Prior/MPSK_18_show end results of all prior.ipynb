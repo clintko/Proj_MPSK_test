{
 "cells": [
  {
   "cell_type": "code",
   "execution_count": 1,
   "metadata": {},
   "outputs": [],
   "source": [
    "import numpy as np\n",
    "from scipy.spatial.distance import squareform, pdist\n",
    "from scipy.stats            import entropy\n",
    "\n",
    "import pandas as pd\n",
    "import os, glob\n",
    "import re\n",
    "\n",
    "from sklearn.metrics.pairwise import pairwise_distances\n",
    "from sklearn.manifold.t_sne   import _joint_probabilities\n",
    "\n",
    "import seaborn as sns\n",
    "import matplotlib.pyplot as plt\n",
    "\n",
    "dat_dir = \"/data/clintko/SMPK\"\n",
    "fhead   = \"ep8cs_tsne_jsdiv\"\n",
    "#fhead   = \"ep8cs_tsne_jsdiv\"\n",
    "pal = sns.light_palette(\"blue\", as_cmap=True)"
   ]
  },
  {
   "cell_type": "code",
   "execution_count": 2,
   "metadata": {},
   "outputs": [],
   "source": [
    "%matplotlib inline"
   ]
  },
  {
   "cell_type": "code",
   "execution_count": 3,
   "metadata": {},
   "outputs": [],
   "source": [
    "def read_pmat(fnames):\n",
    "    \"\"\"stack the pmat of MPSK cal\"\"\"\n",
    "    mat = [np.load(fn) for fn in fnames]\n",
    "    mat = np.stack(mat, axis=2)\n",
    "    return mat\n",
    "\n",
    "def get_t1t2(mat_raw_vs_cal):\n",
    "    \"\"\"get the t1 + t2 from diagonal of raw vs MPSK cal\"\"\"\n",
    "    diag = np.diag(mat_raw_vs_cal)\n",
    "    mat_out = np.zeros((18, 18))\n",
    "    for i in range(18):\n",
    "        for j in range(18):\n",
    "            mat_out[i, j] = diag[i] + diag[j]\n",
    "    return mat_out"
   ]
  },
  {
   "cell_type": "code",
   "execution_count": 38,
   "metadata": {},
   "outputs": [],
   "source": [
    "fnames = glob.glob(os.path.join(dat_dir, \"ep8cs_dat_cal_prior*\"))\n",
    "priors = [re.findall(\"prior(.*).txt\", x)[0] for x in fnames]\n",
    "priors = np.array(priors)"
   ]
  },
  {
   "cell_type": "code",
   "execution_count": 5,
   "metadata": {},
   "outputs": [],
   "source": [
    "### js div matrix: Raw x Raw\n",
    "jsdiv_raw = np.load(\"/data/clintko/SMPK/ep8cs_tsne_jsdiv_raw.npy\")\n",
    "\n",
    "### js div matrix: MPSK calibrated x MPSK calibrated\n",
    "fnames = glob.glob(\"/data/clintko/SMPK/ep8cs_tsne_jsdiv_cal_prior*.npy\")\n",
    "jsdiv_cal = read_pmat(fnames)\n",
    "\n",
    "### js div matrix: raw vs MPSK calibrated\n",
    "fnames = glob.glob(\"/data/clintko/SMPK/ep8cs_tsne_jsdiv_raw_cal_prior*.npy\")\n",
    "jsdiv_raw_cal = read_pmat(fnames)"
   ]
  },
  {
   "cell_type": "code",
   "execution_count": 7,
   "metadata": {},
   "outputs": [
    {
     "name": "stdout",
     "output_type": "stream",
     "text": [
      "(18, 18)\n",
      "(18, 18, 18)\n",
      "(18, 18, 18)\n"
     ]
    }
   ],
   "source": [
    "print(jsdiv_raw.shape)\n",
    "print(jsdiv_cal.shape)\n",
    "print(jsdiv_raw_cal.shape)"
   ]
  },
  {
   "cell_type": "code",
   "execution_count": 8,
   "metadata": {},
   "outputs": [
    {
     "name": "stdout",
     "output_type": "stream",
     "text": [
      "(18, 18, 18)\n"
     ]
    }
   ],
   "source": [
    "jsdiv_t1t2 = [get_t1t2(jsdiv_raw_cal[:, :, idx]) for idx in range(18)]\n",
    "jsdiv_t1t2 = np.stack(jsdiv_t1t2, axis = 2)\n",
    "print(jsdiv_t1t2.shape)"
   ]
  },
  {
   "cell_type": "code",
   "execution_count": 9,
   "metadata": {},
   "outputs": [
    {
     "name": "stdout",
     "output_type": "stream",
     "text": [
      "(18, 18, 18)\n"
     ]
    }
   ],
   "source": [
    "jsdiv_raw2 = [jsdiv_raw for _ in range(18)]\n",
    "jsdiv_raw2 = np.stack(jsdiv_raw2, axis = 2)\n",
    "print(jsdiv_raw2.shape)"
   ]
  },
  {
   "cell_type": "markdown",
   "metadata": {},
   "source": [
    "# check weird values"
   ]
  },
  {
   "cell_type": "code",
   "execution_count": 17,
   "metadata": {},
   "outputs": [
    {
     "data": {
      "text/plain": [
       "[(0, '05', False, False),\n",
       " (1, '06', False, False),\n",
       " (2, '07', False, False),\n",
       " (3, '08', False, False),\n",
       " (4, '09', False, False),\n",
       " (5, '10', False, False),\n",
       " (6, '11', False, False),\n",
       " (7, '12', False, False),\n",
       " (8, '13', False, False),\n",
       " (9, '14', False, False),\n",
       " (10, '15', False, False),\n",
       " (11, '20', True, True),\n",
       " (12, '25', False, True),\n",
       " (13, '30', False, True),\n",
       " (14, '35', False, True),\n",
       " (15, '40', False, True),\n",
       " (16, '45', False, True),\n",
       " (17, '50', True, True)]"
      ]
     },
     "execution_count": 17,
     "metadata": {},
     "output_type": "execute_result"
    }
   ],
   "source": [
    "[(idx, priors[idx], np.any(jsdiv_t1t2[:, :, idx] == 0), np.any(jsdiv_t1t2[:, :, idx] < 0))\n",
    " for idx in range(18)]"
   ]
  },
  {
   "cell_type": "code",
   "execution_count": 11,
   "metadata": {},
   "outputs": [
    {
     "name": "stdout",
     "output_type": "stream",
     "text": [
      "[[ 1  3  4  5  7  9 14 17]\n",
      " [ 1  3  4  5  7  9 14 17]]\n",
      "[-6.95540929e-19 -2.79457798e-18 -3.08563656e-18 -4.40493754e-18\n",
      " -4.89974881e-18 -3.49747444e-18  0.00000000e+00 -3.03945620e-18]\n"
     ]
    }
   ],
   "source": [
    "mat = jsdiv_raw_cal[:, :, 11]\n",
    "idx = np.where(mat <= 0)\n",
    "print(np.stack(idx))\n",
    "print(mat[idx])"
   ]
  },
  {
   "cell_type": "code",
   "execution_count": 12,
   "metadata": {},
   "outputs": [],
   "source": [
    "import pyximport\n",
    "pyximport.install()\n",
    "import jsdiv"
   ]
  },
  {
   "cell_type": "code",
   "execution_count": 13,
   "metadata": {},
   "outputs": [
    {
     "name": "stdout",
     "output_type": "stream",
     "text": [
      "20\n"
     ]
    }
   ],
   "source": [
    "prior = priors[11]\n",
    "print(prior)"
   ]
  },
  {
   "cell_type": "code",
   "execution_count": 14,
   "metadata": {},
   "outputs": [],
   "source": [
    "fhead   = \"ep8cs_tsne_similarity\"\n",
    "prior   = priors[11]\n",
    "p_raw   = np.load(os.path.join(dat_dir, fhead + \"_raw.npy\"))\n",
    "p_cal20 = np.load(os.path.join(dat_dir, fhead + \"_cal_prior\" + prior + \".npy\"))\n",
    "DIM = 18"
   ]
  },
  {
   "cell_type": "code",
   "execution_count": 15,
   "metadata": {},
   "outputs": [
    {
     "name": "stdout",
     "output_type": "stream",
     "text": [
      "(49995000, 18)\n",
      "(49995000, 18)\n"
     ]
    }
   ],
   "source": [
    "print(p_raw.shape)\n",
    "print(p_cal20.shape)"
   ]
  },
  {
   "cell_type": "code",
   "execution_count": 26,
   "metadata": {},
   "outputs": [
    {
     "name": "stdout",
     "output_type": "stream",
     "text": [
      "-5.293723368368323e-18\n",
      "3.902641510392528e-18\n",
      "-6.955409289878975e-19\n"
     ]
    }
   ],
   "source": [
    "p1 = p_raw[:, 1]\n",
    "p2 = p_cal20[:, 1]\n",
    "print(jsdiv.entropy_cy(p1, p2) * 2)\n",
    "print(jsdiv.entropy_cy(p2, p1) * 2)\n",
    "print(jsdiv.jsdiv_cy(p1, p2)   * 2)"
   ]
  },
  {
   "cell_type": "code",
   "execution_count": 27,
   "metadata": {},
   "outputs": [
    {
     "name": "stdout",
     "output_type": "stream",
     "text": [
      "-5.293723255179614e-18\n",
      "3.9026414269503555e-18\n",
      "-6.955409141146293e-19\n"
     ]
    }
   ],
   "source": [
    "# using scipy\n",
    "print(entropy(p1, p2))\n",
    "print(entropy(p2, p1))\n",
    "print(0.5 * (entropy(p1, p2) + entropy(p2, p1)))"
   ]
  },
  {
   "cell_type": "code",
   "execution_count": 20,
   "metadata": {},
   "outputs": [
    {
     "data": {
      "text/plain": [
       "array([[ 4.06257511e-18,  2.29280733e+01],\n",
       "       [ 2.29280733e+01, -6.95540929e-19]])"
      ]
     },
     "execution_count": 20,
     "metadata": {},
     "output_type": "execute_result"
    }
   ],
   "source": [
    "# double check in the matrix\n",
    "jsdiv_raw_cal[:2, :2, 11]"
   ]
  },
  {
   "cell_type": "markdown",
   "metadata": {},
   "source": [
    "\"The Kullback–Leibler divergence is always non-negative\" from [wiki](https://en.wikipedia.org/wiki/Kullback%E2%80%93Leibler_divergence)"
   ]
  },
  {
   "cell_type": "markdown",
   "metadata": {},
   "source": [
    "# calculate the metric"
   ]
  },
  {
   "cell_type": "code",
   "execution_count": 34,
   "metadata": {},
   "outputs": [
    {
     "name": "stdout",
     "output_type": "stream",
     "text": [
      "[ True  True  True  True  True  True  True  True  True  True  True False\n",
      "  True  True  True  True  True False]\n"
     ]
    }
   ],
   "source": [
    "idx = np.array([np.all(jsdiv_t1t2[:, :, idx] != 0) for idx in range(18)])\n",
    "print(idx)"
   ]
  },
  {
   "cell_type": "code",
   "execution_count": 55,
   "metadata": {},
   "outputs": [
    {
     "data": {
      "text/plain": [
       "'20'"
      ]
     },
     "execution_count": 55,
     "metadata": {},
     "output_type": "execute_result"
    }
   ],
   "source": [
    "priors[11]"
   ]
  },
  {
   "cell_type": "code",
   "execution_count": 53,
   "metadata": {},
   "outputs": [
    {
     "name": "stdout",
     "output_type": "stream",
     "text": [
      "(18, 18, 16)\n",
      "(18, 18, 16)\n"
     ]
    }
   ],
   "source": [
    "p    = priors[idx].astype(int)\n",
    "diff = jsdiv_cal[:, :, idx] - jsdiv_raw2[:, :, idx]\n",
    "metric = diff / jsdiv_t1t2[:, :, idx]\n",
    "print(diff.shape)\n",
    "print(metric.shape)"
   ]
  },
  {
   "cell_type": "code",
   "execution_count": 66,
   "metadata": {},
   "outputs": [
    {
     "data": {
      "text/plain": [
       "array([ 5,  6,  7,  8,  9, 10, 11, 12, 13, 14, 15, 20, 25, 30, 35, 40, 45,\n",
       "       50])"
      ]
     },
     "execution_count": 66,
     "metadata": {},
     "output_type": "execute_result"
    }
   ],
   "source": [
    "priors.astype(int)"
   ]
  },
  {
   "cell_type": "code",
   "execution_count": 80,
   "metadata": {},
   "outputs": [
    {
     "data": {
      "text/plain": [
       "array([ 5,  7,  9, 11, 13, 15, 17, 19])"
      ]
     },
     "execution_count": 80,
     "metadata": {},
     "output_type": "execute_result"
    }
   ],
   "source": [
    "np.arange(20)[5, 6., 8, 10, 12, 14, 15, 20, 25, 30, 35, 40, 45, 50]"
   ]
  },
  {
   "cell_type": "code",
   "execution_count": 92,
   "metadata": {},
   "outputs": [
    {
     "data": {
      "image/png": "[encoded data removed]",
      "text/plain": [
       "<Figure size 504x288 with 1 Axes>"
      ]
     },
     "metadata": {},
     "output_type": "display_data"
    }
   ],
   "source": [
    "fig, ax = plt.subplots(1, 1, figsize=(7, 4))\n",
    "val = metric.sum(axis = 0).sum(axis = 0)\n",
    "\n",
    "#ax.plot(p[:11], val[:11], \"co-\")\n",
    "#ax.plot(p[11:], val[11:], \"co-\")\n",
    "ax.plot(p, val, \"co-\")\n",
    "\n",
    "ax.set_xlim((4, 50))\n",
    "ax.set_xticks([5, 6, 8, 10, 12, 15, 20, 25, 30, 35, 40, 45, 50])\n",
    "\n",
    "ax.set_title(\"Calibration Metric vs Priors\",      size = 20)\n",
    "ax.set_xlabel(\"Priors\",               size = 15)\n",
    "ax.set_ylabel(\"Sum of Metric Matrix\", size = 15)\n",
    "\n",
    "plt.savefig(\"Calibration_Metric_vs_Priors.png\", dpi=300)\n",
    "pass"
   ]
  },
  {
   "cell_type": "code",
   "execution_count": 105,
   "metadata": {},
   "outputs": [
    {
     "data": {
      "image/png": "[encoded data removed]",
      "text/plain": [
       "<Figure size 504x288 with 1 Axes>"
      ]
     },
     "metadata": {},
     "output_type": "display_data"
    }
   ],
   "source": [
    "fig, ax = plt.subplots(1, 1, figsize=(7, 4))\n",
    "val = metric.sum(axis = 0).sum(axis = 0)\n",
    "\n",
    "ax.plot(p[:11], val[:11], \"co-\")\n",
    "\n",
    "ax.set_xlim((4, 16))\n",
    "ax.set_xticks([5, 6, 7, 8, 9, 10, 11, 12, 13, 14, 15])\n",
    "\n",
    "ax.set_title(\"Calibration Metric vs Priors (priors 5~15)\", size = 18)\n",
    "ax.set_xlabel(\"Priors\",               size = 15)\n",
    "ax.set_ylabel(\"Sum of Metric Matrix\", size = 15)\n",
    "\n",
    "plt.savefig(\"Calibration_Metric_vs_Priors_5_to_15.png\", dpi=300)\n",
    "pass"
   ]
  },
  {
   "cell_type": "code",
   "execution_count": null,
   "metadata": {},
   "outputs": [],
   "source": []
  },
  {
   "cell_type": "code",
   "execution_count": null,
   "metadata": {},
   "outputs": [],
   "source": []
  },
  {
   "cell_type": "code",
   "execution_count": 29,
   "metadata": {},
   "outputs": [
    {
     "data": {
      "text/plain": [
       "array([[ 0.        , 23.01933332, 23.01575644, 23.01567403, 23.0168688 ,\n",
       "        23.01440715, 23.00949286, 22.96944427, 23.01425728, 23.00156701,\n",
       "        23.00918295, 23.004269  , 23.001657  , 23.00224821, 23.0094571 ,\n",
       "        23.00998239, 23.01115464, 23.01371745],\n",
       "       [23.01933332,  0.        , 23.02957606, 23.03758413, 23.03451449,\n",
       "        23.04112615, 23.02954896, 22.99545905, 23.02217236, 23.01455802,\n",
       "        23.03363833, 23.01665925, 23.02614139, 23.02271896, 23.03131286,\n",
       "        23.02653449, 23.02601924, 23.0341355 ],\n",
       "       [23.01575644, 23.02957606,  0.        , 23.02813849, 23.02316626,\n",
       "        23.03631908, 23.00235365, 22.98271118, 23.01996319, 23.01290599,\n",
       "        23.03541862, 23.00877477, 23.01624964, 23.02741241, 23.01040666,\n",
       "        23.02165185, 23.02735133, 23.04035433],\n",
       "       [23.01567403, 23.03758413, 23.02813849,  0.        , 23.01994369,\n",
       "        23.03078841, 23.02086479, 22.9830994 , 23.0227741 , 23.00778366,\n",
       "        23.02448934, 23.01511932, 23.01641379, 23.01766207, 23.02286791,\n",
       "        23.03102423, 23.02440079, 23.03393942],\n",
       "       [23.0168688 , 23.03451449, 23.02316626, 23.01994369,  0.        ,\n",
       "        23.0295342 , 23.01455669, 22.98876479, 23.01671958, 23.01447399,\n",
       "        23.03948572, 23.01106321, 23.02563116, 23.02583478, 23.02465659,\n",
       "        23.0294941 , 23.0358553 , 23.03899156],\n",
       "       [23.01440715, 23.04112615, 23.03631908, 23.03078841, 23.0295342 ,\n",
       "         0.        , 23.02335834, 22.99444408, 23.03131608, 23.02261795,\n",
       "        23.04251287, 23.03180875, 23.02249869, 23.0391777 , 23.03028802,\n",
       "        23.04076051, 23.03573306, 23.04520097],\n",
       "       [23.00949286, 23.02954896, 23.00235365, 23.02086479, 23.01455669,\n",
       "        23.02335834,  0.        , 22.98961133, 23.02781893, 23.01061312,\n",
       "        23.01920828, 23.01238573, 23.00449525, 23.01473242, 23.0149403 ,\n",
       "        23.02964621, 23.01932657, 23.02072894],\n",
       "       [22.96944427, 22.99545905, 22.98271118, 22.9830994 , 22.98876479,\n",
       "        22.99444408, 22.98961133,  0.        , 22.98903268, 22.98034656,\n",
       "        22.98407251, 22.97485879, 22.97202904, 22.97924983, 22.96745092,\n",
       "        22.98148213, 22.97828351, 22.98899644],\n",
       "       [23.01425728, 23.02217236, 23.01996319, 23.0227741 , 23.01671958,\n",
       "        23.03131608, 23.02781893, 22.98903268,  0.        , 23.01206272,\n",
       "        23.01618261, 23.027401  , 23.0155588 , 23.02770922, 23.01589836,\n",
       "        23.02894426, 23.01737822, 23.04110176],\n",
       "       [23.00156701, 23.01455802, 23.01290599, 23.00778366, 23.01447399,\n",
       "        23.02261795, 23.01061312, 22.98034656, 23.01206272,  0.        ,\n",
       "        23.01102414, 23.00882301, 23.00906069, 23.00777456, 23.00230834,\n",
       "        23.01081599, 23.01276887, 23.01569603],\n",
       "       [23.00918295, 23.03363833, 23.03541862, 23.02448934, 23.03948572,\n",
       "        23.04251287, 23.01920828, 22.98407251, 23.01618261, 23.01102414,\n",
       "         0.        , 23.02258059, 23.01265369, 23.025141  , 23.02347195,\n",
       "        23.02148757, 23.02623423, 23.03393981],\n",
       "       [23.004269  , 23.01665925, 23.00877477, 23.01511932, 23.01106321,\n",
       "        23.03180875, 23.01238573, 22.97485879, 23.027401  , 23.00882301,\n",
       "        23.02258059,  0.        , 23.01219156, 23.02146614, 23.0016114 ,\n",
       "        23.01900129, 23.01086926, 23.02470102],\n",
       "       [23.001657  , 23.02614139, 23.01624964, 23.01641379, 23.02563116,\n",
       "        23.02249869, 23.00449525, 22.97202904, 23.0155588 , 23.00906069,\n",
       "        23.01265369, 23.01219156,  0.        , 23.01152961, 23.01879847,\n",
       "        23.02613878, 23.01357886, 23.0256287 ],\n",
       "       [23.00224821, 23.02271896, 23.02741241, 23.01766207, 23.02583478,\n",
       "        23.0391777 , 23.01473242, 22.97924983, 23.02770922, 23.00777456,\n",
       "        23.025141  , 23.02146614, 23.01152961,  0.        , 23.0199921 ,\n",
       "        23.01739781, 23.02054109, 23.02840575],\n",
       "       [23.0094571 , 23.03131286, 23.01040666, 23.02286791, 23.02465659,\n",
       "        23.03028802, 23.0149403 , 22.96745092, 23.01589836, 23.00230834,\n",
       "        23.02347195, 23.0016114 , 23.01879847, 23.0199921 ,  0.        ,\n",
       "        23.02062569, 23.01700271, 23.03209579],\n",
       "       [23.00998239, 23.02653449, 23.02165185, 23.03102423, 23.0294941 ,\n",
       "        23.04076051, 23.02964621, 22.98148213, 23.02894426, 23.01081599,\n",
       "        23.02148757, 23.01900129, 23.02613878, 23.01739781, 23.02062569,\n",
       "         0.        , 23.03086307, 23.03875452],\n",
       "       [23.01115464, 23.02601924, 23.02735133, 23.02440079, 23.0358553 ,\n",
       "        23.03573306, 23.01932657, 22.97828351, 23.01737822, 23.01276887,\n",
       "        23.02623423, 23.01086926, 23.01357886, 23.02054109, 23.01700271,\n",
       "        23.03086307,  0.        , 23.02519732],\n",
       "       [23.01371745, 23.0341355 , 23.04035433, 23.03393942, 23.03899156,\n",
       "        23.04520097, 23.02072894, 22.98899644, 23.04110176, 23.01569603,\n",
       "        23.03393981, 23.02470102, 23.0256287 , 23.02840575, 23.03209579,\n",
       "        23.03875452, 23.02519732,  0.        ]])"
      ]
     },
     "execution_count": 29,
     "metadata": {},
     "output_type": "execute_result"
    }
   ],
   "source": [
    "p_cal"
   ]
  },
  {
   "cell_type": "code",
   "execution_count": 24,
   "metadata": {},
   "outputs": [],
   "source": [
    "mat = np.load('/data/clintko/SMPK/ep8cs_tsne_jsdiv_cal_prior06.npy')"
   ]
  },
  {
   "cell_type": "code",
   "execution_count": 25,
   "metadata": {},
   "outputs": [
    {
     "data": {
      "text/plain": [
       "array([[ 0.        , 23.00654379, 22.99312659, 23.00688553, 23.01194309,\n",
       "        23.02165173, 23.00107203, 22.97744172, 23.00744692, 22.99314846,\n",
       "        23.01434392, 22.98551095, 22.99105483, 23.00230313, 23.01061021,\n",
       "        23.0007607 , 23.00808728, 23.01366451],\n",
       "       [23.00654379,  0.        , 23.01188128, 23.03185629, 23.03299827,\n",
       "        23.04017079, 23.02569932, 22.97767635, 23.02471835, 23.01239105,\n",
       "        23.03403788, 23.00509842, 23.01107484, 23.0321615 , 23.02372115,\n",
       "        23.02349712, 23.00894125, 23.03707326],\n",
       "       [22.99312659, 23.01188128,  0.        , 23.0173227 , 23.02020169,\n",
       "        23.01838862, 22.99654049, 22.97736912, 23.00531704, 22.98914106,\n",
       "        23.00988335, 22.98137351, 22.99403977, 23.00800344, 23.00469218,\n",
       "        23.00446879, 23.00428964, 23.00975807],\n",
       "       [23.00688553, 23.03185629, 23.0173227 ,  0.        , 23.03438869,\n",
       "        23.03191001, 23.02809014, 22.98894313, 23.01751284, 22.99878139,\n",
       "        23.03002585, 23.00018372, 23.01031492, 23.02487379, 23.02534172,\n",
       "        23.03124436, 23.02351888, 23.02869133],\n",
       "       [23.01194309, 23.03299827, 23.02020169, 23.03438869,  0.        ,\n",
       "        23.03649637, 23.0124272 , 22.99258662, 23.02177339, 23.00998805,\n",
       "        23.03709332, 23.00714312, 23.01911556, 23.03224185, 23.03242237,\n",
       "        23.02987229, 23.03004576, 23.0463397 ],\n",
       "       [23.02165173, 23.04017079, 23.01838862, 23.03191001, 23.03649637,\n",
       "         0.        , 23.02245798, 23.00410401, 23.02625521, 23.02264934,\n",
       "        23.04603108, 23.01200866, 23.01657993, 23.03370241, 23.03284413,\n",
       "        23.03302978, 23.03060528, 23.03700921],\n",
       "       [23.00107203, 23.02569932, 22.99654049, 23.02809014, 23.0124272 ,\n",
       "        23.02245798,  0.        , 22.98104411, 23.02097095, 23.00621626,\n",
       "        23.01636772, 22.99602463, 23.00292769, 23.00609801, 23.01495775,\n",
       "        23.01543571, 23.00837264, 23.01021473],\n",
       "       [22.97744172, 22.97767635, 22.97736912, 22.98894313, 22.99258662,\n",
       "        23.00410401, 22.98104411,  0.        , 22.98468959, 22.97021378,\n",
       "        22.98895035, 22.96730937, 22.97053569, 22.98891903, 22.97278473,\n",
       "        22.98467838, 22.99177651, 22.99570984],\n",
       "       [23.00744692, 23.02471835, 23.00531704, 23.01751284, 23.02177339,\n",
       "        23.02625521, 23.02097095, 22.98468959,  0.        , 23.00851368,\n",
       "        23.01932842, 23.00554533, 23.0108088 , 23.02270393, 23.01874581,\n",
       "        23.02416437, 23.00593618, 23.01314515],\n",
       "       [22.99314846, 23.01239105, 22.98914106, 22.99878139, 23.00998805,\n",
       "        23.02264934, 23.00621626, 22.97021378, 23.00851368,  0.        ,\n",
       "        23.00241916, 22.98619684, 22.99917419, 23.00126843, 23.00683254,\n",
       "        23.00779378, 23.00429171, 23.01934846],\n",
       "       [23.01434392, 23.03403788, 23.00988335, 23.03002585, 23.03709332,\n",
       "        23.04603108, 23.01636772, 22.98895035, 23.01932842, 23.00241916,\n",
       "         0.        , 23.00979956, 23.01269278, 23.03292128, 23.02797642,\n",
       "        23.02617636, 23.02004913, 23.02563526],\n",
       "       [22.98551095, 23.00509842, 22.98137351, 23.00018372, 23.00714312,\n",
       "        23.01200866, 22.99602463, 22.96730937, 23.00554533, 22.98619684,\n",
       "        23.00979956,  0.        , 22.99573659, 23.01573371, 23.00729572,\n",
       "        23.0079281 , 23.00188028, 23.0104997 ],\n",
       "       [22.99105483, 23.01107484, 22.99403977, 23.01031492, 23.01911556,\n",
       "        23.01657993, 23.00292769, 22.97053569, 23.0108088 , 22.99917419,\n",
       "        23.01269278, 22.99573659,  0.        , 23.00685502, 23.0031465 ,\n",
       "        23.00879252, 22.99904541, 23.01497894],\n",
       "       [23.00230313, 23.0321615 , 23.00800344, 23.02487379, 23.03224185,\n",
       "        23.03370241, 23.00609801, 22.98891903, 23.02270393, 23.00126843,\n",
       "        23.03292128, 23.01573371, 23.00685502,  0.        , 23.02631107,\n",
       "        23.02548071, 23.02465299, 23.03434907],\n",
       "       [23.01061021, 23.02372115, 23.00469218, 23.02534172, 23.03242237,\n",
       "        23.03284413, 23.01495775, 22.97278473, 23.01874581, 23.00683254,\n",
       "        23.02797642, 23.00729572, 23.0031465 , 23.02631107,  0.        ,\n",
       "        23.02215665, 23.01716784, 23.02138485],\n",
       "       [23.0007607 , 23.02349712, 23.00446879, 23.03124436, 23.02987229,\n",
       "        23.03302978, 23.01543571, 22.98467838, 23.02416437, 23.00779378,\n",
       "        23.02617636, 23.0079281 , 23.00879252, 23.02548071, 23.02215665,\n",
       "         0.        , 23.02483743, 23.03951062],\n",
       "       [23.00808728, 23.00894125, 23.00428964, 23.02351888, 23.03004576,\n",
       "        23.03060528, 23.00837264, 22.99177651, 23.00593618, 23.00429171,\n",
       "        23.02004913, 23.00188028, 22.99904541, 23.02465299, 23.01716784,\n",
       "        23.02483743,  0.        , 23.02828714],\n",
       "       [23.01366451, 23.03707326, 23.00975807, 23.02869133, 23.0463397 ,\n",
       "        23.03700921, 23.01021473, 22.99570984, 23.01314515, 23.01934846,\n",
       "        23.02563526, 23.0104997 , 23.01497894, 23.03434907, 23.02138485,\n",
       "        23.03951062, 23.02828714,  0.        ]])"
      ]
     },
     "execution_count": 25,
     "metadata": {},
     "output_type": "execute_result"
    }
   ],
   "source": [
    "mat"
   ]
  }
 ],
 "metadata": {
  "kernelspec": {
   "display_name": "Python 3",
   "language": "python",
   "name": "python3"
  },
  "language_info": {
   "codemirror_mode": {
    "name": "ipython",
    "version": 3
   },
   "file_extension": ".py",
   "mimetype": "text/x-python",
   "name": "python",
   "nbconvert_exporter": "python",
   "pygments_lexer": "ipython3",
   "version": "3.6.6"
  }
 },
 "nbformat": 4,
 "nbformat_minor": 2
}
