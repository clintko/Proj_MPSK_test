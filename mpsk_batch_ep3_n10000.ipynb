{
 "cells": [
  {
   "cell_type": "markdown",
   "metadata": {},
   "source": [
    "# Set environment"
   ]
  },
  {
   "cell_type": "code",
   "execution_count": 1,
   "metadata": {},
   "outputs": [
    {
     "name": "stderr",
     "output_type": "stream",
     "text": [
      "── Attaching packages ─────────────────────────────────────── tidyverse 1.2.1 ──\n",
      "✔ ggplot2 3.0.0     ✔ purrr   0.2.5\n",
      "✔ tibble  1.4.2     ✔ dplyr   0.7.6\n",
      "✔ tidyr   0.8.1     ✔ stringr 1.3.1\n",
      "✔ readr   1.1.1     ✔ forcats 0.3.0\n",
      "── Conflicts ────────────────────────────────────────── tidyverse_conflicts() ──\n",
      "✖ dplyr::filter() masks stats::filter()\n",
      "✖ dplyr::lag()    masks stats::lag()\n",
      "\n",
      "Attaching package: ‘gridExtra’\n",
      "\n",
      "The following object is masked from ‘package:dplyr’:\n",
      "\n",
      "    combine\n",
      "\n"
     ]
    }
   ],
   "source": [
    "### tools\n",
    "library(tidyverse)\n",
    "library(MPSK)\n",
    "\n",
    "### plots\n",
    "library(gridExtra)\n",
    "library(RColorBrewer)\n",
    "\n",
    "### directory\n",
    "#datadir = \"/data/flow/EP3/files\"\n",
    "datadir = \"./\""
   ]
  },
  {
   "cell_type": "markdown",
   "metadata": {},
   "source": [
    "# Import Data"
   ]
  },
  {
   "cell_type": "code",
   "execution_count": 2,
   "metadata": {},
   "outputs": [
    {
     "name": "stdout",
     "output_type": "stream",
     "text": [
      " [1] \"mpsk_ep3_01_F6901PRY_C_SEED0_N10000.RDS\"\n",
      " [2] \"mpsk_ep3_01_G6904VJT_E_SEED0_N10000.RDS\"\n",
      " [3] \"mpsk_ep3_01_K6902C85_A_SEED0_N10000.RDS\"\n",
      " [4] \"mpsk_ep3_02_F6901PRY_C_SEED0_N10000.RDS\"\n",
      " [5] \"mpsk_ep3_02_G6904VJT_E_SEED0_N10000.RDS\"\n",
      " [6] \"mpsk_ep3_02_K6902C85_A_SEED0_N10000.RDS\"\n",
      " [7] \"mpsk_ep3_03_F6901PRY_C_SEED0_N10000.RDS\"\n",
      " [8] \"mpsk_ep3_03_G6904VJT_E_SEED0_N10000.RDS\"\n",
      " [9] \"mpsk_ep3_03_K6902C85_A_SEED0_N10000.RDS\"\n",
      "[10] \"mpsk_ep3_05_F6901PRY_C_SEED0_N10000.RDS\"\n",
      "[11] \"mpsk_ep3_05_G6904VJT_E_SEED0_N10000.RDS\"\n",
      "[12] \"mpsk_ep3_05_K6902C85_A_SEED0_N10000.RDS\"\n",
      "[13] \"mpsk_ep3_06_F6901PRY_C_SEED0_N10000.RDS\"\n",
      "[14] \"mpsk_ep3_06_G6904VJT_E_SEED0_N10000.RDS\"\n",
      "[15] \"mpsk_ep3_06_K6902C85_A_SEED0_N10000.RDS\"\n",
      "[16] \"mpsk_ep3_07_F6901PRY_C_SEED0_N10000.RDS\"\n",
      "[17] \"mpsk_ep3_07_G6904VJT_E_SEED0_N10000.RDS\"\n",
      "[18] \"mpsk_ep3_07_K6902C85_A_SEED0_N10000.RDS\"\n",
      "[19] \"mpsk_ep3_09_F6901PRY_C_SEED0_N10000.RDS\"\n",
      "[20] \"mpsk_ep3_09_G6904VJT_E_SEED0_N10000.RDS\"\n",
      "[21] \"mpsk_ep3_09_K6902C85_A_SEED0_N10000.RDS\"\n",
      "[22] \"mpsk_ep3_10_F6901PRY_C_SEED0_N10000.RDS\"\n",
      "[23] \"mpsk_ep3_10_G6904VJT_E_SEED0_N10000.RDS\"\n",
      "[24] \"mpsk_ep3_10_K6902C85_A_SEED0_N10000.RDS\"\n",
      "[25] \"mpsk_ep3_11_F6901PRY_C_SEED0_N10000.RDS\"\n",
      "[26] \"mpsk_ep3_11_G6904VJT_E_SEED0_N10000.RDS\"\n",
      "[27] \"mpsk_ep3_11_K6902C85_A_SEED0_N10000.RDS\"\n"
     ]
    }
   ],
   "source": [
    "fnames = dir(datadir) %>% grep(\"N10000.RDS\", ., value = TRUE) %>% grep(\"mpsk\", ., value = TRUE)\n",
    "fnames = sort(fnames)\n",
    "print(fnames)"
   ]
  },
  {
   "cell_type": "code",
   "execution_count": 3,
   "metadata": {},
   "outputs": [],
   "source": [
    "res_batch = lapply(fnames, readRDS)\n",
    "names(res_batch) = fnames"
   ]
  },
  {
   "cell_type": "code",
   "execution_count": 4,
   "metadata": {},
   "outputs": [],
   "source": [
    "markers = c('FSC_A', 'SSC_A', 'CD3', 'CD4', 'CD8', 'IFN+IL2')"
   ]
  },
  {
   "cell_type": "markdown",
   "metadata": {},
   "source": [
    "# Benchmark"
   ]
  },
  {
   "cell_type": "code",
   "execution_count": 5,
   "metadata": {},
   "outputs": [],
   "source": [
    "tt = sapply(res_batch, function(res){\n",
    "    tt_stop  = res$time_stop\n",
    "    tt_start = res$time_start\n",
    "    tt_diff  = difftime(tt_stop, tt_start, units = \"hours\")\n",
    "    return(tt_diff)\n",
    "}) # end lapply"
   ]
  },
  {
   "cell_type": "code",
   "execution_count": 6,
   "metadata": {},
   "outputs": [
    {
     "data": {
      "image/png": "[encoded data removed]",
      "text/plain": [
       "plot without title"
      ]
     },
     "metadata": {},
     "output_type": "display_data"
    }
   ],
   "source": [
    "options(repr.plot.height = 3, repr.plot.width = 3)\n",
    "\n",
    "gp = data.frame(y = tt, x = \"MPSK N10000\") %>%\n",
    "    ggplot(., aes(x = x, y = y)) +   \n",
    "    geom_boxplot() +\n",
    "    labs(y = \"Running time (hours)\") + \n",
    "    theme(axis.title.x = element_blank())\n",
    "\n",
    "print(gp)"
   ]
  },
  {
   "cell_type": "markdown",
   "metadata": {},
   "source": [
    "# Relabel and Calibration"
   ]
  },
  {
   "cell_type": "markdown",
   "metadata": {},
   "source": [
    "try one sample"
   ]
  },
  {
   "cell_type": "code",
   "execution_count": 7,
   "metadata": {},
   "outputs": [],
   "source": [
    "idx           <- 1\n",
    "lst           <- res_batch[[idx]]"
   ]
  },
  {
   "cell_type": "code",
   "execution_count": 8,
   "metadata": {},
   "outputs": [],
   "source": [
    "res           <- relabelChain(lst$res)"
   ]
  },
  {
   "cell_type": "code",
   "execution_count": 9,
   "metadata": {},
   "outputs": [],
   "source": [
    "resCalibrated <- calibrate(res)"
   ]
  },
  {
   "cell_type": "code",
   "execution_count": 10,
   "metadata": {},
   "outputs": [
    {
     "ename": "ERROR",
     "evalue": "Error in matrix(0, nrow = J, ncol = p * K): invalid 'ncol' value (too large or NA)\n",
     "output_type": "error",
     "traceback": [
      "Error in matrix(0, nrow = J, ncol = p * K): invalid 'ncol' value (too large or NA)\nTraceback:\n",
      "1. summarizeChain(resCalibrated)",
      "2. matrix(0, nrow = J, ncol = p * K)"
     ]
    }
   ],
   "source": [
    "chainSummary  <- summarizeChain(resCalibrated)"
   ]
  },
  {
   "cell_type": "markdown",
   "metadata": {},
   "source": [
    "process all samples"
   ]
  },
  {
   "cell_type": "code",
   "execution_count": null,
   "metadata": {},
   "outputs": [],
   "source": [
    "res_process = lapply(res_batch, function(lst){\n",
    "    res           = lst$res\n",
    "    resRelab      = relabelChain(res)\n",
    "    resCalibrated = calibrate(resRelab)\n",
    "    chainSummary  = summarizeChain(resRelab)\n",
    "    \n",
    "    return(list(\n",
    "        resRelab      = resRelab,\n",
    "        resCalibrated = resCalibrated,\n",
    "        chainSummary  = chainSummary\n",
    "    ))\n",
    "}) # end lapply"
   ]
  },
  {
   "cell_type": "markdown",
   "metadata": {},
   "source": [
    "# Visualization\n",
    "**Here I first visualize using the sample code from shai**"
   ]
  },
  {
   "cell_type": "markdown",
   "metadata": {},
   "source": [
    "Choose a sample"
   ]
  },
  {
   "cell_type": "code",
   "execution_count": null,
   "metadata": {},
   "outputs": [],
   "source": [
    "print(length(res_process))\n",
    "names(res_process)"
   ]
  },
  {
   "cell_type": "markdown",
   "metadata": {},
   "source": [
    "here I use the first sample"
   ]
  },
  {
   "cell_type": "code",
   "execution_count": null,
   "metadata": {},
   "outputs": [],
   "source": [
    "idx           <- 1\n",
    "resMPSK       <- res_process[[idx]]\n",
    "res           <- resMPSK$resRelab\n",
    "resCalibrated <- resMPSK$resCalibrated\n",
    "chainSummary  <- resMPSK$chainSummary\n",
    "\n",
    "Y = res$data$Y\n",
    "C = res$data$C\n",
    "J = length(unique(C))            # number of samples\n",
    "kIdx = unique(chainSummary$t)    # unempty clusters\n",
    "#par(mfrow = c(3, J))             # \n",
    "#par(mar=c(2.5, 2.5, 1.5, 0))     # set margin\n",
    "\n",
    "cat(\"\",\n",
    "    \"#Total Clusters:    \", J, \"\\n\",\n",
    "    \"#Non empty clusters:\", length(chainSummary$t), \"\\n\",\n",
    "    \"Non empty clusters: \", kIdx)"
   ]
  },
  {
   "cell_type": "markdown",
   "metadata": {},
   "source": [
    "set plot style"
   ]
  },
  {
   "cell_type": "code",
   "execution_count": null,
   "metadata": {},
   "outputs": [],
   "source": [
    "my_set_style <- function(){\n",
    "    plot(0, 0, type = \"n\", ann = FALSE, axes = FALSE)          # empty plot\n",
    "    u <- par(\"usr\")                                            # The coordinates of the plot area\n",
    "    rect(u[1], u[3], u[2], u[4], col = \"#EAEAF2\", border = NA) # set plot background (seaborn: #EAEAF2)\n",
    "    #rect(u[1], u[3], u[2], u[4], col = \"#dcdcf2\", border = NA) \n",
    "    grid(lty = 1, lwd = 2, col = \"white\")                      # grid line\n",
    "    par(new=TRUE)\n",
    "}"
   ]
  },
  {
   "cell_type": "markdown",
   "metadata": {},
   "source": [
    "plot data original  \n",
    "Note: [how to acquire more categorical color from RColorBrewer](https://stackoverflow.com/questions/15282580/how-to-generate-a-number-of-most-distinctive-colors-in-r)"
   ]
  },
  {
   "cell_type": "code",
   "execution_count": null,
   "metadata": {},
   "outputs": [],
   "source": [
    "options(repr.plot.height = 5, repr.plot.width = 5)\n",
    "\n",
    "# Plot and color the original data:\n",
    "for (j in 1) { # for each sample\n",
    "    \n",
    "    ### set style\n",
    "    my_set_style()\n",
    "    \n",
    "    # range of x and y coordinate\n",
    "    xrng = range(Y[,1])\n",
    "    yrng = range(Y[,2])\n",
    "    #print(range(res$data$Y[C == j, 1]))\n",
    "    print(xrng); print(yrng)\n",
    "    # plot each cluster\n",
    "    \n",
    "    plot(\n",
    "        ### coordinate\n",
    "        res$data$Y[C == j, 1], res$data$Y[C == j, 2], \n",
    "        \n",
    "        ### markers\n",
    "        pch = 20, cex = 1, #pch=\"'\", cex = 3,\n",
    "        col = col_vector[chainSummary$t[C == j]],\n",
    "        #col = brewer.pal(res$prior$K, \"Dark2\")[chainSummary$t[C == j]],\n",
    "        #col=rainbow(res$prior$K)[chainSummary$t[C==j]],\n",
    "        \n",
    "        \n",
    "        ### labels\n",
    "        main = paste0(\"Lab \", j, \", Original\"),\n",
    "        xlab = \"\",   ylab = \"\", \n",
    "        xlim = xrng, ylim = yrng)\n",
    "    \n",
    "    ### meanvec\n",
    "    abline(h = chainSummary$meanvec0[2, kIdx], lty = 2)\n",
    "    abline(v = chainSummary$meanvec0[1, kIdx], lty = 2)\n",
    "    \n",
    "    ### centers\n",
    "    points(chainSummary$xi[j, 1, kIdx], chainSummary$xi[j, 2, kIdx], pch = 20, cex = 2)\n",
    "}"
   ]
  },
  {
   "cell_type": "markdown",
   "metadata": {},
   "source": [
    "Plot the results after calibration"
   ]
  },
  {
   "cell_type": "code",
   "execution_count": null,
   "metadata": {},
   "outputs": [],
   "source": [
    "# Plot and color the calibrated data:\n",
    "for (j in 1) {\n",
    "    \n",
    "    ### set style\n",
    "    my_set_style()\n",
    "    \n",
    "    ### plot data\n",
    "    plot(\n",
    "        ### coordinate\n",
    "        resCalibrated$Y_cal[C == j, 1], resCalibrated$Y_cal[C == j, 2], \n",
    "        \n",
    "        ### marker\n",
    "        pch = 20, cex = 1, #pch=\"'\", \n",
    "        col = col_vector[chainSummary$t[C == j]],\n",
    "        #col = brewer.pal(res$prior$K, \"Dark2\")[chainSummary$t[C == j]],\n",
    "        #col=rainbow(res$prior$K)[chainSummary$t[C==j]],\n",
    "       \n",
    "        ### label\n",
    "        main = paste0(\"Lab \",j,\", Calibrated\"),\n",
    "        xlab=\"\", ylab=\"\", xlim=xrng, ylim=yrng)\n",
    "    \n",
    "    ### mean of each cluster across the samples / labs\n",
    "    abline(h=chainSummary$meanvec0[2, kIdx], lty = 2) # horizontal: set y\n",
    "    abline(v=chainSummary$meanvec0[1, kIdx], lty = 2) # horizontal: set x\n",
    "    \n",
    "    ### centers\n",
    "    points(chainSummary$xi[j, 1, kIdx], chainSummary$xi[j, 2, kIdx], pch = 20, cex = 2)\n",
    "}"
   ]
  },
  {
   "cell_type": "markdown",
   "metadata": {},
   "source": [
    "# Visualization all the results"
   ]
  },
  {
   "cell_type": "code",
   "execution_count": null,
   "metadata": {
    "scrolled": false
   },
   "outputs": [],
   "source": [
    "options(repr.plot.height = 7, repr.plot.width = 16)\n",
    "\n",
    "#for (idx in 1:length(res_process)){\n",
    "for (idx in 1:2){\n",
    "#for (idx in 7:8){\n",
    "    resMPSK       <- res_process[[idx]]\n",
    "    res           <- resMPSK$resRelab\n",
    "    resCalibrated <- resMPSK$resCalibrated\n",
    "    chainSummary  <- resMPSK$chainSummary\n",
    "    \n",
    "    \n",
    "    Y_cal = resCalibrated$Y_cal\n",
    "    Y     = res$data$Y\n",
    "    C     = res$data$C\n",
    "    J     = length(unique(C))         # number of samples\n",
    "    kIdx  = unique(chainSummary$t)    # unempty clusters\n",
    "    \n",
    "    \n",
    "    ### original data\n",
    "    tmp = as.data.frame(Y)\n",
    "    tmp$J = paste(\"Lab\", C)\n",
    "    tmp$t = as.character(chainSummary$t)\n",
    "    dat_ori = tmp\n",
    "    \n",
    "    ### calibrated data\n",
    "    tmp = as.data.frame(Y_cal)\n",
    "    tmp$J = paste(\"Lab\", C)\n",
    "    tmp$t = as.character(chainSummary$t)\n",
    "    dat_cal = tmp\n",
    "    \n",
    "    ### centers\n",
    "    tmp = chainSummary$xi\n",
    "    tmp = lapply(1:J, function(j){as.data.frame(tmp[j, , ])})\n",
    "    tmp = lapply(tmp, function(dat){rownames(dat) = markers; return(dat)})\n",
    "    tmp = lapply(tmp, function(dat){return(as.data.frame(t(dat)))})\n",
    "    tmp = lapply(tmp, function(dat){return(dat[kIdx,])})\n",
    "    tmp = lapply(1:J, function(j){dat = tmp[[j]]; dat$J = paste(\"Lab\", j); return(dat)})\n",
    "    tmp = lapply(tmp, function(dat){dat$kIdx = kIdx; return(dat)})\n",
    "    tmp = do.call(bind_rows, tmp)\n",
    "    centers = tmp\n",
    "    \n",
    "    ### meanvec0\n",
    "    tmp = chainSummary$meanvec0\n",
    "    rownames(tmp) = markers\n",
    "    tmp = tmp[, kIdx]\n",
    "    meanvec0 = tmp\n",
    "    \n",
    "    ### plot the results\n",
    "    # original data\n",
    "    gp1 = ggplot() + \n",
    "        geom_point(data = dat_ori, aes(x = FSC_A, y = SSC_A, color = t), size = 0.5) + \n",
    "        geom_point(data = centers, aes(x = FSC_A, y = SSC_A), size = 0.5) +\n",
    "        geom_hline(yintercept = meanvec0[\"SSC_A\", ], lty = 2, size = 0.1) +   \n",
    "        geom_vline(xintercept = meanvec0[\"FSC_A\", ], lty = 2, size = 0.1) +\n",
    "        facet_wrap(~J) \n",
    "\n",
    "    # calibrated data\n",
    "    gp2 = ggplot() + \n",
    "        geom_point(data = dat_cal, aes(x = FSC_A, y = SSC_A, color = t), size = 0.5) + \n",
    "        geom_point(data = centers, aes(x = FSC_A, y = SSC_A), size = 0.5) +\n",
    "        geom_hline(yintercept = meanvec0[\"SSC_A\", ], lty = 2, size = 0.1) +   \n",
    "        geom_vline(xintercept = meanvec0[\"FSC_A\", ], lty = 2, size = 0.1) +\n",
    "        facet_wrap(~J) \n",
    "    \n",
    "    ### set title\n",
    "    title = unlist(str_split(fname, \"_|\\\\.\"))\n",
    "    title = paste(title[2], \"Trt:\", title[3], \"Patients\", paste(title[4], title[5], sep = \"_\"), title[7])\n",
    "    \n",
    "    ### combine the plots\n",
    "    grid.arrange(gp1 + labs(title = paste(title, \"(Before Calibration)\")) \n",
    "                     + xlim(0, round(max(dat_ori$FSC_A), 0)), \n",
    "                 gp2 + labs(title = paste(title, \"(After Calibration)\")) \n",
    "                     + xlim(0, round(max(dat_cal$FSC_A), 0)), \n",
    "                 ncol = 2)\n",
    "} # end for loop"
   ]
  }
 ],
 "metadata": {
  "kernelspec": {
   "display_name": "R",
   "language": "R",
   "name": "r"
  },
  "language_info": {
   "codemirror_mode": "r",
   "file_extension": ".r",
   "mimetype": "text/x-r-source",
   "name": "R",
   "pygments_lexer": "r",
   "version": "3.4.4"
  }
 },
 "nbformat": 4,
 "nbformat_minor": 2
}
