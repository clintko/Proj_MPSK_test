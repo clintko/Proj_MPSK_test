{
 "cells": [
  {
   "cell_type": "markdown",
   "metadata": {},
   "source": [
    "# About the notebook"
   ]
  },
  {
   "cell_type": "code",
   "execution_count": 2,
   "metadata": {},
   "outputs": [],
   "source": [
    "library(tidyverse)\n",
    "library(healthyFlowData)\n",
    "library(flowMatch)\n",
    "library(flowMeans)\n",
    "library(cluster)"
   ]
  },
  {
   "cell_type": "markdown",
   "metadata": {},
   "source": [
    "# Create data"
   ]
  },
  {
   "cell_type": "markdown",
   "metadata": {},
   "source": [
    "get data"
   ]
  },
  {
   "cell_type": "code",
   "execution_count": 27,
   "metadata": {},
   "outputs": [
    {
     "data": {
      "text/plain": [
       "A flowSet with 20 experiments.\n",
       "\n",
       "An object of class 'AnnotatedDataFrame'\n",
       "  rowNames: A_1 A_2 ... D_5 (20 total)\n",
       "  varLabels: subject replicate Name\n",
       "  varMetadata: labelDescription\n",
       "\n",
       "  column names:\n",
       "  CD4 CD8 CD3 CD19"
      ]
     },
     "metadata": {},
     "output_type": "display_data"
    }
   ],
   "source": [
    "data(hd)\n",
    "hd.flowSet"
   ]
  },
  {
   "cell_type": "markdown",
   "metadata": {},
   "source": [
    "scaled data matrix"
   ]
  },
  {
   "cell_type": "code",
   "execution_count": 56,
   "metadata": {},
   "outputs": [
    {
     "data": {
      "text/html": [
       "<ol class=list-inline>\n",
       "\t<li>19321</li>\n",
       "\t<li>4</li>\n",
       "</ol>\n"
      ],
      "text/latex": [
       "\\begin{enumerate*}\n",
       "\\item 19321\n",
       "\\item 4\n",
       "\\end{enumerate*}\n"
      ],
      "text/markdown": [
       "1. 19321\n",
       "2. 4\n",
       "\n",
       "\n"
      ],
      "text/plain": [
       "[1] 19321     4"
      ]
     },
     "metadata": {},
     "output_type": "display_data"
    }
   ],
   "source": [
    "sample = exprs(hd.flowSet[[1]])\n",
    "sample = scale(sample)\n",
    "dim(sample)"
   ]
  },
  {
   "cell_type": "markdown",
   "metadata": {},
   "source": [
    "# Perform Kmeans"
   ]
  },
  {
   "cell_type": "code",
   "execution_count": 57,
   "metadata": {},
   "outputs": [],
   "source": [
    "km  = kmeans(sample, centers=4, nstart=20)\n",
    "sil = silhouette(km$cluster, dist(sample))\n",
    "sil_sum = summary(sil)"
   ]
  },
  {
   "cell_type": "code",
   "execution_count": 58,
   "metadata": {},
   "outputs": [
    {
     "data": {
      "text/html": [
       "0.704050466372635"
      ],
      "text/latex": [
       "0.704050466372635"
      ],
      "text/markdown": [
       "0.704050466372635"
      ],
      "text/plain": [
       "[1] 0.7040505"
      ]
     },
     "metadata": {},
     "output_type": "display_data"
    },
    {
     "data": {
      "text/html": [
       "0.704050466372635"
      ],
      "text/latex": [
       "0.704050466372635"
      ],
      "text/markdown": [
       "0.704050466372635"
      ],
      "text/plain": [
       "[1] 0.7040505"
      ]
     },
     "metadata": {},
     "output_type": "display_data"
    }
   ],
   "source": [
    "sil_sum$avg.width\n",
    "mean(sil[,3])"
   ]
  },
  {
   "cell_type": "markdown",
   "metadata": {},
   "source": [
    "# Try different k in kmeans"
   ]
  },
  {
   "cell_type": "code",
   "execution_count": 61,
   "metadata": {},
   "outputs": [
    {
     "name": "stderr",
     "output_type": "stream",
     "text": [
      "Warning message:\n",
      "“Quick-TRANSfer stage steps exceeded maximum (= 966050)”Warning message:\n",
      "“Quick-TRANSfer stage steps exceeded maximum (= 966050)”Warning message:\n",
      "“Quick-TRANSfer stage steps exceeded maximum (= 966050)”Warning message:\n",
      "“did not converge in 10 iterations”Warning message:\n",
      "“did not converge in 10 iterations”Warning message:\n",
      "“Quick-TRANSfer stage steps exceeded maximum (= 966050)”Warning message:\n",
      "“did not converge in 10 iterations”Warning message:\n",
      "“Quick-TRANSfer stage steps exceeded maximum (= 966050)”Warning message:\n",
      "“did not converge in 10 iterations”Warning message:\n",
      "“did not converge in 10 iterations”"
     ]
    }
   ],
   "source": [
    "### initialization\n",
    "x_avg_width = c()\n",
    "num_clust   = 2:10\n",
    "\n",
    "### try different k in kmeans\n",
    "for (k in num_clust){\n",
    "    km = kmeans(sample, centers=k, nstart=20)\n",
    "    sil = silhouette(km$cluster, dist(sample))\n",
    "    x_avg_width = c(x_avg_width, mean(sil[,3]))\n",
    "} # end for loop"
   ]
  },
  {
   "cell_type": "code",
   "execution_count": 62,
   "metadata": {},
   "outputs": [
    {
     "data": {
      "image/png": "[encoded data removed]",
      "text/plain": [
       "plot without title"
      ]
     },
     "metadata": {},
     "output_type": "display_data"
    }
   ],
   "source": [
    "options(repr.plot.width = 3.5, repr.plot.height = 4)\n",
    "plot(num_clust, x_avg_width, pch = 20)\n",
    "lines(num_clust, x_avg_width)"
   ]
  }
 ],
 "metadata": {
  "kernelspec": {
   "display_name": "R",
   "language": "R",
   "name": "r"
  },
  "language_info": {
   "codemirror_mode": "r",
   "file_extension": ".r",
   "mimetype": "text/x-r-source",
   "name": "R",
   "pygments_lexer": "r",
   "version": "3.4.4"
  }
 },
 "nbformat": 4,
 "nbformat_minor": 2
}
