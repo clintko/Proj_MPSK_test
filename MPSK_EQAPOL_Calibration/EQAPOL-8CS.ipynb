{
 "cells": [
  {
   "cell_type": "code",
   "execution_count": 1,
   "metadata": {},
   "outputs": [],
   "source": [
    "%matplotlib inline\n",
    "%load_ext rpy2.ipython\n",
    "\n",
    "import os\n",
    "import glob\n",
    "from pathlib import Path\n",
    "import numpy as np\n",
    "import pandas as pd\n",
    "import matplotlib as mpl\n",
    "import matplotlib.pyplot as plt\n",
    "import seaborn as sns\n",
    "import re\n",
    "\n",
    "sns.set_context('notebook', font_scale=1.5)"
   ]
  },
  {
   "cell_type": "code",
   "execution_count": 2,
   "metadata": {},
   "outputs": [],
   "source": [
    "def bilinear_interpolate(x, y, bins=None):\n",
    "    \"\"\"Returns interpolated density values on points (x, y).\n",
    "\n",
    "    Ref: http://en.wikipedia.org/wiki/Bilinear_interpolation.\n",
    "    \"\"\"\n",
    "    if bins is None:\n",
    "        bins = int(np.sqrt(len(x)))\n",
    "\n",
    "    z, unused_xedge, unused_yedge = np.histogram2d(\n",
    "        y, x, bins=[\n",
    "            bins, bins], range=[\n",
    "            (np.min(y), np.max(y)), (np.min(x), np.max(x))])\n",
    "    xfrac, xint = np.modf((x - np.min(x)) /\n",
    "                             (np.max(x) - np.min(x)) * (bins - 1))\n",
    "    yfrac, yint = np.modf((y - np.min(y)) /\n",
    "                             (np.max(y) - np.min(y)) * (bins - 1))\n",
    "\n",
    "    xint = xint.astype('i')\n",
    "    yint = yint.astype('i')\n",
    "\n",
    "    z1 = np.zeros(np.array(z.shape) + 1)\n",
    "    z1[:-1, :-1] = z\n",
    "\n",
    "    # values at corners of square for interpolation\n",
    "    q11 = z1[yint, xint]\n",
    "    q12 = z1[yint, xint + 1]\n",
    "    q21 = z1[yint + 1, xint]\n",
    "    q22 = z1[yint + 1, xint + 1]\n",
    "\n",
    "    return q11 * (1 - xfrac) * (1 - yfrac) + q21 * (1 - xfrac) * (yfrac) + \\\n",
    "        q12 * (xfrac) * (1 - yfrac) + q22 * (xfrac) * (yfrac)\n",
    "    \n",
    "def plot_fcm(df, n, dims, ncols=None, lab=None, \n",
    "             panel_size=3, grid_count=None,\n",
    "             sc_min=0, sc_max=262144,\n",
    "             f_min=-0.1, f_max=1.1):\n",
    "    ndims = len(dims)\n",
    "\n",
    "    if ncols is None:\n",
    "        ncols = ndims\n",
    "    nrows = (ndims + ncols - 1)//ncols\n",
    "\n",
    "    fig, axes = plt.subplots(nrows, ncols, \n",
    "                             figsize=(panel_size*ncols, panel_size*nrows))\n",
    "    axes = axes.ravel()\n",
    "    for k, dim in enumerate(dims):\n",
    "        ax = axes[k]\n",
    "        c1, c2 = dim\n",
    "        data = df.sample(n)\n",
    "        x = data[c1]\n",
    "        y = data[c2]\n",
    "        z = bilinear_interpolate(x, y)\n",
    "        if 'FSC' in c1 or 'SSC' in c1:\n",
    "            ax.set_xlim(sc_min, sc_max)\n",
    "        else:\n",
    "            ax.set_xlim(f_min, f_max)\n",
    "        if 'FSC' in c2 or 'SSC' in c2:\n",
    "             ax.set_ylim(sc_min, sc_max)\n",
    "        else:\n",
    "            ax.set_ylim(f_min, f_max)       \n",
    "        ax.scatter(x, y, s=1, c=z, edgecolors='none')\n",
    "        if lab:\n",
    "            plt.text(0.05, 0.9, lab,\n",
    "                     va='center', ha='left',\n",
    "                     transform=ax.transAxes)\n",
    "        ax.set_xticklabels([])\n",
    "        ax.set_yticklabels([])\n",
    "        ax.set_xlabel(c1.split()[0])\n",
    "        ax.set_ylabel(c2.split()[0])\n",
    "        if grid_count:\n",
    "            xlim = ax.get_xlim()\n",
    "            ylim = ax.get_ylim()\n",
    "            ax.set_xticks(np.linspace(min(xlim), max(xlim), grid_count))\n",
    "            ax.set_yticks(np.linspace(min(ylim), max(ylim), grid_count))\n",
    "            ax.grid(True)\n",
    "    plt.tight_layout()\n",
    "    return fig"
   ]
  },
  {
   "cell_type": "code",
   "execution_count": 3,
   "metadata": {},
   "outputs": [],
   "source": [
    "base = '/data/flow/EQAPOL/ep11'\n",
    "processed = os.path.join(base, 'processed')"
   ]
  },
  {
   "cell_type": "code",
   "execution_count": 4,
   "metadata": {},
   "outputs": [],
   "source": [
    "dims = [\n",
    "    ('FSC-A', 'SSC-A'),\n",
    "    ('CD3 APC-H7 FLR-A', 'Aqua Amine FLR-A'),\n",
    "    ('CD4 PE-Cy7 FLR-A', 'CD8 PerCP-Cy55 FLR-A'),\n",
    "    ('CD3 APC-H7 FLR-A', 'IFNg APC FLR-A'),\n",
    "    ('CD3 APC-H7 FLR-A', 'TNFa FITC FLR-A'),\n",
    "    ('CD3 APC-H7 FLR-A', 'IL2 BV421 FLR-A'),\n",
    "    ('CD3 APC-H7 FLR-A', 'CD107a PE FLR-A'),    \n",
    "]"
   ]
  },
  {
   "cell_type": "code",
   "execution_count": 5,
   "metadata": {},
   "outputs": [],
   "source": [
    "labs = '001 004 007 010 012 031 043 048 082 003 006 008 011 013 036 044 049 101'.split()"
   ]
  },
  {
   "cell_type": "code",
   "execution_count": 6,
   "metadata": {},
   "outputs": [],
   "source": [
    "samples = 'DEN084ZH G6901X7M GEN070XT'.split()"
   ]
  },
  {
   "cell_type": "code",
   "execution_count": 7,
   "metadata": {},
   "outputs": [],
   "source": [
    "stims = 'Unstim CMVpp65 CEF'.split()"
   ]
  },
  {
   "cell_type": "code",
   "execution_count": 8,
   "metadata": {},
   "outputs": [],
   "source": [
    "process = 'clean_gated_comp_xform'"
   ]
  },
  {
   "cell_type": "code",
   "execution_count": 9,
   "metadata": {},
   "outputs": [],
   "source": [
    "pat = re.compile(r'/.*fcs')\n",
    "with open(os.path.join(base, 'errors.txt')) as f:\n",
    "    excludes = (pat.findall(f.read()))"
   ]
  },
  {
   "cell_type": "code",
   "execution_count": 10,
   "metadata": {},
   "outputs": [
    {
     "data": {
      "text/plain": [
       "['/home/swhite/vbox_share/cliburn_projects/eqapol_ep11/008/008_G6901X7M_Unstim_unstained_clean.fcs',\n",
       " '/home/swhite/vbox_share/cliburn_projects/eqapol_ep11/010/010_G6901X7M_Unstim_unstained_clean.fcs',\n",
       " '/home/swhite/vbox_share/cliburn_projects/eqapol_ep11/012/012_G6901X7M_Unstim_unstained_clean.fcs',\n",
       " '/home/swhite/vbox_share/cliburn_projects/eqapol_ep11/013/013_G6901X7M_Unstim_unstained_clean.fcs',\n",
       " '/home/swhite/vbox_share/cliburn_projects/eqapol_ep11/036/036_G6901X7M_Unstim_unstained_clean.fcs',\n",
       " '/home/swhite/vbox_share/cliburn_projects/eqapol_ep11/043/043_G6901X7M_Unstim_unstained_clean.fcs',\n",
       " '/home/swhite/vbox_share/cliburn_projects/eqapol_ep11/048/048_G6901X7M_Unstim_unstained_clean.fcs',\n",
       " '/home/swhite/vbox_share/cliburn_projects/eqapol_ep11/049/049_DEN084ZH_Unstim_unstained_clean.fcs',\n",
       " '/home/swhite/vbox_share/cliburn_projects/eqapol_ep11/101/101_A6901WYC_Unstim_unstained_clean.fcs']"
      ]
     },
     "execution_count": 10,
     "metadata": {},
     "output_type": "execute_result"
    }
   ],
   "source": [
    "excludes"
   ]
  },
  {
   "cell_type": "code",
   "execution_count": 11,
   "metadata": {},
   "outputs": [],
   "source": [
    "from collections import defaultdict"
   ]
  },
  {
   "cell_type": "code",
   "execution_count": 12,
   "metadata": {
    "scrolled": false
   },
   "outputs": [],
   "source": [
    "np.random.seed(123)\n",
    "n = 10000\n",
    "\n",
    "collection = {}\n",
    "for stim in stims:\n",
    "    for sample in samples:\n",
    "        used_labs = defaultdict(list)\n",
    "        dfs = []\n",
    "        for lab in labs:\n",
    "            filename = f'{lab}_{sample}_{stim}_{process}.csv'\n",
    "            f = os.path.join(processed, \n",
    "                             lab, \n",
    "                             filename)\n",
    "            if f in excludes:\n",
    "                continue\n",
    "\n",
    "            try:\n",
    "                df = pd.read_csv(f)\n",
    "                df.rename({'# FSC-A': 'FSC-A'}, axis=1, inplace=True)\n",
    "                dfs.append(df.sample(n))\n",
    "                used_labs[(sample, stim)].append(lab)\n",
    "            except Exception as e:\n",
    "                pass\n",
    "        try:\n",
    "            collection[(sample, stim)] = pd.concat(dfs, sort=False)\n",
    "        except Exception as e:\n",
    "            print(e)"
   ]
  },
  {
   "cell_type": "code",
   "execution_count": 13,
   "metadata": {},
   "outputs": [
    {
     "data": {
      "text/plain": [
       "dict_keys([('DEN084ZH', 'Unstim'), ('G6901X7M', 'Unstim'), ('GEN070XT', 'Unstim'), ('DEN084ZH', 'CMVpp65'), ('G6901X7M', 'CMVpp65'), ('GEN070XT', 'CMVpp65'), ('DEN084ZH', 'CEF'), ('G6901X7M', 'CEF'), ('GEN070XT', 'CEF')])"
      ]
     },
     "execution_count": 13,
     "metadata": {},
     "output_type": "execute_result"
    }
   ],
   "source": [
    "collection.keys()"
   ]
  },
  {
   "cell_type": "code",
   "execution_count": 14,
   "metadata": {},
   "outputs": [
    {
     "data": {
      "text/plain": [
       "dict_keys([('GEN070XT', 'CEF')])"
      ]
     },
     "execution_count": 14,
     "metadata": {},
     "output_type": "execute_result"
    }
   ],
   "source": [
    "used_labs.keys()"
   ]
  },
  {
   "cell_type": "code",
   "execution_count": 15,
   "metadata": {},
   "outputs": [
    {
     "data": {
      "text/plain": [
       "180000"
      ]
     },
     "execution_count": 15,
     "metadata": {},
     "output_type": "execute_result"
    }
   ],
   "source": [
    "len(collection[('GEN070XT', 'CMVpp65')])"
   ]
  },
  {
   "cell_type": "code",
   "execution_count": 16,
   "metadata": {},
   "outputs": [
    {
     "data": {
      "text/plain": [
       "0"
      ]
     },
     "execution_count": 16,
     "metadata": {},
     "output_type": "execute_result"
    }
   ],
   "source": [
    "len(used_labs[('GEN070XT', 'CMVpp65')])"
   ]
  },
  {
   "cell_type": "code",
   "execution_count": 17,
   "metadata": {},
   "outputs": [
    {
     "data": {
      "text/plain": [
       "array([], dtype=float64)"
      ]
     },
     "execution_count": 17,
     "metadata": {},
     "output_type": "execute_result"
    }
   ],
   "source": [
    "np.unique(used_labs[('GEN070XT', 'CMVpp65')])"
   ]
  },
  {
   "cell_type": "code",
   "execution_count": 18,
   "metadata": {},
   "outputs": [
    {
     "data": {
      "text/plain": [
       "[(0, 'FSC-A'),\n",
       " (1, 'FSC-H'),\n",
       " (2, 'FSC-W'),\n",
       " (3, 'SSC-A'),\n",
       " (4, 'SSC-H'),\n",
       " (5, 'SSC-W'),\n",
       " (6, 'TNFa FITC FLR-A'),\n",
       " (7, 'CD8 PerCP-Cy55 FLR-A'),\n",
       " (8, 'IL2 BV421 FLR-A'),\n",
       " (9, 'Aqua Amine FLR-A'),\n",
       " (10, 'IFNg APC FLR-A'),\n",
       " (11, 'CD3 APC-H7 FLR-A'),\n",
       " (12, 'CD107a PE FLR-A'),\n",
       " (13, 'CD4 PE-Cy7 FLR-A'),\n",
       " (14, 'Time')]"
      ]
     },
     "execution_count": 18,
     "metadata": {},
     "output_type": "execute_result"
    }
   ],
   "source": [
    "list(enumerate(df.columns))"
   ]
  },
  {
   "cell_type": "code",
   "execution_count": 19,
   "metadata": {},
   "outputs": [],
   "source": [
    "index = [0,3,9,11,13,7,6,8,10,12]"
   ]
  },
  {
   "cell_type": "code",
   "execution_count": 20,
   "metadata": {},
   "outputs": [],
   "source": [
    "headers = df.columns[index]"
   ]
  },
  {
   "cell_type": "code",
   "execution_count": 21,
   "metadata": {},
   "outputs": [
    {
     "data": {
      "text/plain": [
       "Index(['FSC-A', 'SSC-A', 'Aqua Amine FLR-A', 'CD3 APC-H7 FLR-A',\n",
       "       'CD4 PE-Cy7 FLR-A', 'CD8 PerCP-Cy55 FLR-A', 'TNFa FITC FLR-A',\n",
       "       'IL2 BV421 FLR-A', 'IFNg APC FLR-A', 'CD107a PE FLR-A'],\n",
       "      dtype='object')"
      ]
     },
     "execution_count": 21,
     "metadata": {},
     "output_type": "execute_result"
    }
   ],
   "source": [
    "headers"
   ]
  },
  {
   "cell_type": "code",
   "execution_count": 22,
   "metadata": {},
   "outputs": [],
   "source": [
    "Y = collection[('GEN070XT', 'CMVpp65')].iloc[:, index]"
   ]
  },
  {
   "cell_type": "code",
   "execution_count": 23,
   "metadata": {},
   "outputs": [
    {
     "data": {
      "text/plain": [
       "(180000, 10)"
      ]
     },
     "execution_count": 23,
     "metadata": {},
     "output_type": "execute_result"
    }
   ],
   "source": [
    "Y.shape"
   ]
  },
  {
   "cell_type": "code",
   "execution_count": 24,
   "metadata": {},
   "outputs": [
    {
     "data": {
      "text/plain": [
       "FSC-A                   26762.339844\n",
       "SSC-A                     -45.119999\n",
       "CD4 PE-Cy7 FLR-A           -0.501029\n",
       "CD8 PerCP-Cy55 FLR-A       -0.217883\n",
       "Aqua Amine FLR-A           -0.163236\n",
       "CD3 APC-H7 FLR-A           -0.519089\n",
       "IFNg APC FLR-A             -0.480555\n",
       "CD107a PE FLR-A            -0.442045\n",
       "TNFa FITC FLR-A            -0.269606\n",
       "IL2 BV421 FLR-A            -0.189237\n",
       "dtype: float64"
      ]
     },
     "execution_count": 24,
     "metadata": {},
     "output_type": "execute_result"
    }
   ],
   "source": [
    "Y.min(axis=0)"
   ]
  },
  {
   "cell_type": "code",
   "execution_count": 25,
   "metadata": {},
   "outputs": [
    {
     "data": {
      "text/plain": [
       "FSC-A                   262143.000000\n",
       "SSC-A                   262143.000000\n",
       "CD4 PE-Cy7 FLR-A             0.981121\n",
       "CD8 PerCP-Cy55 FLR-A         0.998515\n",
       "Aqua Amine FLR-A             0.999577\n",
       "CD3 APC-H7 FLR-A             0.999259\n",
       "IFNg APC FLR-A               0.997917\n",
       "CD107a PE FLR-A              1.000002\n",
       "TNFa FITC FLR-A              0.998816\n",
       "IL2 BV421 FLR-A              0.999354\n",
       "dtype: float64"
      ]
     },
     "execution_count": 25,
     "metadata": {},
     "output_type": "execute_result"
    }
   ],
   "source": [
    "Y.max(axis=0)"
   ]
  },
  {
   "cell_type": "code",
   "execution_count": 26,
   "metadata": {},
   "outputs": [
    {
     "data": {
      "text/plain": [
       "array([1, 1, 1, 1, 1, 2, 2, 2, 2, 2, 3, 3, 3, 3, 3])"
      ]
     },
     "execution_count": 26,
     "metadata": {},
     "output_type": "execute_result"
    }
   ],
   "source": [
    "np.repeat([1,2,3], 5)"
   ]
  },
  {
   "cell_type": "code",
   "execution_count": 27,
   "metadata": {},
   "outputs": [],
   "source": [
    "C = np.repeat(np.arange(1, len(used_labs[('GEN070XT', 'CMVpp65')])+1), n)"
   ]
  },
  {
   "cell_type": "code",
   "execution_count": 28,
   "metadata": {},
   "outputs": [
    {
     "data": {
      "text/plain": [
       "0"
      ]
     },
     "execution_count": 28,
     "metadata": {},
     "output_type": "execute_result"
    }
   ],
   "source": [
    "len(C)"
   ]
  },
  {
   "cell_type": "code",
   "execution_count": 29,
   "metadata": {},
   "outputs": [],
   "source": [
    "target_dir = '_'.join(('GEN070XT', 'CMVpp65'))"
   ]
  },
  {
   "cell_type": "code",
   "execution_count": 30,
   "metadata": {},
   "outputs": [
    {
     "data": {
      "text/plain": [
       "'GEN070XT_CMVpp65'"
      ]
     },
     "execution_count": 30,
     "metadata": {},
     "output_type": "execute_result"
    }
   ],
   "source": [
    "target_dir"
   ]
  },
  {
   "cell_type": "code",
   "execution_count": 31,
   "metadata": {},
   "outputs": [],
   "source": [
    "if not os.path.exists(os.path.join(target_dir, 'figs')):\n",
    "    os.makedirs(os.path.join(target_dir, 'figs'))"
   ]
  },
  {
   "cell_type": "code",
   "execution_count": 32,
   "metadata": {},
   "outputs": [],
   "source": [
    "np.savetxt(os.path.join(target_dir, 'markers.txt'), headers, fmt='%s')"
   ]
  },
  {
   "cell_type": "code",
   "execution_count": 33,
   "metadata": {},
   "outputs": [],
   "source": [
    "np.savetxt(os.path.join(target_dir,  'Y.csv'), Y.values)"
   ]
  },
  {
   "cell_type": "code",
   "execution_count": 34,
   "metadata": {},
   "outputs": [],
   "source": [
    "np.savetxt(os.path.join(target_dir, 'C.csv'), C)"
   ]
  },
  {
   "cell_type": "code",
   "execution_count": 35,
   "metadata": {
    "scrolled": false
   },
   "outputs": [],
   "source": [
    "samples = ['GEN070XT']\n",
    "stims = ['CMVpp65']\n",
    "\n",
    "for lab in labs:\n",
    "    for sample in samples:\n",
    "        for stim in stims:\n",
    "            filename = f'{lab}_{sample}_{stim}_{process}.csv'\n",
    "            f = os.path.join(processed, \n",
    "                             lab, \n",
    "                             filename)\n",
    "            if f in excludes:\n",
    "                continue\n",
    "\n",
    "            try:\n",
    "                df = pd.read_csv(f)\n",
    "                df.rename({'# FSC-A': 'FSC-A'}, axis=1, inplace=True)\n",
    "                n = 10000\n",
    "                fig = plot_fcm(df, n, dims, lab=lab, grid_count=10)\n",
    "                fig.savefig(f'{target_dir}/figs/{lab}_{sample}_{stim}_{process}.png')\n",
    "                plt.close(fig)\n",
    "            except Exception as e:\n",
    "                print(e)"
   ]
  }
 ],
 "metadata": {
  "kernelspec": {
   "display_name": "Python 3",
   "language": "python",
   "name": "python3"
  },
  "language_info": {
   "codemirror_mode": {
    "name": "ipython",
    "version": 3
   },
   "file_extension": ".py",
   "mimetype": "text/x-python",
   "name": "python",
   "nbconvert_exporter": "python",
   "pygments_lexer": "ipython3",
   "version": "3.6.6"
  }
 },
 "nbformat": 4,
 "nbformat_minor": 2
}
