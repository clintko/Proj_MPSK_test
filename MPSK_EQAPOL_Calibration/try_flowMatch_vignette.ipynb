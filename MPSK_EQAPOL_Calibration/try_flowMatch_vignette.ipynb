{
 "cells": [
  {
   "cell_type": "markdown",
   "metadata": {},
   "source": [
    "# About the notebook"
   ]
  },
  {
   "cell_type": "code",
   "execution_count": 6,
   "metadata": {},
   "outputs": [],
   "source": [
    "library(flowMatch)\n",
    "library(healthyFlowData)"
   ]
  },
  {
   "cell_type": "markdown",
   "metadata": {},
   "source": [
    "# Import sample data"
   ]
  },
  {
   "cell_type": "code",
   "execution_count": 11,
   "metadata": {},
   "outputs": [
    {
     "data": {
      "text/plain": [
       "A flowSet with 20 experiments.\n",
       "\n",
       "An object of class 'AnnotatedDataFrame'\n",
       "  rowNames: A_1 A_2 ... D_5 (20 total)\n",
       "  varLabels: subject replicate Name\n",
       "  varMetadata: labelDescription\n",
       "\n",
       "  column names:\n",
       "  CD4 CD8 CD3 CD19"
      ]
     },
     "metadata": {},
     "output_type": "display_data"
    }
   ],
   "source": [
    "## ------------------------------------------------\n",
    "## load data and retrieve a sample\n",
    "## ------------------------------------------------\n",
    "data(hd)\n",
    "hd.flowSet"
   ]
  },
  {
   "cell_type": "markdown",
   "metadata": {},
   "source": [
    "get the expression matrix"
   ]
  },
  {
   "cell_type": "code",
   "execution_count": 9,
   "metadata": {},
   "outputs": [],
   "source": [
    "sample = exprs(hd.flowSet[[1]])\n",
    "dim(sample)"
   ]
  },
  {
   "cell_type": "markdown",
   "metadata": {},
   "source": [
    "# Kmeans clustering"
   ]
  },
  {
   "cell_type": "code",
   "execution_count": 12,
   "metadata": {},
   "outputs": [],
   "source": [
    "## ------------------------------------------------\n",
    "## cluster sample using kmeans algorithm\n",
    "## ------------------------------------------------\n",
    "km = kmeans(sample, centers=4, nstart=20)\n",
    "cluster.labels = km$cluster\n",
    "\n",
    "length(cluster.labels)"
   ]
  },
  {
   "cell_type": "markdown",
   "metadata": {},
   "source": [
    "store the kmean results and combine it with the expression matrix; there are two options"
   ]
  },
  {
   "cell_type": "code",
   "execution_count": 19,
   "metadata": {},
   "outputs": [
    {
     "data": {
      "text/html": [
       "<ol class=list-inline>\n",
       "\t<li>'num.clusters'</li>\n",
       "\t<li>'labels'</li>\n",
       "\t<li>'clusters'</li>\n",
       "\t<li>'dimension'</li>\n",
       "\t<li>'size'</li>\n",
       "\t<li>'sample.id'</li>\n",
       "</ol>\n"
      ],
      "text/latex": [
       "\\begin{enumerate*}\n",
       "\\item 'num.clusters'\n",
       "\\item 'labels'\n",
       "\\item 'clusters'\n",
       "\\item 'dimension'\n",
       "\\item 'size'\n",
       "\\item 'sample.id'\n",
       "\\end{enumerate*}\n"
      ],
      "text/markdown": [
       "1. 'num.clusters'\n",
       "2. 'labels'\n",
       "3. 'clusters'\n",
       "4. 'dimension'\n",
       "5. 'size'\n",
       "6. 'sample.id'\n",
       "\n",
       "\n"
      ],
      "text/plain": [
       "[1] \"num.clusters\" \"labels\"       \"clusters\"     \"dimension\"    \"size\"        \n",
       "[6] \"sample.id\"   "
      ]
     },
     "metadata": {},
     "output_type": "display_data"
    }
   ],
   "source": [
    "## ------------------------------------------------\n",
    "## Create ClusteredSample object (Option 1 )\n",
    "## without specifying centers and covs\n",
    "## we need to pass FC sample for paramter estimation\n",
    "## ------------------------------------------------\n",
    "clustSample = ClusteredSample(labels = cluster.labels, sample = sample)\n",
    "slotNames(clustSample)"
   ]
  },
  {
   "cell_type": "code",
   "execution_count": 25,
   "metadata": {},
   "outputs": [],
   "source": [
    "## ------------------------------------------------\n",
    "## Create ClusteredSample object (Option 2)\n",
    "## specifying centers and covs\n",
    "## no need to pass the sample\n",
    "## ------------------------------------------------\n",
    "centers = list()\n",
    "covs = list()\n",
    "num.clusters = nrow(km$centers)\n",
    "\n",
    "for(i in 1:num.clusters) {\n",
    "    centers[[i]] = km$centers[i, ]\n",
    "    covs[[i]]    = cov(sample[cluster.labels==i, ])\n",
    "} # end for loop\n",
    "\n",
    "# Now we do not need to pass sample\n",
    "clustSample = ClusteredSample(labels = cluster.labels, centers = centers, covs = covs)"
   ]
  },
  {
   "cell_type": "markdown",
   "metadata": {},
   "source": [
    "summarize the combined kmeans label and sample"
   ]
  },
  {
   "cell_type": "code",
   "execution_count": 26,
   "metadata": {},
   "outputs": [
    {
     "name": "stdout",
     "output_type": "stream",
     "text": [
      "An Object of class 'ClusteredSample'\n",
      "Number of clusters: 4\n",
      "Number of cells in cluster 1: 10535 [ 54.5 % ]\n",
      "Number of cells in cluster 2: 1658 [ 8.6 % ]\n",
      "Number of cells in cluster 3: 2729 [ 14.1 % ]\n",
      "Number of cells in cluster 4: 4399 [ 22.8 % ]\n"
     ]
    }
   ],
   "source": [
    "summary(clustSample)"
   ]
  },
  {
   "cell_type": "code",
   "execution_count": 30,
   "metadata": {},
   "outputs": [
    {
     "data": {
      "image/png": "[encoded data removed]",
      "text/plain": [
       "plot without title"
      ]
     },
     "metadata": {},
     "output_type": "display_data"
    }
   ],
   "source": [
    "plot(sample, clustSample)"
   ]
  },
  {
   "cell_type": "markdown",
   "metadata": {},
   "source": [
    "# Matching cell clusters across a pair of samples"
   ]
  },
  {
   "cell_type": "markdown",
   "metadata": {},
   "source": [
    "load two samples"
   ]
  },
  {
   "cell_type": "code",
   "execution_count": 32,
   "metadata": {},
   "outputs": [],
   "source": [
    "## ------------------------------------------------\n",
    "## load data and retrieve two samples\n",
    "## ------------------------------------------------\n",
    "data(hd)\n",
    "sample1 = exprs(hd.flowSet[[1]])\n",
    "sample2 = exprs(hd.flowSet[[2]])"
   ]
  },
  {
   "cell_type": "markdown",
   "metadata": {},
   "source": [
    "perform kmeans algorithm on these two samples and get the cluster labels"
   ]
  },
  {
   "cell_type": "code",
   "execution_count": 33,
   "metadata": {},
   "outputs": [],
   "source": [
    "## ------------------------------------------------\n",
    "## cluster samples using kmeans algorithm\n",
    "## ------------------------------------------------\n",
    "clust1 = kmeans(sample1, centers=4, nstart=20)\n",
    "clust2 = kmeans(sample2, centers=4, nstart=20)\n",
    "cluster.labels1 = clust1$cluster\n",
    "cluster.labels2 = clust2$cluster"
   ]
  },
  {
   "cell_type": "markdown",
   "metadata": {},
   "source": [
    "combine the labels and expression matrix"
   ]
  },
  {
   "cell_type": "code",
   "execution_count": 34,
   "metadata": {},
   "outputs": [],
   "source": [
    "## ------------------------------------------------\n",
    "## Create ClusteredSample objects\n",
    "## ------------------------------------------------\n",
    "clustSample1 = ClusteredSample(labels=cluster.labels1, sample=sample1)\n",
    "clustSample2 = ClusteredSample(labels=cluster.labels2, sample=sample2)"
   ]
  },
  {
   "cell_type": "markdown",
   "metadata": {},
   "source": [
    "match two clusters"
   ]
  },
  {
   "cell_type": "code",
   "execution_count": 35,
   "metadata": {},
   "outputs": [
    {
     "data": {
      "text/html": [
       "'ClusterMatch'"
      ],
      "text/latex": [
       "'ClusterMatch'"
      ],
      "text/markdown": [
       "'ClusterMatch'"
      ],
      "text/plain": [
       "[1] \"ClusterMatch\"\n",
       "attr(,\"package\")\n",
       "[1] \"flowMatch\""
      ]
     },
     "metadata": {},
     "output_type": "display_data"
    },
    {
     "name": "stdout",
     "output_type": "stream",
     "text": [
      "==========================================================\n",
      "clusters/meta-clusters      matched clusters/meta-clusters\n",
      "from sample1/template1      sample2/template2 \n",
      "==========================================================\n",
      "           1                            3\n",
      "           2                            2\n",
      "           3                            4\n",
      "           4                            1\n",
      "==========================================================\n"
     ]
    }
   ],
   "source": [
    "## ------------------------------------------------\n",
    "## Computing matching of clusteres\n",
    "## An object of class \"ClusterMatch\" is returned\n",
    "## ------------------------------------------------\n",
    "\n",
    "mec = match.clusters(clustSample1, clustSample2, dist.type=\"Mahalanobis\", unmatch.penalty=99999)\n",
    "class(mec) #[1] \"ClusterMatch\" attr(,\"package\")[1] \"flowMatch\"\n",
    "summary(mec)"
   ]
  },
  {
   "cell_type": "code",
   "execution_count": null,
   "metadata": {},
   "outputs": [],
   "source": []
  },
  {
   "cell_type": "code",
   "execution_count": null,
   "metadata": {},
   "outputs": [],
   "source": []
  },
  {
   "cell_type": "code",
   "execution_count": null,
   "metadata": {},
   "outputs": [],
   "source": []
  },
  {
   "cell_type": "code",
   "execution_count": null,
   "metadata": {},
   "outputs": [],
   "source": []
  }
 ],
 "metadata": {
  "kernelspec": {
   "display_name": "R",
   "language": "R",
   "name": "r"
  },
  "language_info": {
   "codemirror_mode": "r",
   "file_extension": ".r",
   "mimetype": "text/x-r-source",
   "name": "R",
   "pygments_lexer": "r",
   "version": "3.4.4"
  }
 },
 "nbformat": 4,
 "nbformat_minor": 2
}
