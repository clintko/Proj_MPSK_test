{
 "cells": [
  {
   "cell_type": "markdown",
   "metadata": {},
   "source": [
    "# About\n",
    "\n",
    "flowCore: Basic structures for flow cytometry data\n",
    "```\n",
    "Provides S4 data structures and basic functions to deal with flow cytometry data.\n",
    "```"
   ]
  },
  {
   "cell_type": "code",
   "execution_count": 3,
   "metadata": {},
   "outputs": [
    {
     "name": "stderr",
     "output_type": "stream",
     "text": [
      "── Attaching packages ─────────────────────────────────────── tidyverse 1.2.1 ──\n",
      "✔ ggplot2 3.1.0     ✔ purrr   0.2.5\n",
      "✔ tibble  1.4.2     ✔ dplyr   0.7.8\n",
      "✔ tidyr   0.8.2     ✔ stringr 1.3.1\n",
      "✔ readr   1.1.1     ✔ forcats 0.3.0\n",
      "── Conflicts ────────────────────────────────────────── tidyverse_conflicts() ──\n",
      "✖ dplyr::filter() masks flowCore::filter(), stats::filter()\n",
      "✖ dplyr::lag()    masks stats::lag()\n"
     ]
    }
   ],
   "source": [
    "library(tidyverse)\n",
    "library(flowCore)"
   ]
  },
  {
   "cell_type": "code",
   "execution_count": 2,
   "metadata": {},
   "outputs": [
    {
     "data": {
      "text/html": [
       "<pre class=language-r><code>function (exprs, parameters, description = list()) \n",
       "{\n",
       "<span style=white-space:pre-wrap>    if (!is.matrix(exprs) || !is.numeric(exprs) || is.null(colnames(exprs))) </span>\n",
       "<span style=white-space:pre-wrap>        stop(\"Argument 'exprs' must be numeric matrix with colnames \", </span>\n",
       "<span style=white-space:pre-wrap>            \"attribute set\", call. = FALSE)</span>\n",
       "<span style=white-space:pre-wrap>    if (missing(parameters)) </span>\n",
       "<span style=white-space:pre-wrap>        parameters &lt;- parDefault(exprs)</span>\n",
       "<span style=white-space:pre-wrap>    else isValidParameters(parameters, exprs)</span>\n",
       "<span style=white-space:pre-wrap>    checkClass(description, \"list\")</span>\n",
       "<span style=white-space:pre-wrap>    new(\"flowFrame\", exprs = exprs, parameters = parameters, </span>\n",
       "<span style=white-space:pre-wrap>        description = description)</span>\n",
       "}</code></pre>"
      ],
      "text/latex": [
       "\\begin{minted}{r}\n",
       "function (exprs, parameters, description = list()) \n",
       "\\{\n",
       "    if (!is.matrix(exprs) \\textbar{}\\textbar{} !is.numeric(exprs) \\textbar{}\\textbar{} is.null(colnames(exprs))) \n",
       "        stop(\"Argument 'exprs' must be numeric matrix with colnames \", \n",
       "            \"attribute set\", call. = FALSE)\n",
       "    if (missing(parameters)) \n",
       "        parameters <- parDefault(exprs)\n",
       "    else isValidParameters(parameters, exprs)\n",
       "    checkClass(description, \"list\")\n",
       "    new(\"flowFrame\", exprs = exprs, parameters = parameters, \n",
       "        description = description)\n",
       "\\}\n",
       "\\end{minted}"
      ],
      "text/markdown": [
       "```r\n",
       "function (exprs, parameters, description = list()) \n",
       "{\n",
       "    if (!is.matrix(exprs) || !is.numeric(exprs) || is.null(colnames(exprs))) \n",
       "        stop(\"Argument 'exprs' must be numeric matrix with colnames \", \n",
       "            \"attribute set\", call. = FALSE)\n",
       "    if (missing(parameters)) \n",
       "        parameters <- parDefault(exprs)\n",
       "    else isValidParameters(parameters, exprs)\n",
       "    checkClass(description, \"list\")\n",
       "    new(\"flowFrame\", exprs = exprs, parameters = parameters, \n",
       "        description = description)\n",
       "}\n",
       "```"
      ],
      "text/plain": [
       "function (exprs, parameters, description = list()) \n",
       "{\n",
       "    if (!is.matrix(exprs) || !is.numeric(exprs) || is.null(colnames(exprs))) \n",
       "        stop(\"Argument 'exprs' must be numeric matrix with colnames \", \n",
       "            \"attribute set\", call. = FALSE)\n",
       "    if (missing(parameters)) \n",
       "        parameters <- parDefault(exprs)\n",
       "    else isValidParameters(parameters, exprs)\n",
       "    checkClass(description, \"list\")\n",
       "    new(\"flowFrame\", exprs = exprs, parameters = parameters, \n",
       "        description = description)\n",
       "}\n",
       "<environment: namespace:flowCore>"
      ]
     },
     "metadata": {},
     "output_type": "display_data"
    }
   ],
   "source": [
    "flowFrame"
   ]
  },
  {
   "cell_type": "code",
   "execution_count": 63,
   "metadata": {},
   "outputs": [
    {
     "data": {
      "text/plain": [
       "flowFrame object 'anonymous'\n",
       "with 20 cells and 5 observables:\n",
       "  name  desc  minRange maxRange    range\n",
       "1    A var A -2.647159 1.352082 3.999241\n",
       "2    B var B -1.861482 2.669977 4.531459\n",
       "3    C var C -1.469309 1.641277 3.110586\n",
       "4    D var D -2.129754 2.526904 4.656658\n",
       "5    E var E -1.257401 2.748884 4.006285\n",
       "0 keywords are stored in the 'description' slot"
      ]
     },
     "metadata": {},
     "output_type": "display_data"
    }
   ],
   "source": [
    "###\n",
    "col_name = LETTERS[1:5]\n",
    "\n",
    "###\n",
    "exprs    = rnorm(100) %>% matrix(., nrow = 20, ncol = 5)\n",
    "colnames(exprs) = col_name\n",
    "\n",
    "### range of variables\n",
    "tmp = apply(exprs, 2, range) %>% \n",
    "    t %>% data.frame %>% \n",
    "    `colnames<-`(c(\"minRange\", \"maxRange\")) %>%\n",
    "    mutate(range = maxRange - minRange)\n",
    "\n",
    "### metadata: dataframe about variables\n",
    "df = data.frame(name = col_name, desc = paste(\"var\", col_name))\n",
    "df = bind_cols(df, tmp)\n",
    "\n",
    "### metadata of metadata\n",
    "metadata = data.frame(labelDescription = c(\n",
    "    \"Name of Parameter\", \n",
    "    \"Description of Parameter\", \n",
    "    \"Minimum Parameter Value\", \n",
    "    \"Maximum Parameter Value\", \n",
    "    \"Range of Parameter\"))\n",
    "\n",
    "### create annotated dataframe based on df and metadata\n",
    "ann = AnnotatedDataFrame(data = df, varMetadata = metadata)\n",
    "\n",
    "### create flowFrame\n",
    "flowFrame(exprs, parameters = ann)"
   ]
  },
  {
   "cell_type": "markdown",
   "metadata": {},
   "source": []
  },
  {
   "cell_type": "code",
   "execution_count": 13,
   "metadata": {},
   "outputs": [
    {
     "data": {
      "text/plain": [
       "A flowSet with 35 experiments.\n",
       "\n",
       "An object of class 'AnnotatedDataFrame'\n",
       "  rowNames: s5a01 s5a02 ... s10a07 (35 total)\n",
       "  varLabels: Patient Visit ... name (5 total)\n",
       "  varMetadata: labelDescription\n",
       "\n",
       "  column names:\n",
       "  FSC-H SSC-H FL1-H FL2-H FL3-H FL2-A FL4-H Time"
      ]
     },
     "metadata": {},
     "output_type": "display_data"
    }
   ],
   "source": [
    "data(GvHD)\n",
    "GvHD"
   ]
  },
  {
   "cell_type": "code",
   "execution_count": 14,
   "metadata": {},
   "outputs": [
    {
     "data": {
      "text/plain": [
       "flowFrame object 's5a01'\n",
       "with 3420 cells and 8 observables:\n",
       "     name              desc range minRange maxRange\n",
       "$P1 FSC-H        FSC-Height  1024        0     1023\n",
       "$P2 SSC-H        SSC-Height  1024        0     1023\n",
       "$P3 FL1-H         CD15 FITC  1024        1    10000\n",
       "$P4 FL2-H           CD45 PE  1024        1    10000\n",
       "$P5 FL3-H        CD14 PerCP  1024        1    10000\n",
       "$P6 FL2-A              <NA>  1024        0     1023\n",
       "$P7 FL4-H          CD33 APC  1024        1    10000\n",
       "$P8  Time Time (51.20 sec.)  1024        0     1023\n",
       "153 keywords are stored in the 'description' slot"
      ]
     },
     "metadata": {},
     "output_type": "display_data"
    }
   ],
   "source": [
    "frame = GvHD[[1]]\n",
    "frame"
   ]
  },
  {
   "cell_type": "code",
   "execution_count": 17,
   "metadata": {},
   "outputs": [
    {
     "data": {
      "text/html": [
       "<table>\n",
       "<thead><tr><th scope=col>FSC-H</th><th scope=col>SSC-H</th><th scope=col>FL1-H</th><th scope=col>FL2-H</th><th scope=col>FL3-H</th><th scope=col>FL2-A</th><th scope=col>FL4-H</th><th scope=col>Time</th></tr></thead>\n",
       "<tbody>\n",
       "\t<tr><td>371        </td><td>396        </td><td>2432.871983</td><td> 507.887297</td><td>18.156914  </td><td>110        </td><td>21.739192  </td><td>1          </td></tr>\n",
       "\t<tr><td>190        </td><td> 62        </td><td>   7.513726</td><td>1006.775298</td><td>26.982678  </td><td>213        </td><td> 1.000000  </td><td>1          </td></tr>\n",
       "\t<tr><td>141        </td><td>197        </td><td>   3.194470</td><td> 597.239582</td><td> 3.109343  </td><td>132        </td><td>29.524716  </td><td>1          </td></tr>\n",
       "\t<tr><td>167        </td><td>265        </td><td>1977.824185</td><td> 143.998435</td><td> 5.839470  </td><td> 28        </td><td> 4.579326  </td><td>1          </td></tr>\n",
       "\t<tr><td>128        </td><td> 30        </td><td>   1.321941</td><td>   1.640793</td><td> 5.632914  </td><td>  0        </td><td> 1.655632  </td><td>1          </td></tr>\n",
       "\t<tr><td>208        </td><td> 60        </td><td>   8.295949</td><td>1121.639700</td><td>10.868463  </td><td>240        </td><td> 1.000000  </td><td>1          </td></tr>\n",
       "</tbody>\n",
       "</table>\n"
      ],
      "text/latex": [
       "\\begin{tabular}{llllllll}\n",
       " FSC-H & SSC-H & FL1-H & FL2-H & FL3-H & FL2-A & FL4-H & Time\\\\\n",
       "\\hline\n",
       "\t 371         & 396         & 2432.871983 &  507.887297 & 18.156914   & 110         & 21.739192   & 1          \\\\\n",
       "\t 190         &  62         &    7.513726 & 1006.775298 & 26.982678   & 213         &  1.000000   & 1          \\\\\n",
       "\t 141         & 197         &    3.194470 &  597.239582 &  3.109343   & 132         & 29.524716   & 1          \\\\\n",
       "\t 167         & 265         & 1977.824185 &  143.998435 &  5.839470   &  28         &  4.579326   & 1          \\\\\n",
       "\t 128         &  30         &    1.321941 &    1.640793 &  5.632914   &   0         &  1.655632   & 1          \\\\\n",
       "\t 208         &  60         &    8.295949 & 1121.639700 & 10.868463   & 240         &  1.000000   & 1          \\\\\n",
       "\\end{tabular}\n"
      ],
      "text/markdown": [
       "\n",
       "FSC-H | SSC-H | FL1-H | FL2-H | FL3-H | FL2-A | FL4-H | Time | \n",
       "|---|---|---|---|---|---|\n",
       "| 371         | 396         | 2432.871983 |  507.887297 | 18.156914   | 110         | 21.739192   | 1           | \n",
       "| 190         |  62         |    7.513726 | 1006.775298 | 26.982678   | 213         |  1.000000   | 1           | \n",
       "| 141         | 197         |    3.194470 |  597.239582 |  3.109343   | 132         | 29.524716   | 1           | \n",
       "| 167         | 265         | 1977.824185 |  143.998435 |  5.839470   |  28         |  4.579326   | 1           | \n",
       "| 128         |  30         |    1.321941 |    1.640793 |  5.632914   |   0         |  1.655632   | 1           | \n",
       "| 208         |  60         |    8.295949 | 1121.639700 | 10.868463   | 240         |  1.000000   | 1           | \n",
       "\n",
       "\n"
      ],
      "text/plain": [
       "     FSC-H SSC-H FL1-H       FL2-H       FL3-H     FL2-A FL4-H     Time\n",
       "[1,] 371   396   2432.871983  507.887297 18.156914 110   21.739192 1   \n",
       "[2,] 190    62      7.513726 1006.775298 26.982678 213    1.000000 1   \n",
       "[3,] 141   197      3.194470  597.239582  3.109343 132   29.524716 1   \n",
       "[4,] 167   265   1977.824185  143.998435  5.839470  28    4.579326 1   \n",
       "[5,] 128    30      1.321941    1.640793  5.632914   0    1.655632 1   \n",
       "[6,] 208    60      8.295949 1121.639700 10.868463 240    1.000000 1   "
      ]
     },
     "metadata": {},
     "output_type": "display_data"
    }
   ],
   "source": [
    "exprs(frame) %>% head"
   ]
  },
  {
   "cell_type": "code",
   "execution_count": 18,
   "metadata": {},
   "outputs": [
    {
     "data": {
      "text/plain": [
       "An object of class 'AnnotatedDataFrame'\n",
       "  rowNames: $P1 $P2 ... $P8 (8 total)\n",
       "  varLabels: name desc ... maxRange (5 total)\n",
       "  varMetadata: labelDescription"
      ]
     },
     "metadata": {},
     "output_type": "display_data"
    }
   ],
   "source": [
    "parameters(frame)"
   ]
  },
  {
   "cell_type": "markdown",
   "metadata": {},
   "source": [
    "AnnotatedDataFrame {Biobase}\n",
    "```\n",
    "Class Containing Measured Variables and Their Meta-Data Description.\n",
    "```\n",
    "An AnnotatedDataFrame consists of two parts. There is a collection of **samples** and the values of **variables** measured on those samples. There is also a **description** of each variable measured. The components of an AnnotatedDataFrame can be accessed with **pData** and **varMetadata**."
   ]
  },
  {
   "cell_type": "code",
   "execution_count": 28,
   "metadata": {},
   "outputs": [
    {
     "data": {
      "text/html": [
       "<ol class=list-inline>\n",
       "\t<li>'rowNames'</li>\n",
       "\t<li>'columnNames'</li>\n",
       "</ol>\n"
      ],
      "text/latex": [
       "\\begin{enumerate*}\n",
       "\\item 'rowNames'\n",
       "\\item 'columnNames'\n",
       "\\end{enumerate*}\n"
      ],
      "text/markdown": [
       "1. 'rowNames'\n",
       "2. 'columnNames'\n",
       "\n",
       "\n"
      ],
      "text/plain": [
       "[1] \"rowNames\"    \"columnNames\""
      ]
     },
     "metadata": {},
     "output_type": "display_data"
    },
    {
     "data": {
      "text/html": [
       "<table>\n",
       "<thead><tr><th></th><th scope=col>name</th><th scope=col>desc</th><th scope=col>range</th><th scope=col>minRange</th><th scope=col>maxRange</th></tr></thead>\n",
       "<tbody>\n",
       "\t<tr><th scope=row>$P1</th><td>FSC-H            </td><td>FSC-Height       </td><td>1024             </td><td>0                </td><td> 1023            </td></tr>\n",
       "\t<tr><th scope=row>$P2</th><td>SSC-H            </td><td>SSC-Height       </td><td>1024             </td><td>0                </td><td> 1023            </td></tr>\n",
       "\t<tr><th scope=row>$P3</th><td>FL1-H            </td><td>CD15 FITC        </td><td>1024             </td><td>1                </td><td>10000            </td></tr>\n",
       "\t<tr><th scope=row>$P4</th><td>FL2-H            </td><td>CD45 PE          </td><td>1024             </td><td>1                </td><td>10000            </td></tr>\n",
       "\t<tr><th scope=row>$P5</th><td>FL3-H            </td><td>CD14 PerCP       </td><td>1024             </td><td>1                </td><td>10000            </td></tr>\n",
       "\t<tr><th scope=row>$P6</th><td>FL2-A            </td><td>NA               </td><td>1024             </td><td>0                </td><td> 1023            </td></tr>\n",
       "\t<tr><th scope=row>$P7</th><td>FL4-H            </td><td>CD33 APC         </td><td>1024             </td><td>1                </td><td>10000            </td></tr>\n",
       "\t<tr><th scope=row>$P8</th><td>Time             </td><td>Time (51.20 sec.)</td><td>1024             </td><td>0                </td><td> 1023            </td></tr>\n",
       "</tbody>\n",
       "</table>\n"
      ],
      "text/latex": [
       "\\begin{tabular}{r|lllll}\n",
       "  & name & desc & range & minRange & maxRange\\\\\n",
       "\\hline\n",
       "\t\\$P1 & FSC-H             & FSC-Height        & 1024              & 0                 &  1023            \\\\\n",
       "\t\\$P2 & SSC-H             & SSC-Height        & 1024              & 0                 &  1023            \\\\\n",
       "\t\\$P3 & FL1-H             & CD15 FITC         & 1024              & 1                 & 10000            \\\\\n",
       "\t\\$P4 & FL2-H             & CD45 PE           & 1024              & 1                 & 10000            \\\\\n",
       "\t\\$P5 & FL3-H             & CD14 PerCP        & 1024              & 1                 & 10000            \\\\\n",
       "\t\\$P6 & FL2-A             & NA                & 1024              & 0                 &  1023            \\\\\n",
       "\t\\$P7 & FL4-H             & CD33 APC          & 1024              & 1                 & 10000            \\\\\n",
       "\t\\$P8 & Time              & Time (51.20 sec.) & 1024              & 0                 &  1023            \\\\\n",
       "\\end{tabular}\n"
      ],
      "text/markdown": [
       "\n",
       "| <!--/--> | name | desc | range | minRange | maxRange | \n",
       "|---|---|---|---|---|---|---|---|\n",
       "| $P1 | FSC-H             | FSC-Height        | 1024              | 0                 |  1023             | \n",
       "| $P2 | SSC-H             | SSC-Height        | 1024              | 0                 |  1023             | \n",
       "| $P3 | FL1-H             | CD15 FITC         | 1024              | 1                 | 10000             | \n",
       "| $P4 | FL2-H             | CD45 PE           | 1024              | 1                 | 10000             | \n",
       "| $P5 | FL3-H             | CD14 PerCP        | 1024              | 1                 | 10000             | \n",
       "| $P6 | FL2-A             | NA                | 1024              | 0                 |  1023             | \n",
       "| $P7 | FL4-H             | CD33 APC          | 1024              | 1                 | 10000             | \n",
       "| $P8 | Time              | Time (51.20 sec.) | 1024              | 0                 |  1023             | \n",
       "\n",
       "\n"
      ],
      "text/plain": [
       "    name  desc              range minRange maxRange\n",
       "$P1 FSC-H FSC-Height        1024  0         1023   \n",
       "$P2 SSC-H SSC-Height        1024  0         1023   \n",
       "$P3 FL1-H CD15 FITC         1024  1        10000   \n",
       "$P4 FL2-H CD45 PE           1024  1        10000   \n",
       "$P5 FL3-H CD14 PerCP        1024  1        10000   \n",
       "$P6 FL2-A NA                1024  0         1023   \n",
       "$P7 FL4-H CD33 APC          1024  1        10000   \n",
       "$P8 Time  Time (51.20 sec.) 1024  0         1023   "
      ]
     },
     "metadata": {},
     "output_type": "display_data"
    },
    {
     "data": {
      "text/html": [
       "<table>\n",
       "<thead><tr><th></th><th scope=col>labelDescription</th></tr></thead>\n",
       "<tbody>\n",
       "\t<tr><th scope=row>name</th><td>Name of Parameter                           </td></tr>\n",
       "\t<tr><th scope=row>desc</th><td>Description of Parameter                    </td></tr>\n",
       "\t<tr><th scope=row>range</th><td>Range of Parameter                          </td></tr>\n",
       "\t<tr><th scope=row>minRange</th><td>Minimum Parameter Value after Transformation</td></tr>\n",
       "\t<tr><th scope=row>maxRange</th><td>Maximum Parameter Value after Transformation</td></tr>\n",
       "</tbody>\n",
       "</table>\n"
      ],
      "text/latex": [
       "\\begin{tabular}{r|l}\n",
       "  & labelDescription\\\\\n",
       "\\hline\n",
       "\tname & Name of Parameter                           \\\\\n",
       "\tdesc & Description of Parameter                    \\\\\n",
       "\trange & Range of Parameter                          \\\\\n",
       "\tminRange & Minimum Parameter Value after Transformation\\\\\n",
       "\tmaxRange & Maximum Parameter Value after Transformation\\\\\n",
       "\\end{tabular}\n"
      ],
      "text/markdown": [
       "\n",
       "| <!--/--> | labelDescription | \n",
       "|---|---|---|---|---|\n",
       "| name | Name of Parameter                            | \n",
       "| desc | Description of Parameter                     | \n",
       "| range | Range of Parameter                           | \n",
       "| minRange | Minimum Parameter Value after Transformation | \n",
       "| maxRange | Maximum Parameter Value after Transformation | \n",
       "\n",
       "\n"
      ],
      "text/plain": [
       "         labelDescription                            \n",
       "name     Name of Parameter                           \n",
       "desc     Description of Parameter                    \n",
       "range    Range of Parameter                          \n",
       "minRange Minimum Parameter Value after Transformation\n",
       "maxRange Maximum Parameter Value after Transformation"
      ]
     },
     "metadata": {},
     "output_type": "display_data"
    }
   ],
   "source": [
    "param = parameters(frame)\n",
    "param@dimLabels\n",
    "pData(param)\n",
    "varMetadata(param)"
   ]
  },
  {
   "cell_type": "code",
   "execution_count": 34,
   "metadata": {},
   "outputs": [],
   "source": [
    "df <- data.frame(x = 1:6,\n",
    "                 y = rep(c(\"Low\", \"High\"),3),\n",
    "                 z = I(LETTERS[1:6]),\n",
    "                 row.names = paste(\"Sample\", 1:6, sep = \"_\"))\n",
    "\n",
    "metaData <- data.frame(labelDescription=c(\"Numbers\",\"Factor levels\",\"Characters\"))"
   ]
  },
  {
   "cell_type": "code",
   "execution_count": 35,
   "metadata": {},
   "outputs": [
    {
     "data": {
      "text/html": [
       "<table>\n",
       "<thead><tr><th></th><th scope=col>x</th><th scope=col>y</th><th scope=col>z</th></tr></thead>\n",
       "<tbody>\n",
       "\t<tr><th scope=row>Sample_1</th><td>1   </td><td>Low </td><td>A   </td></tr>\n",
       "\t<tr><th scope=row>Sample_2</th><td>2   </td><td>High</td><td>B   </td></tr>\n",
       "\t<tr><th scope=row>Sample_3</th><td>3   </td><td>Low </td><td>C   </td></tr>\n",
       "\t<tr><th scope=row>Sample_4</th><td>4   </td><td>High</td><td>D   </td></tr>\n",
       "\t<tr><th scope=row>Sample_5</th><td>5   </td><td>Low </td><td>E   </td></tr>\n",
       "\t<tr><th scope=row>Sample_6</th><td>6   </td><td>High</td><td>F   </td></tr>\n",
       "</tbody>\n",
       "</table>\n"
      ],
      "text/latex": [
       "\\begin{tabular}{r|lll}\n",
       "  & x & y & z\\\\\n",
       "\\hline\n",
       "\tSample\\_1 & 1    & Low  & A   \\\\\n",
       "\tSample\\_2 & 2    & High & B   \\\\\n",
       "\tSample\\_3 & 3    & Low  & C   \\\\\n",
       "\tSample\\_4 & 4    & High & D   \\\\\n",
       "\tSample\\_5 & 5    & Low  & E   \\\\\n",
       "\tSample\\_6 & 6    & High & F   \\\\\n",
       "\\end{tabular}\n"
      ],
      "text/markdown": [
       "\n",
       "| <!--/--> | x | y | z | \n",
       "|---|---|---|---|---|---|\n",
       "| Sample_1 | 1    | Low  | A    | \n",
       "| Sample_2 | 2    | High | B    | \n",
       "| Sample_3 | 3    | Low  | C    | \n",
       "| Sample_4 | 4    | High | D    | \n",
       "| Sample_5 | 5    | Low  | E    | \n",
       "| Sample_6 | 6    | High | F    | \n",
       "\n",
       "\n"
      ],
      "text/plain": [
       "         x y    z\n",
       "Sample_1 1 Low  A\n",
       "Sample_2 2 High B\n",
       "Sample_3 3 Low  C\n",
       "Sample_4 4 High D\n",
       "Sample_5 5 Low  E\n",
       "Sample_6 6 High F"
      ]
     },
     "metadata": {},
     "output_type": "display_data"
    }
   ],
   "source": [
    "df"
   ]
  },
  {
   "cell_type": "code",
   "execution_count": 36,
   "metadata": {},
   "outputs": [
    {
     "data": {
      "text/html": [
       "<table>\n",
       "<thead><tr><th scope=col>labelDescription</th></tr></thead>\n",
       "<tbody>\n",
       "\t<tr><td>Numbers      </td></tr>\n",
       "\t<tr><td>Factor levels</td></tr>\n",
       "\t<tr><td>Characters   </td></tr>\n",
       "</tbody>\n",
       "</table>\n"
      ],
      "text/latex": [
       "\\begin{tabular}{r|l}\n",
       " labelDescription\\\\\n",
       "\\hline\n",
       "\t Numbers      \\\\\n",
       "\t Factor levels\\\\\n",
       "\t Characters   \\\\\n",
       "\\end{tabular}\n"
      ],
      "text/markdown": [
       "\n",
       "labelDescription | \n",
       "|---|---|---|\n",
       "| Numbers       | \n",
       "| Factor levels | \n",
       "| Characters    | \n",
       "\n",
       "\n"
      ],
      "text/plain": [
       "  labelDescription\n",
       "1 Numbers         \n",
       "2 Factor levels   \n",
       "3 Characters      "
      ]
     },
     "metadata": {},
     "output_type": "display_data"
    }
   ],
   "source": [
    "metaData"
   ]
  },
  {
   "cell_type": "code",
   "execution_count": 41,
   "metadata": {},
   "outputs": [
    {
     "data": {
      "text/plain": [
       "An object of class 'AnnotatedDataFrame'\n",
       "  rowNames: Sample_1 Sample_2 ... Sample_6 (6 total)\n",
       "  varLabels: x y z\n",
       "  varMetadata: labelDescription"
      ]
     },
     "metadata": {},
     "output_type": "display_data"
    }
   ],
   "source": [
    "ann = Biobase::AnnotatedDataFrame(data = df, varMetadata = metaData)\n",
    "ann"
   ]
  },
  {
   "cell_type": "code",
   "execution_count": 43,
   "metadata": {},
   "outputs": [
    {
     "data": {
      "text/html": [
       "<table>\n",
       "<thead><tr><th></th><th scope=col>x</th><th scope=col>y</th><th scope=col>z</th></tr></thead>\n",
       "<tbody>\n",
       "\t<tr><th scope=row>Sample_1</th><td>1   </td><td>Low </td><td>A   </td></tr>\n",
       "\t<tr><th scope=row>Sample_2</th><td>2   </td><td>High</td><td>B   </td></tr>\n",
       "\t<tr><th scope=row>Sample_3</th><td>3   </td><td>Low </td><td>C   </td></tr>\n",
       "\t<tr><th scope=row>Sample_4</th><td>4   </td><td>High</td><td>D   </td></tr>\n",
       "\t<tr><th scope=row>Sample_5</th><td>5   </td><td>Low </td><td>E   </td></tr>\n",
       "\t<tr><th scope=row>Sample_6</th><td>6   </td><td>High</td><td>F   </td></tr>\n",
       "</tbody>\n",
       "</table>\n"
      ],
      "text/latex": [
       "\\begin{tabular}{r|lll}\n",
       "  & x & y & z\\\\\n",
       "\\hline\n",
       "\tSample\\_1 & 1    & Low  & A   \\\\\n",
       "\tSample\\_2 & 2    & High & B   \\\\\n",
       "\tSample\\_3 & 3    & Low  & C   \\\\\n",
       "\tSample\\_4 & 4    & High & D   \\\\\n",
       "\tSample\\_5 & 5    & Low  & E   \\\\\n",
       "\tSample\\_6 & 6    & High & F   \\\\\n",
       "\\end{tabular}\n"
      ],
      "text/markdown": [
       "\n",
       "| <!--/--> | x | y | z | \n",
       "|---|---|---|---|---|---|\n",
       "| Sample_1 | 1    | Low  | A    | \n",
       "| Sample_2 | 2    | High | B    | \n",
       "| Sample_3 | 3    | Low  | C    | \n",
       "| Sample_4 | 4    | High | D    | \n",
       "| Sample_5 | 5    | Low  | E    | \n",
       "| Sample_6 | 6    | High | F    | \n",
       "\n",
       "\n"
      ],
      "text/plain": [
       "         x y    z\n",
       "Sample_1 1 Low  A\n",
       "Sample_2 2 High B\n",
       "Sample_3 3 Low  C\n",
       "Sample_4 4 High D\n",
       "Sample_5 5 Low  E\n",
       "Sample_6 6 High F"
      ]
     },
     "metadata": {},
     "output_type": "display_data"
    },
    {
     "data": {
      "text/html": [
       "<table>\n",
       "<thead><tr><th></th><th scope=col>labelDescription</th></tr></thead>\n",
       "<tbody>\n",
       "\t<tr><th scope=row>x</th><td>Numbers      </td></tr>\n",
       "\t<tr><th scope=row>y</th><td>Factor levels</td></tr>\n",
       "\t<tr><th scope=row>z</th><td>Characters   </td></tr>\n",
       "</tbody>\n",
       "</table>\n"
      ],
      "text/latex": [
       "\\begin{tabular}{r|l}\n",
       "  & labelDescription\\\\\n",
       "\\hline\n",
       "\tx & Numbers      \\\\\n",
       "\ty & Factor levels\\\\\n",
       "\tz & Characters   \\\\\n",
       "\\end{tabular}\n"
      ],
      "text/markdown": [
       "\n",
       "| <!--/--> | labelDescription | \n",
       "|---|---|---|\n",
       "| x | Numbers       | \n",
       "| y | Factor levels | \n",
       "| z | Characters    | \n",
       "\n",
       "\n"
      ],
      "text/plain": [
       "  labelDescription\n",
       "x Numbers         \n",
       "y Factor levels   \n",
       "z Characters      "
      ]
     },
     "metadata": {},
     "output_type": "display_data"
    }
   ],
   "source": [
    "pData(ann)\n",
    "varMetadata(ann)"
   ]
  }
 ],
 "metadata": {
  "kernelspec": {
   "display_name": "R",
   "language": "R",
   "name": "r"
  },
  "language_info": {
   "codemirror_mode": "r",
   "file_extension": ".r",
   "mimetype": "text/x-r-source",
   "name": "R",
   "pygments_lexer": "r",
   "version": "3.4.4"
  }
 },
 "nbformat": 4,
 "nbformat_minor": 2
}
