{
 "cells": [
  {
   "cell_type": "markdown",
   "metadata": {},
   "source": [
    "# About the notebook"
   ]
  },
  {
   "cell_type": "code",
   "execution_count": 1,
   "metadata": {},
   "outputs": [],
   "source": [
    "### import libraries\n",
    "suppressMessages(suppressWarnings(library(tidyverse)))\n",
    "suppressMessages(suppressWarnings(library(MPSK)))\n",
    "suppressMessages(suppressWarnings(library(tsne)))\n",
    "\n",
    "suppressMessages(suppressWarnings(library(flowCore)))\n",
    "suppressMessages(suppressWarnings(library(flowStats)))\n",
    "suppressMessages(suppressWarnings(library(flowViz)))\n",
    "suppressMessages(suppressWarnings(library(flowMatch)))\n",
    "suppressMessages(suppressWarnings(library(flowMap)))\n",
    "\n",
    "suppressMessages(suppressWarnings(library(igraph)))\n",
    "suppressMessages(suppressWarnings(library(pheatmap)))\n",
    "suppressMessages(suppressWarnings(library(RColorBrewer)))\n",
    "suppressMessages(suppressWarnings(library(gplots)))\n",
    "\n",
    "### set directories\n",
    "dat_dir = \"/data/clintko/SMPK\""
   ]
  },
  {
   "cell_type": "markdown",
   "metadata": {},
   "source": [
    "# Import data"
   ]
  },
  {
   "cell_type": "markdown",
   "metadata": {},
   "source": [
    "import results from MPSK"
   ]
  },
  {
   "cell_type": "code",
   "execution_count": 2,
   "metadata": {},
   "outputs": [
    {
     "name": "stderr",
     "output_type": "stream",
     "text": [
      "Parsed with column specification:\n",
      "cols(\n",
      "  sample = col_character(),\n",
      "  cluster = col_integer(),\n",
      "  `FSC-A` = col_double(),\n",
      "  `SSC-A` = col_double(),\n",
      "  Aqua = col_double(),\n",
      "  CD3 = col_double(),\n",
      "  CD4 = col_double(),\n",
      "  CD8 = col_double(),\n",
      "  TNFa = col_double(),\n",
      "  IL2 = col_double(),\n",
      "  IFNg = col_double(),\n",
      "  CD107a = col_double()\n",
      ")\n",
      "Parsed with column specification:\n",
      "cols(\n",
      "  sample = col_character(),\n",
      "  cluster = col_integer(),\n",
      "  `FSC-A` = col_double(),\n",
      "  `SSC-A` = col_double(),\n",
      "  Aqua = col_double(),\n",
      "  CD3 = col_double(),\n",
      "  CD4 = col_double(),\n",
      "  CD8 = col_double(),\n",
      "  TNFa = col_double(),\n",
      "  IL2 = col_double(),\n",
      "  IFNg = col_double(),\n",
      "  CD107a = col_double()\n",
      ")\n",
      "Parsed with column specification:\n",
      "cols(\n",
      "  sample = col_character(),\n",
      "  `FSC-A` = col_double(),\n",
      "  `SSC-A` = col_double(),\n",
      "  Aqua = col_double(),\n",
      "  CD3 = col_double(),\n",
      "  CD4 = col_double(),\n",
      "  CD8 = col_double(),\n",
      "  TNFa = col_double(),\n",
      "  IL2 = col_double(),\n",
      "  IFNg = col_double(),\n",
      "  CD107a = col_double()\n",
      ")\n"
     ]
    }
   ],
   "source": [
    "dat_mpsk_raw  = read_delim(file.path(dat_dir, \"ep8cs_prior50_dat_mpsk_raw.txt\"),  delim = \"\\t\")\n",
    "dat_mpsk_cal  = read_delim(file.path(dat_dir, \"ep8cs_prior50_dat_mpsk_cal.txt\"),  delim = \"\\t\")\n",
    "dat_gaussnorm = read_delim(file.path(dat_dir, \"ep8cs_prior50_dat_gaussnorm.txt\"), delim = \"\\t\")"
   ]
  },
  {
   "cell_type": "code",
   "execution_count": 3,
   "metadata": {},
   "outputs": [
    {
     "data": {
      "text/html": [
       "<ol class=list-inline>\n",
       "\t<li>180000</li>\n",
       "\t<li>12</li>\n",
       "</ol>\n"
      ],
      "text/latex": [
       "\\begin{enumerate*}\n",
       "\\item 180000\n",
       "\\item 12\n",
       "\\end{enumerate*}\n"
      ],
      "text/markdown": [
       "1. 180000\n",
       "2. 12\n",
       "\n",
       "\n"
      ],
      "text/plain": [
       "[1] 180000     12"
      ]
     },
     "metadata": {},
     "output_type": "display_data"
    },
    {
     "data": {
      "text/html": [
       "<ol class=list-inline>\n",
       "\t<li>180000</li>\n",
       "\t<li>12</li>\n",
       "</ol>\n"
      ],
      "text/latex": [
       "\\begin{enumerate*}\n",
       "\\item 180000\n",
       "\\item 12\n",
       "\\end{enumerate*}\n"
      ],
      "text/markdown": [
       "1. 180000\n",
       "2. 12\n",
       "\n",
       "\n"
      ],
      "text/plain": [
       "[1] 180000     12"
      ]
     },
     "metadata": {},
     "output_type": "display_data"
    },
    {
     "data": {
      "text/html": [
       "<ol class=list-inline>\n",
       "\t<li>180000</li>\n",
       "\t<li>11</li>\n",
       "</ol>\n"
      ],
      "text/latex": [
       "\\begin{enumerate*}\n",
       "\\item 180000\n",
       "\\item 11\n",
       "\\end{enumerate*}\n"
      ],
      "text/markdown": [
       "1. 180000\n",
       "2. 11\n",
       "\n",
       "\n"
      ],
      "text/plain": [
       "[1] 180000     11"
      ]
     },
     "metadata": {},
     "output_type": "display_data"
    }
   ],
   "source": [
    "dim(dat_mpsk_raw)\n",
    "dim(dat_mpsk_cal)\n",
    "dim(dat_gaussnorm)"
   ]
  },
  {
   "cell_type": "code",
   "execution_count": null,
   "metadata": {},
   "outputs": [],
   "source": []
  }
 ],
 "metadata": {
  "kernelspec": {
   "display_name": "R",
   "language": "R",
   "name": "r"
  },
  "language_info": {
   "codemirror_mode": "r",
   "file_extension": ".r",
   "mimetype": "text/x-r-source",
   "name": "R",
   "pygments_lexer": "r",
   "version": "3.4.4"
  }
 },
 "nbformat": 4,
 "nbformat_minor": 2
}
