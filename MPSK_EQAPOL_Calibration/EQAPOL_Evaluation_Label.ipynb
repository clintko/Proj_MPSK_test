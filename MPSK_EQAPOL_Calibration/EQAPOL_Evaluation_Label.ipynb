{
 "cells": [
  {
   "cell_type": "markdown",
   "metadata": {},
   "source": [
    "# About the notebook"
   ]
  },
  {
   "cell_type": "markdown",
   "metadata": {},
   "source": []
  },
  {
   "cell_type": "code",
   "execution_count": 2,
   "metadata": {},
   "outputs": [],
   "source": [
    "### import libraries\n",
    "suppressMessages(suppressWarnings(library(tidyverse)))\n",
    "suppressMessages(suppressWarnings(library(MPSK)))\n",
    "suppressMessages(suppressWarnings(library(tsne)))\n",
    "suppressMessages(suppressWarnings(library(pheatmap)))\n",
    "suppressMessages(suppressWarnings(library(RColorBrewer)))\n",
    "suppressMessages(suppressWarnings(library(flowCore)))\n",
    "suppressMessages(suppressWarnings(library(flowStats)))\n",
    "suppressMessages(suppressWarnings(library(flowViz)))\n",
    "suppressMessages(suppressWarnings(library(flowMatch)))\n",
    "\n",
    "### set directories\n",
    "dat_dir01 = \"/data/SMPK\"\n",
    "dat_dir02 = \"/data/clintko/SMPK\""
   ]
  },
  {
   "cell_type": "markdown",
   "metadata": {},
   "source": [
    "# Import data"
   ]
  },
  {
   "cell_type": "markdown",
   "metadata": {},
   "source": [
    "previous code"
   ]
  },
  {
   "cell_type": "markdown",
   "metadata": {},
   "source": [
    "```\n",
    "%%Python\n",
    "target_dir = \"/data/SMPK\"\n",
    "with open(os.path.join(target_dir, \"res0_GEN070XT_CMVpp65.pic\"), 'rb') as f:\n",
    "    res = pickle.load(f)\n",
    "\n",
    "%%R -i res\n",
    "resRelab      = relabelChain(res)\n",
    "resCalibrated = calibrate(resRelab)\n",
    "chainSummary  = summarizeChain(resRelab)\n",
    "```"
   ]
  },
  {
   "cell_type": "markdown",
   "metadata": {},
   "source": [
    "import results from MPSK"
   ]
  },
  {
   "cell_type": "code",
   "execution_count": 27,
   "metadata": {},
   "outputs": [],
   "source": [
    "res           = readRDS(file = file.path(dat_dir02, \"ep8cs_mpsk_raw.RDS\"))\n",
    "resRelab      = readRDS(file = file.path(dat_dir02, \"ep8cs_mpsk_relab.RDS\")) \n",
    "resCalibrated = readRDS(file = file.path(dat_dir02, \"ep8cs_mpsk_cal.RDS\"))\n",
    "chainSummary  = readRDS(file = file.path(dat_dir02, \"ep8cs_mpsk_chainSummary.RDS\")) "
   ]
  },
  {
   "cell_type": "code",
   "execution_count": 28,
   "metadata": {},
   "outputs": [
    {
     "name": "stdout",
     "output_type": "stream",
     "text": [
      "[1] \"chain\" \"data\"  \"prior\" \"pmc\"  \n",
      "[1] \"=====================\"\n",
      "[1] \"chain\" \"data\"  \"prior\" \"pmc\"  \n",
      "[1] \"=====================\"\n",
      "[1] \"Y_cal\"                    \"calibration_distribution\"\n",
      "[3] \"calibration_median\"      \n",
      "[1] \"=====================\"\n",
      " [1] \"xi0\"      \"psi\"      \"alpha\"    \"W\"        \"xi\"       \"Omega\"   \n",
      " [7] \"Sigma\"    \"E\"        \"meanvec\"  \"meanvec0\" \"t\"        \"S\"       \n",
      "[13] \"varphi\"   \"a0\"      \n"
     ]
    }
   ],
   "source": [
    "print(names(res))\n",
    "print(\"=====================\")\n",
    "print(names(resRelab))\n",
    "print(\"=====================\")\n",
    "print(names(resCalibrated))\n",
    "print(\"=====================\")\n",
    "print(names(chainSummary))"
   ]
  },
  {
   "cell_type": "markdown",
   "metadata": {},
   "source": [
    "the cluster label assigned by MPSK is `chainSummary$t`"
   ]
  },
  {
   "cell_type": "code",
   "execution_count": 32,
   "metadata": {},
   "outputs": [
    {
     "name": "stdout",
     "output_type": "stream",
     "text": [
      "[1] 180000     10\n",
      "[1] 180000     10\n",
      "[1] 180000\n"
     ]
    }
   ],
   "source": [
    "### shape of data\n",
    "print(dim(res$data$Y))\n",
    "print(dim(resCalibrated$Y_cal))\n",
    "\n",
    "### size of label should be equal to the number of observations\n",
    "print(length(chainSummary$t))"
   ]
  },
  {
   "cell_type": "markdown",
   "metadata": {},
   "source": [
    "Import markers"
   ]
  },
  {
   "cell_type": "code",
   "execution_count": 33,
   "metadata": {},
   "outputs": [
    {
     "name": "stderr",
     "output_type": "stream",
     "text": [
      "Parsed with column specification:\n",
      "cols(\n",
      "  X1 = col_character()\n",
      ")\n",
      "Warning message:\n",
      "“Expected 3 pieces. Missing pieces filled with `NA` in 2 rows [1, 2].”"
     ]
    },
    {
     "data": {
      "text/html": [
       "<table>\n",
       "<thead><tr><th scope=col>label</th><th scope=col>color</th><th scope=col>measure</th></tr></thead>\n",
       "<tbody>\n",
       "\t<tr><td>FSC-A     </td><td>FSC-A     </td><td>FSC-A     </td></tr>\n",
       "\t<tr><td>SSC-A     </td><td>SSC-A     </td><td>SSC-A     </td></tr>\n",
       "\t<tr><td>Aqua      </td><td>Amine     </td><td>FLR-A     </td></tr>\n",
       "\t<tr><td>CD3       </td><td>APC-H7    </td><td>FLR-A     </td></tr>\n",
       "\t<tr><td>CD4       </td><td>PE-Cy7    </td><td>FLR-A     </td></tr>\n",
       "\t<tr><td>CD8       </td><td>PerCP-Cy55</td><td>FLR-A     </td></tr>\n",
       "\t<tr><td>TNFa      </td><td>FITC      </td><td>FLR-A     </td></tr>\n",
       "\t<tr><td>IL2       </td><td>BV421     </td><td>FLR-A     </td></tr>\n",
       "\t<tr><td>IFNg      </td><td>APC       </td><td>FLR-A     </td></tr>\n",
       "\t<tr><td>CD107a    </td><td>PE        </td><td>FLR-A     </td></tr>\n",
       "</tbody>\n",
       "</table>\n"
      ],
      "text/latex": [
       "\\begin{tabular}{r|lll}\n",
       " label & color & measure\\\\\n",
       "\\hline\n",
       "\t FSC-A      & FSC-A      & FSC-A     \\\\\n",
       "\t SSC-A      & SSC-A      & SSC-A     \\\\\n",
       "\t Aqua       & Amine      & FLR-A     \\\\\n",
       "\t CD3        & APC-H7     & FLR-A     \\\\\n",
       "\t CD4        & PE-Cy7     & FLR-A     \\\\\n",
       "\t CD8        & PerCP-Cy55 & FLR-A     \\\\\n",
       "\t TNFa       & FITC       & FLR-A     \\\\\n",
       "\t IL2        & BV421      & FLR-A     \\\\\n",
       "\t IFNg       & APC        & FLR-A     \\\\\n",
       "\t CD107a     & PE         & FLR-A     \\\\\n",
       "\\end{tabular}\n"
      ],
      "text/markdown": [
       "\n",
       "label | color | measure | \n",
       "|---|---|---|---|---|---|---|---|---|---|\n",
       "| FSC-A      | FSC-A      | FSC-A      | \n",
       "| SSC-A      | SSC-A      | SSC-A      | \n",
       "| Aqua       | Amine      | FLR-A      | \n",
       "| CD3        | APC-H7     | FLR-A      | \n",
       "| CD4        | PE-Cy7     | FLR-A      | \n",
       "| CD8        | PerCP-Cy55 | FLR-A      | \n",
       "| TNFa       | FITC       | FLR-A      | \n",
       "| IL2        | BV421      | FLR-A      | \n",
       "| IFNg       | APC        | FLR-A      | \n",
       "| CD107a     | PE         | FLR-A      | \n",
       "\n",
       "\n"
      ],
      "text/plain": [
       "   label  color      measure\n",
       "1  FSC-A  FSC-A      FSC-A  \n",
       "2  SSC-A  SSC-A      SSC-A  \n",
       "3  Aqua   Amine      FLR-A  \n",
       "4  CD3    APC-H7     FLR-A  \n",
       "5  CD4    PE-Cy7     FLR-A  \n",
       "6  CD8    PerCP-Cy55 FLR-A  \n",
       "7  TNFa   FITC       FLR-A  \n",
       "8  IL2    BV421      FLR-A  \n",
       "9  IFNg   APC        FLR-A  \n",
       "10 CD107a PE         FLR-A  "
      ]
     },
     "metadata": {},
     "output_type": "display_data"
    }
   ],
   "source": [
    "markers = read_table(file.path(dat_dir01, \"markers.txt\"), col_names = FALSE)\n",
    "markers = separate(\n",
    "    markers, \n",
    "    col  = \"X1\", \n",
    "    into = c(\"label\", \"color\", \"measure\"), \n",
    "    sep  = \" \")\n",
    "markers$color[1:2]   = c(\"FSC-A\", \"SSC-A\")\n",
    "markers$measure[1:2] = c(\"FSC-A\", \"SSC-A\")\n",
    "\n",
    "markers"
   ]
  },
  {
   "cell_type": "markdown",
   "metadata": {},
   "source": [
    "# Rearrange the results\n",
    "combine the MPSK cluster label and sample label"
   ]
  },
  {
   "cell_type": "code",
   "execution_count": 40,
   "metadata": {},
   "outputs": [
    {
     "name": "stdout",
     "output_type": "stream",
     "text": [
      "=======================\n"
     ]
    },
    {
     "data": {
      "text/html": [
       "<table>\n",
       "<thead><tr><th scope=col>sample</th><th scope=col>cluster</th><th scope=col>FSC-A</th><th scope=col>SSC-A</th><th scope=col>Aqua</th><th scope=col>CD3</th><th scope=col>CD4</th><th scope=col>CD8</th><th scope=col>TNFa</th><th scope=col>IL2</th><th scope=col>IFNg</th><th scope=col>CD107a</th></tr></thead>\n",
       "<tbody>\n",
       "\t<tr><td>1          </td><td>4          </td><td>-1.1416363 </td><td>-0.09986633</td><td>-0.4210673 </td><td> 0.7761014 </td><td> 2.2731346 </td><td> 0.6444498 </td><td>-0.1937829 </td><td>-0.02015737</td><td>-0.27344867</td><td> 0.60710339</td></tr>\n",
       "\t<tr><td>1          </td><td>3          </td><td>-0.8405893 </td><td>-0.73858079</td><td> 1.2407957 </td><td>-0.4222472 </td><td>-0.5658801 </td><td> 0.6557209 </td><td>-0.6118518 </td><td>-0.02377409</td><td>-0.34964856</td><td>-0.03757027</td></tr>\n",
       "\t<tr><td>1          </td><td>1          </td><td> 0.5107179 </td><td>-0.84609384</td><td>-1.0598249 </td><td>-0.3661789 </td><td>-0.5889247 </td><td>-1.8527354 </td><td>-1.1840413 </td><td>-0.03447264</td><td>-0.42590688</td><td>-0.02672243</td></tr>\n",
       "\t<tr><td>1          </td><td>4          </td><td>-1.5681802 </td><td>-0.57996979</td><td>-0.5588165 </td><td> 0.2319850 </td><td> 1.8415205 </td><td>-0.1502302 </td><td>-0.5595654 </td><td> 0.02146696</td><td>-0.51009832</td><td>-0.01391902</td></tr>\n",
       "\t<tr><td>1          </td><td>8          </td><td>-1.5371229 </td><td> 0.32463843</td><td>-0.2535651 </td><td>-0.6772130 </td><td> 2.0872188 </td><td>-1.3166316 </td><td>-0.6453749 </td><td>-0.22168409</td><td>-0.88871667</td><td> 0.15053694</td></tr>\n",
       "\t<tr><td>1          </td><td>1          </td><td>-0.2959737 </td><td>-0.29703637</td><td>-0.2005701 </td><td>-0.6302307 </td><td> 0.4919176 </td><td>-0.8454200 </td><td>-0.2646515 </td><td> 2.44124150</td><td> 0.02647195</td><td> 0.33899091</td></tr>\n",
       "</tbody>\n",
       "</table>\n"
      ],
      "text/latex": [
       "\\begin{tabular}{r|llllllllllll}\n",
       " sample & cluster & FSC-A & SSC-A & Aqua & CD3 & CD4 & CD8 & TNFa & IL2 & IFNg & CD107a\\\\\n",
       "\\hline\n",
       "\t 1           & 4           & -1.1416363  & -0.09986633 & -0.4210673  &  0.7761014  &  2.2731346  &  0.6444498  & -0.1937829  & -0.02015737 & -0.27344867 &  0.60710339\\\\\n",
       "\t 1           & 3           & -0.8405893  & -0.73858079 &  1.2407957  & -0.4222472  & -0.5658801  &  0.6557209  & -0.6118518  & -0.02377409 & -0.34964856 & -0.03757027\\\\\n",
       "\t 1           & 1           &  0.5107179  & -0.84609384 & -1.0598249  & -0.3661789  & -0.5889247  & -1.8527354  & -1.1840413  & -0.03447264 & -0.42590688 & -0.02672243\\\\\n",
       "\t 1           & 4           & -1.5681802  & -0.57996979 & -0.5588165  &  0.2319850  &  1.8415205  & -0.1502302  & -0.5595654  &  0.02146696 & -0.51009832 & -0.01391902\\\\\n",
       "\t 1           & 8           & -1.5371229  &  0.32463843 & -0.2535651  & -0.6772130  &  2.0872188  & -1.3166316  & -0.6453749  & -0.22168409 & -0.88871667 &  0.15053694\\\\\n",
       "\t 1           & 1           & -0.2959737  & -0.29703637 & -0.2005701  & -0.6302307  &  0.4919176  & -0.8454200  & -0.2646515  &  2.44124150 &  0.02647195 &  0.33899091\\\\\n",
       "\\end{tabular}\n"
      ],
      "text/markdown": [
       "\n",
       "sample | cluster | FSC-A | SSC-A | Aqua | CD3 | CD4 | CD8 | TNFa | IL2 | IFNg | CD107a | \n",
       "|---|---|---|---|---|---|\n",
       "| 1           | 4           | -1.1416363  | -0.09986633 | -0.4210673  |  0.7761014  |  2.2731346  |  0.6444498  | -0.1937829  | -0.02015737 | -0.27344867 |  0.60710339 | \n",
       "| 1           | 3           | -0.8405893  | -0.73858079 |  1.2407957  | -0.4222472  | -0.5658801  |  0.6557209  | -0.6118518  | -0.02377409 | -0.34964856 | -0.03757027 | \n",
       "| 1           | 1           |  0.5107179  | -0.84609384 | -1.0598249  | -0.3661789  | -0.5889247  | -1.8527354  | -1.1840413  | -0.03447264 | -0.42590688 | -0.02672243 | \n",
       "| 1           | 4           | -1.5681802  | -0.57996979 | -0.5588165  |  0.2319850  |  1.8415205  | -0.1502302  | -0.5595654  |  0.02146696 | -0.51009832 | -0.01391902 | \n",
       "| 1           | 8           | -1.5371229  |  0.32463843 | -0.2535651  | -0.6772130  |  2.0872188  | -1.3166316  | -0.6453749  | -0.22168409 | -0.88871667 |  0.15053694 | \n",
       "| 1           | 1           | -0.2959737  | -0.29703637 | -0.2005701  | -0.6302307  |  0.4919176  | -0.8454200  | -0.2646515  |  2.44124150 |  0.02647195 |  0.33899091 | \n",
       "\n",
       "\n"
      ],
      "text/plain": [
       "  sample cluster FSC-A      SSC-A       Aqua       CD3        CD4       \n",
       "1 1      4       -1.1416363 -0.09986633 -0.4210673  0.7761014  2.2731346\n",
       "2 1      3       -0.8405893 -0.73858079  1.2407957 -0.4222472 -0.5658801\n",
       "3 1      1        0.5107179 -0.84609384 -1.0598249 -0.3661789 -0.5889247\n",
       "4 1      4       -1.5681802 -0.57996979 -0.5588165  0.2319850  1.8415205\n",
       "5 1      8       -1.5371229  0.32463843 -0.2535651 -0.6772130  2.0872188\n",
       "6 1      1       -0.2959737 -0.29703637 -0.2005701 -0.6302307  0.4919176\n",
       "  CD8        TNFa       IL2         IFNg        CD107a     \n",
       "1  0.6444498 -0.1937829 -0.02015737 -0.27344867  0.60710339\n",
       "2  0.6557209 -0.6118518 -0.02377409 -0.34964856 -0.03757027\n",
       "3 -1.8527354 -1.1840413 -0.03447264 -0.42590688 -0.02672243\n",
       "4 -0.1502302 -0.5595654  0.02146696 -0.51009832 -0.01391902\n",
       "5 -1.3166316 -0.6453749 -0.22168409 -0.88871667  0.15053694\n",
       "6 -0.8454200 -0.2646515  2.44124150  0.02647195  0.33899091"
      ]
     },
     "metadata": {},
     "output_type": "display_data"
    },
    {
     "name": "stdout",
     "output_type": "stream",
     "text": [
      "=======================\n"
     ]
    },
    {
     "data": {
      "text/html": [
       "<table>\n",
       "<thead><tr><th scope=col>sample</th><th scope=col>cluster</th><th scope=col>FSC-A Cal</th><th scope=col>SSC-A Cal</th><th scope=col>Aqua Cal</th><th scope=col>CD3 Cal</th><th scope=col>CD4 Cal</th><th scope=col>CD8 Cal</th><th scope=col>TNFa Cal</th><th scope=col>IL2 Cal</th><th scope=col>IFNg Cal</th><th scope=col>CD107a Cal</th></tr></thead>\n",
       "<tbody>\n",
       "\t<tr><td>1          </td><td>4          </td><td>-0.96173656</td><td>-0.2160766 </td><td>-0.8626180 </td><td> 0.8574500 </td><td> 2.0318348 </td><td> 0.6358294 </td><td>-0.46653128</td><td>-0.4172130 </td><td>-0.3461938 </td><td> 0.39110337</td></tr>\n",
       "\t<tr><td>1          </td><td>3          </td><td>-0.82900217</td><td>-0.7012622 </td><td> 1.1034122 </td><td>-0.7414830 </td><td>-0.9433545 </td><td> 0.7592594 </td><td>-0.52655060</td><td>-0.6186187 </td><td>-0.2796178 </td><td>-0.12884297</td></tr>\n",
       "\t<tr><td>1          </td><td>1          </td><td> 0.75371023</td><td>-0.7951407 </td><td>-1.3776832 </td><td>-0.6027146 </td><td>-0.9719115 </td><td>-2.1713238 </td><td>-0.84220419</td><td>-0.7038922 </td><td>-0.3091450 </td><td>-0.08001407</td></tr>\n",
       "\t<tr><td>1          </td><td>4          </td><td>-1.39160671</td><td>-0.6938895 </td><td>-1.0015626 </td><td> 0.3112666 </td><td> 1.6011798 </td><td>-0.1616408 </td><td>-0.83067807</td><td>-0.3725543 </td><td>-0.5801865 </td><td>-0.22684893</td></tr>\n",
       "\t<tr><td>1          </td><td>8          </td><td>-1.40720126</td><td> 0.2935883 </td><td>-0.7124403 </td><td>-0.8000352 </td><td> 1.8639001 </td><td>-1.5923484 </td><td>-0.72045281</td><td>-0.5326612 </td><td>-0.9030198 </td><td>-0.02101916</td></tr>\n",
       "\t<tr><td>1          </td><td>1          </td><td>-0.05520724</td><td>-0.2477739 </td><td>-0.5175293 </td><td>-0.8658211 </td><td> 0.1091478 </td><td>-1.1604910 </td><td> 0.07482237</td><td> 1.7730925 </td><td> 0.1419180 </td><td> 0.28623963</td></tr>\n",
       "</tbody>\n",
       "</table>\n"
      ],
      "text/latex": [
       "\\begin{tabular}{r|llllllllllll}\n",
       " sample & cluster & FSC-A Cal & SSC-A Cal & Aqua Cal & CD3 Cal & CD4 Cal & CD8 Cal & TNFa Cal & IL2 Cal & IFNg Cal & CD107a Cal\\\\\n",
       "\\hline\n",
       "\t 1           & 4           & -0.96173656 & -0.2160766  & -0.8626180  &  0.8574500  &  2.0318348  &  0.6358294  & -0.46653128 & -0.4172130  & -0.3461938  &  0.39110337\\\\\n",
       "\t 1           & 3           & -0.82900217 & -0.7012622  &  1.1034122  & -0.7414830  & -0.9433545  &  0.7592594  & -0.52655060 & -0.6186187  & -0.2796178  & -0.12884297\\\\\n",
       "\t 1           & 1           &  0.75371023 & -0.7951407  & -1.3776832  & -0.6027146  & -0.9719115  & -2.1713238  & -0.84220419 & -0.7038922  & -0.3091450  & -0.08001407\\\\\n",
       "\t 1           & 4           & -1.39160671 & -0.6938895  & -1.0015626  &  0.3112666  &  1.6011798  & -0.1616408  & -0.83067807 & -0.3725543  & -0.5801865  & -0.22684893\\\\\n",
       "\t 1           & 8           & -1.40720126 &  0.2935883  & -0.7124403  & -0.8000352  &  1.8639001  & -1.5923484  & -0.72045281 & -0.5326612  & -0.9030198  & -0.02101916\\\\\n",
       "\t 1           & 1           & -0.05520724 & -0.2477739  & -0.5175293  & -0.8658211  &  0.1091478  & -1.1604910  &  0.07482237 &  1.7730925  &  0.1419180  &  0.28623963\\\\\n",
       "\\end{tabular}\n"
      ],
      "text/markdown": [
       "\n",
       "sample | cluster | FSC-A Cal | SSC-A Cal | Aqua Cal | CD3 Cal | CD4 Cal | CD8 Cal | TNFa Cal | IL2 Cal | IFNg Cal | CD107a Cal | \n",
       "|---|---|---|---|---|---|\n",
       "| 1           | 4           | -0.96173656 | -0.2160766  | -0.8626180  |  0.8574500  |  2.0318348  |  0.6358294  | -0.46653128 | -0.4172130  | -0.3461938  |  0.39110337 | \n",
       "| 1           | 3           | -0.82900217 | -0.7012622  |  1.1034122  | -0.7414830  | -0.9433545  |  0.7592594  | -0.52655060 | -0.6186187  | -0.2796178  | -0.12884297 | \n",
       "| 1           | 1           |  0.75371023 | -0.7951407  | -1.3776832  | -0.6027146  | -0.9719115  | -2.1713238  | -0.84220419 | -0.7038922  | -0.3091450  | -0.08001407 | \n",
       "| 1           | 4           | -1.39160671 | -0.6938895  | -1.0015626  |  0.3112666  |  1.6011798  | -0.1616408  | -0.83067807 | -0.3725543  | -0.5801865  | -0.22684893 | \n",
       "| 1           | 8           | -1.40720126 |  0.2935883  | -0.7124403  | -0.8000352  |  1.8639001  | -1.5923484  | -0.72045281 | -0.5326612  | -0.9030198  | -0.02101916 | \n",
       "| 1           | 1           | -0.05520724 | -0.2477739  | -0.5175293  | -0.8658211  |  0.1091478  | -1.1604910  |  0.07482237 |  1.7730925  |  0.1419180  |  0.28623963 | \n",
       "\n",
       "\n"
      ],
      "text/plain": [
       "  sample cluster FSC-A Cal   SSC-A Cal  Aqua Cal   CD3 Cal    CD4 Cal   \n",
       "1 1      4       -0.96173656 -0.2160766 -0.8626180  0.8574500  2.0318348\n",
       "2 1      3       -0.82900217 -0.7012622  1.1034122 -0.7414830 -0.9433545\n",
       "3 1      1        0.75371023 -0.7951407 -1.3776832 -0.6027146 -0.9719115\n",
       "4 1      4       -1.39160671 -0.6938895 -1.0015626  0.3112666  1.6011798\n",
       "5 1      8       -1.40720126  0.2935883 -0.7124403 -0.8000352  1.8639001\n",
       "6 1      1       -0.05520724 -0.2477739 -0.5175293 -0.8658211  0.1091478\n",
       "  CD8 Cal    TNFa Cal    IL2 Cal    IFNg Cal   CD107a Cal \n",
       "1  0.6358294 -0.46653128 -0.4172130 -0.3461938  0.39110337\n",
       "2  0.7592594 -0.52655060 -0.6186187 -0.2796178 -0.12884297\n",
       "3 -2.1713238 -0.84220419 -0.7038922 -0.3091450 -0.08001407\n",
       "4 -0.1616408 -0.83067807 -0.3725543 -0.5801865 -0.22684893\n",
       "5 -1.5923484 -0.72045281 -0.5326612 -0.9030198 -0.02101916\n",
       "6 -1.1604910  0.07482237  1.7730925  0.1419180  0.28623963"
      ]
     },
     "metadata": {},
     "output_type": "display_data"
    },
    {
     "name": "stdout",
     "output_type": "stream",
     "text": [
      "===========================\n",
      "    1     2     3     4     5     6     7     8     9    10    11    12    13 \n",
      "10000 10000 10000 10000 10000 10000 10000 10000 10000 10000 10000 10000 10000 \n",
      "   14    15    16    17    18 \n",
      "10000 10000 10000 10000 10000 \n"
     ]
    }
   ],
   "source": [
    "### extract needed data\n",
    "clust = chainSummary$t\n",
    "C     = resRelab$data$C\n",
    "Y     = resRelab$data$Y\n",
    "Y_cal = resCalibrated$Y_cal\n",
    "\n",
    "### assign column names\n",
    "colnames(Y)     = markers$label\n",
    "colnames(Y_cal) = paste(markers$label, \"Cal\")\n",
    "\n",
    "### raw and calibrated data\n",
    "dat_mpsk = cbind(C, clust, Y) %>% as.data.frame\n",
    "colnames(dat_mpsk)[1:2] = c(\"sample\", \"cluster\")\n",
    "\n",
    "dat_mpsk_cal = cbind(C, clust, Y_cal) %>% as.data.frame\n",
    "colnames(dat_mpsk_cal)[1:2] = c(\"sample\", \"cluster\")\n",
    "\n",
    "### observe the results\n",
    "cat(\"=======================\\n\")\n",
    "head(dat_mpsk)\n",
    "\n",
    "cat(\"=======================\\n\")\n",
    "head(dat_mpsk_cal)\n",
    "\n",
    "cat(\"===========================\")\n",
    "print(table(dat_mpsk$sample))"
   ]
  },
  {
   "cell_type": "markdown",
   "metadata": {},
   "source": [
    "# "
   ]
  },
  {
   "cell_type": "code",
   "execution_count": null,
   "metadata": {},
   "outputs": [],
   "source": []
  },
  {
   "cell_type": "code",
   "execution_count": null,
   "metadata": {},
   "outputs": [],
   "source": []
  },
  {
   "cell_type": "code",
   "execution_count": null,
   "metadata": {},
   "outputs": [],
   "source": []
  },
  {
   "cell_type": "code",
   "execution_count": null,
   "metadata": {},
   "outputs": [],
   "source": []
  },
  {
   "cell_type": "code",
   "execution_count": null,
   "metadata": {},
   "outputs": [],
   "source": []
  },
  {
   "cell_type": "code",
   "execution_count": null,
   "metadata": {},
   "outputs": [],
   "source": []
  }
 ],
 "metadata": {
  "kernelspec": {
   "display_name": "R",
   "language": "R",
   "name": "r"
  },
  "language_info": {
   "codemirror_mode": "r",
   "file_extension": ".r",
   "mimetype": "text/x-r-source",
   "name": "R",
   "pygments_lexer": "r",
   "version": "3.4.4"
  }
 },
 "nbformat": 4,
 "nbformat_minor": 2
}
