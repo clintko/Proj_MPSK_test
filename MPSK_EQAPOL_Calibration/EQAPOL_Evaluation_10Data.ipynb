{
 "cells": [
  {
   "cell_type": "markdown",
   "metadata": {},
   "source": [
    "# About the notebook"
   ]
  },
  {
   "cell_type": "code",
   "execution_count": 1,
   "metadata": {},
   "outputs": [],
   "source": [
    "import numpy as np\n",
    "import os\n",
    "import pickle\n",
    "\n",
    "head = lambda x, n = 6: x[:n]\n",
    "tail = lambda x, n = 6: x[-n:]\n",
    "\n",
    "%matplotlib inline\n",
    "%load_ext rpy2.ipython"
   ]
  },
  {
   "cell_type": "code",
   "execution_count": 2,
   "metadata": {},
   "outputs": [],
   "source": [
    "%%R\n",
    "suppressMessages(suppressWarnings(library(tidyverse)))\n",
    "library(MPSK)"
   ]
  },
  {
   "cell_type": "markdown",
   "metadata": {},
   "source": [
    "# import data"
   ]
  },
  {
   "cell_type": "code",
   "execution_count": 3,
   "metadata": {},
   "outputs": [],
   "source": [
    "### set directories\n",
    "dat_dir01 = \"/data/SMPK\"\n",
    "dat_dir02 = \"/data/clintko/SMPK\"\n",
    "file_path = os.path.join(dat_dir01, 'res1_GEN070XT_CMVpp65.pic')"
   ]
  },
  {
   "cell_type": "code",
   "execution_count": 4,
   "metadata": {},
   "outputs": [],
   "source": [
    "with open(file_path, 'rb') as f:\n",
    "    res = pickle.load(f)"
   ]
  },
  {
   "cell_type": "code",
   "execution_count": 5,
   "metadata": {},
   "outputs": [
    {
     "name": "stderr",
     "output_type": "stream",
     "text": [
      "/local_data/env-py3/lib/python3.6/site-packages/rpy2/rinterface/__init__.py:145: RRuntimeWarning: Parsed with column specification:\n",
      "cols(\n",
      "  X1 = col_character()\n",
      ")\n",
      "\n",
      "  warnings.warn(x, RRuntimeWarning)\n"
     ]
    },
    {
     "data": {
      "text/plain": [
       "# A tibble: 10 x 3\n",
       "   label  color      measure\n",
       "   <chr>  <chr>      <chr>  \n",
       " 1 FSC-A  FSC-A      FSC-A  \n",
       " 2 SSC-A  SSC-A      SSC-A  \n",
       " 3 Aqua   Amine      FLR-A  \n",
       " 4 CD3    APC-H7     FLR-A  \n",
       " 5 CD4    PE-Cy7     FLR-A  \n",
       " 6 CD8    PerCP-Cy55 FLR-A  \n",
       " 7 TNFa   FITC       FLR-A  \n",
       " 8 IL2    BV421      FLR-A  \n",
       " 9 IFNg   APC        FLR-A  \n",
       "10 CD107a PE         FLR-A  \n"
      ]
     },
     "metadata": {},
     "output_type": "display_data"
    }
   ],
   "source": [
    "%%R -i dat_dir01\n",
    "\n",
    "### read markers data\n",
    "markers = read_table(file.path(dat_dir01, \"markers.txt\"), col_names = FALSE)\n",
    "\n",
    "### arrange markers data frame\n",
    "markers = separate(\n",
    "    markers, \n",
    "    col  = \"X1\", \n",
    "    into = c(\"label\", \"color\", \"measure\"), \n",
    "    sep  = \" \")\n",
    "\n",
    "### assign scatter names\n",
    "markers$color[1:2]   = c(\"FSC-A\", \"SSC-A\")\n",
    "markers$measure[1:2] = c(\"FSC-A\", \"SSC-A\")\n",
    "\n",
    "### print the results\n",
    "markers"
   ]
  },
  {
   "cell_type": "markdown",
   "metadata": {},
   "source": [
    "# Calibration and Summarize"
   ]
  },
  {
   "cell_type": "code",
   "execution_count": 6,
   "metadata": {},
   "outputs": [],
   "source": [
    "%%R -i res\n",
    "resRelab      = relabelChain(res)\n",
    "resCalibrated = calibrate(resRelab)\n",
    "chainSummary  = summarizeChain(resRelab)"
   ]
  },
  {
   "cell_type": "markdown",
   "metadata": {},
   "source": [
    "check the output"
   ]
  },
  {
   "cell_type": "code",
   "execution_count": 7,
   "metadata": {},
   "outputs": [
    {
     "data": {
      "text/plain": [
       "Results\n",
       "=======================\n",
       "[1] \"chain\" \"data\"  \"prior\" \"pmc\"  \n",
       "\n",
       "Relabel\n",
       "=======================\n",
       "[1] \"chain\" \"data\"  \"prior\" \"pmc\"  \n",
       "\n",
       "Calibrated\n",
       "=======================\n",
       "[1] \"Y_cal\"                    \"calibration_distribution\"\n",
       "[3] \"calibration_median\"      \n",
       "\n",
       "Chain Summary\n",
       "=======================\n",
       " [1] \"xi0\"      \"psi\"      \"alpha\"    \"W\"        \"xi\"       \"Omega\"   \n",
       " [7] \"Sigma\"    \"E\"        \"meanvec\"  \"meanvec0\" \"t\"        \"S\"       \n",
       "[13] \"varphi\"   \"a0\"      \n"
      ]
     },
     "metadata": {},
     "output_type": "display_data"
    }
   ],
   "source": [
    "%%R\n",
    "cat(\"Results\\n\"); cat(\"=======================\\n\")\n",
    "print(names(res))\n",
    "cat(\"\\nRelabel\\n\"); cat(\"=======================\\n\")\n",
    "print(names(resRelab))\n",
    "cat(\"\\nCalibrated\\n\"); cat(\"=======================\\n\")\n",
    "print(names(resCalibrated))\n",
    "cat(\"\\nChain Summary\\n\"); cat(\"=======================\\n\")\n",
    "print(names(chainSummary))"
   ]
  },
  {
   "cell_type": "markdown",
   "metadata": {},
   "source": [
    "# Arrange the results"
   ]
  },
  {
   "cell_type": "code",
   "execution_count": 8,
   "metadata": {},
   "outputs": [
    {
     "data": {
      "text/plain": [
       "=======================\n",
       "  sample cluster      FSC-A       SSC-A       Aqua        CD3        CD4\n",
       "1     01       8 -1.1416363 -0.09986633 -0.4210673  0.7761014  2.2731346\n",
       "2     01      21 -0.8405893 -0.73858079  1.2407957 -0.4222472 -0.5658801\n",
       "3     01      37  0.5107179 -0.84609384 -1.0598249 -0.3661789 -0.5889247\n",
       "4     01       8 -1.5681802 -0.57996979 -0.5588165  0.2319850  1.8415205\n",
       "5     01       8 -1.5371229  0.32463843 -0.2535651 -0.6772130  2.0872188\n",
       "6     01      45 -0.2959737 -0.29703637 -0.2005701 -0.6302307  0.4919176\n",
       "         CD8       TNFa         IL2        IFNg      CD107a\n",
       "1  0.6444498 -0.1937829 -0.02015737 -0.27344867  0.60710339\n",
       "2  0.6557209 -0.6118518 -0.02377409 -0.34964856 -0.03757027\n",
       "3 -1.8527354 -1.1840413 -0.03447264 -0.42590688 -0.02672243\n",
       "4 -0.1502302 -0.5595654  0.02146696 -0.51009832 -0.01391902\n",
       "5 -1.3166316 -0.6453749 -0.22168409 -0.88871667  0.15053694\n",
       "6 -0.8454200 -0.2646515  2.44124150  0.02647195  0.33899091\n",
       "=======================\n",
       "  sample cluster      FSC-A       SSC-A       Aqua        CD3        CD4\n",
       "1     01       8 -1.1416363 -0.09986633 -0.4210673  0.7761014  2.2731346\n",
       "2     01      21 -0.8405893 -0.73858079  1.2407957 -0.4222472 -0.5658801\n",
       "3     01      37  0.5107179 -0.84609384 -1.0598249 -0.3661789 -0.5889247\n",
       "4     01       8 -1.5681802 -0.57996979 -0.5588165  0.2319850  1.8415205\n",
       "5     01       8 -1.5371229  0.32463843 -0.2535651 -0.6772130  2.0872188\n",
       "6     01      45 -0.2959737 -0.29703637 -0.2005701 -0.6302307  0.4919176\n",
       "         CD8       TNFa         IL2        IFNg      CD107a\n",
       "1  0.6444498 -0.1937829 -0.02015737 -0.27344867  0.60710339\n",
       "2  0.6557209 -0.6118518 -0.02377409 -0.34964856 -0.03757027\n",
       "3 -1.8527354 -1.1840413 -0.03447264 -0.42590688 -0.02672243\n",
       "4 -0.1502302 -0.5595654  0.02146696 -0.51009832 -0.01391902\n",
       "5 -1.3166316 -0.6453749 -0.22168409 -0.88871667  0.15053694\n",
       "6 -0.8454200 -0.2646515  2.44124150  0.02647195  0.33899091\n",
       "===========================\n",
       "\n",
       "    1     2     3     4     5     6     7     8     9    10    13    14    15 \n",
       " 5289  5809  3794  1942  2512  1440  6293  2702  2276  8649  2196  4622 12418 \n",
       "   16    17    18    19    20    21    22    23    24    25    26    27    28 \n",
       " 3854  2948  3081 13655  3601  4667  4118  5208  2618  3450  2653  1441 13441 \n",
       "   31    32    33    34    36    37    39    40    41    42    45    46    47 \n",
       "  939  6282  4139  1646  2282 16986  1620  1843  2380  1119  5713  1343  3598 \n",
       "   48    49    50 \n",
       " 1848  1921  1664 \n",
       "===========================\n",
       "\n",
       "   01    02    03    04    05    06    07    08    09    10    11    12    13 \n",
       "10000 10000 10000 10000 10000 10000 10000 10000 10000 10000 10000 10000 10000 \n",
       "   14    15    16    17    18 \n",
       "10000 10000 10000 10000 10000 \n"
      ]
     },
     "metadata": {},
     "output_type": "display_data"
    }
   ],
   "source": [
    "%%R\n",
    "\n",
    "### extract needed data\n",
    "clust = chainSummary$t\n",
    "C     = resRelab$data$C\n",
    "Y     = resRelab$data$Y\n",
    "Y_cal = resCalibrated$Y_cal\n",
    "C2    = resRelab$data$C %>% as.vector %>% str_pad(., 2, pad = \"0\")\n",
    "\n",
    "### assign column names\n",
    "colnames(Y)     = markers$label\n",
    "colnames(Y_cal) = paste(markers$label)\n",
    "\n",
    "### combine MPSK cluster label with raw data\n",
    "dat = cbind(C, clust, Y) %>% as.data.frame\n",
    "dat$V1 = C2\n",
    "colnames(dat)[1:2] = c(\"sample\", \"cluster\")\n",
    "dat_mpsk_raw = dat\n",
    "\n",
    "### combine MPSK cluster label with calibrated data\n",
    "dat = cbind(C, clust, Y_cal) %>% as.data.frame\n",
    "dat$V1 = C2\n",
    "colnames(dat)[1:2] = c(\"sample\", \"cluster\")\n",
    "dat_mpsk_cal = dat\n",
    "\n",
    "### observe the results\n",
    "cat(\"=======================\\n\")\n",
    "print(head(dat_mpsk_raw))\n",
    "cat(\"=======================\\n\")\n",
    "print(head(dat_mpsk_cal))\n",
    "cat(\"===========================\\n\")\n",
    "print(table(dat_mpsk_raw$cluster))\n",
    "cat(\"===========================\\n\")\n",
    "print(table(dat_mpsk_raw$sample))"
   ]
  },
  {
   "cell_type": "markdown",
   "metadata": {},
   "source": [
    "# Store the results"
   ]
  },
  {
   "cell_type": "code",
   "execution_count": 9,
   "metadata": {},
   "outputs": [],
   "source": [
    "%%R -i dat_dir02\n",
    "dat_dir = \"/data/SMPK\"\n",
    "write_delim(dat_mpsk_raw,  file.path(dat_dir02, \"ep8cs_prior50_dat_mpsk_raw.txt\"),  delim = \"\\t\")\n",
    "write_delim(dat_mpsk_cal,  file.path(dat_dir02, \"ep8cs_prior50_dat_mpsk_cal.txt\"),  delim = \"\\t\")"
   ]
  },
  {
   "cell_type": "code",
   "execution_count": 12,
   "metadata": {},
   "outputs": [
    {
     "name": "stdout",
     "output_type": "stream",
     "text": [
      "C.txt\r\n",
      "ep8cs_dat_gaussnorm.txt\r\n",
      "ep8cs_dat_mpsk_cal.txt\r\n",
      "ep8cs_dat_mpsk_raw.txt\r\n",
      "ep8cs_mpsk_cal.RDS\r\n",
      "ep8cs_mpsk_chainSummary.RDS\r\n",
      "ep8cs_mpsk_raw_prior50.RDS\r\n",
      "ep8cs_mpsk_raw.RDS\r\n",
      "ep8cs_mpsk_relab.RDS\r\n",
      "ep8cs_prior50_dat_mpsk_cal.txt\r\n",
      "ep8cs_prior50_dat_mpsk_raw.txt\r\n",
      "ep8cs_tsne_gaussnorm.txt\r\n",
      "ep8cs_tsne_idx.txt\r\n",
      "ep8cs_tsne_mpsk_cal.txt\r\n",
      "ep8cs_tsne_raw.txt\r\n",
      "ep8cs_tsne_test.txt\r\n",
      "Y_raw.txt\r\n"
     ]
    }
   ],
   "source": [
    "!ls -1 \"/data/clintko/SMPK\""
   ]
  },
  {
   "cell_type": "code",
   "execution_count": 14,
   "metadata": {},
   "outputs": [
    {
     "data": {
      "text/plain": [
       " [1] \"FSC-A\"  \"SSC-A\"  \"Aqua\"   \"CD3\"    \"CD4\"    \"CD8\"    \"TNFa\"   \"IL2\"   \n",
       " [9] \"IFNg\"   \"CD107a\"\n"
      ]
     },
     "metadata": {},
     "output_type": "display_data"
    }
   ],
   "source": [
    "%%R\n",
    "markers$label"
   ]
  }
 ],
 "metadata": {
  "kernelspec": {
   "display_name": "Python 3",
   "language": "python",
   "name": "python3"
  },
  "language_info": {
   "codemirror_mode": {
    "name": "ipython",
    "version": 3
   },
   "file_extension": ".py",
   "mimetype": "text/x-python",
   "name": "python",
   "nbconvert_exporter": "python",
   "pygments_lexer": "ipython3",
   "version": "3.6.6"
  }
 },
 "nbformat": 4,
 "nbformat_minor": 2
}
