{
 "cells": [
  {
   "cell_type": "markdown",
   "metadata": {},
   "source": [
    "# About the notebook"
   ]
  },
  {
   "cell_type": "markdown",
   "metadata": {},
   "source": [
    "set environment"
   ]
  },
  {
   "cell_type": "code",
   "execution_count": 1,
   "metadata": {},
   "outputs": [],
   "source": [
    "from MulticoreTSNE import MulticoreTSNE as TSNE\n",
    "import numpy as np\n",
    "import pandas as pd\n",
    "import os\n",
    "\n",
    "dat_dir = \"/data/clintko/SMPK\""
   ]
  },
  {
   "cell_type": "markdown",
   "metadata": {},
   "source": [
    "The data that will be analyzed."
   ]
  },
  {
   "cell_type": "code",
   "execution_count": 2,
   "metadata": {},
   "outputs": [
    {
     "name": "stdout",
     "output_type": "stream",
     "text": [
      "C.txt\r\n",
      "ep8cs_dat_gaussnorm.txt\r\n",
      "ep8cs_dat_mpsk_cal.txt\r\n",
      "ep8cs_dat_mpsk_raw.txt\r\n",
      "ep8cs_mpsk_cal.RDS\r\n",
      "ep8cs_mpsk_chainSummary.RDS\r\n",
      "ep8cs_mpsk_raw_prior50.RDS\r\n",
      "ep8cs_mpsk_raw.RDS\r\n",
      "ep8cs_mpsk_relab.RDS\r\n",
      "ep8cs_prior50_dat_gaussnorm.txt\r\n",
      "ep8cs_prior50_dat_mpsk_cal.txt\r\n",
      "ep8cs_prior50_dat_mpsk_raw.txt\r\n",
      "ep8cs_tsne_gaussnorm.txt\r\n",
      "ep8cs_tsne_idx.txt\r\n",
      "ep8cs_tsne_mpsk_cal.txt\r\n",
      "ep8cs_tsne_raw.txt\r\n",
      "ep8cs_tsne_test.txt\r\n",
      "Y_raw.txt\r\n"
     ]
    }
   ],
   "source": [
    "!ls -1 \"/data/clintko/SMPK\""
   ]
  },
  {
   "cell_type": "code",
   "execution_count": 4,
   "metadata": {},
   "outputs": [
    {
     "name": "stdout",
     "output_type": "stream",
     "text": [
      "/data/clintko/SMPK/ep8cs_prior50_dat_gaussnorm.txt\r\n",
      "/data/clintko/SMPK/ep8cs_prior50_dat_mpsk_cal.txt\r\n",
      "/data/clintko/SMPK/ep8cs_prior50_dat_mpsk_raw.txt\r\n"
     ]
    }
   ],
   "source": [
    "!ls -1 /data/clintko/SMPK/ep8cs_prior50*"
   ]
  },
  {
   "cell_type": "markdown",
   "metadata": {},
   "source": [
    "# import data"
   ]
  },
  {
   "cell_type": "code",
   "execution_count": 5,
   "metadata": {},
   "outputs": [],
   "source": [
    "dat_mpsk_raw  = pd.read_csv(os.path.join(dat_dir, \"ep8cs_prior50_dat_mpsk_raw.txt\"),  sep = \"\\t\")\n",
    "dat_mpsk_cal  = pd.read_csv(os.path.join(dat_dir, \"ep8cs_prior50_dat_mpsk_cal.txt\"),  sep = \"\\t\")\n",
    "dat_gaussnorm = pd.read_csv(os.path.join(dat_dir, \"ep8cs_prior50_dat_gaussnorm.txt\"), sep = \"\\t\")"
   ]
  },
  {
   "cell_type": "markdown",
   "metadata": {},
   "source": [
    "check the data"
   ]
  },
  {
   "cell_type": "code",
   "execution_count": 6,
   "metadata": {},
   "outputs": [
    {
     "name": "stdout",
     "output_type": "stream",
     "text": [
      "(180000, 12)\n",
      "(180000, 12)\n",
      "(180000, 11)\n"
     ]
    }
   ],
   "source": [
    "print(dat_mpsk_raw.shape)\n",
    "print(dat_mpsk_cal.shape)\n",
    "print(dat_gaussnorm.shape)"
   ]
  },
  {
   "cell_type": "markdown",
   "metadata": {},
   "source": [
    "# Apply multicore t-SNE on our data"
   ]
  },
  {
   "cell_type": "code",
   "execution_count": 7,
   "metadata": {},
   "outputs": [
    {
     "name": "stdout",
     "output_type": "stream",
     "text": [
      "CPU times: user 18min 39s, sys: 362 ms, total: 18min 39s\n",
      "Wall time: 7min 20s\n"
     ]
    }
   ],
   "source": [
    "%%time\n",
    "\n",
    "mat  = dat_mpsk_raw.drop(['sample', 'cluster'], axis = 1).values\n",
    "tsne = TSNE(n_jobs=8, random_state=123).fit_transform(mat)\n",
    "np.savetxt(os.path.join(dat_dir, \"ep8cs_prior50_tsne_raw.txt\"), tsne, delimiter = \"\\t\")"
   ]
  },
  {
   "cell_type": "code",
   "execution_count": 8,
   "metadata": {},
   "outputs": [
    {
     "name": "stdout",
     "output_type": "stream",
     "text": [
      "CPU times: user 18min 47s, sys: 255 ms, total: 18min 48s\n",
      "Wall time: 7min 22s\n"
     ]
    }
   ],
   "source": [
    "%%time\n",
    "\n",
    "mat  = dat_mpsk_cal.drop(['sample', 'cluster'], axis = 1).values\n",
    "tsne = TSNE(n_jobs=8, random_state=123).fit_transform(mat)\n",
    "np.savetxt(os.path.join(dat_dir, \"ep8cs_prior50_tsne_mpsk_cal.txt\"), tsne, delimiter = \"\\t\")"
   ]
  },
  {
   "cell_type": "code",
   "execution_count": 9,
   "metadata": {},
   "outputs": [
    {
     "name": "stdout",
     "output_type": "stream",
     "text": [
      "CPU times: user 18min 55s, sys: 253 ms, total: 18min 55s\n",
      "Wall time: 7min 30s\n"
     ]
    }
   ],
   "source": [
    "%%time\n",
    "\n",
    "mat  = dat_gaussnorm.drop(['sample'], axis = 1).values\n",
    "tsne = TSNE(n_jobs=8, random_state=123).fit_transform(mat)\n",
    "np.savetxt(os.path.join(dat_dir, \"ep8cs_prior50_tsne_gaussnorm.txt\"), tsne, delimiter = \"\\t\")"
   ]
  },
  {
   "cell_type": "code",
   "execution_count": 10,
   "metadata": {},
   "outputs": [
    {
     "name": "stdout",
     "output_type": "stream",
     "text": [
      "/data/clintko/SMPK/ep8cs_prior50_dat_gaussnorm.txt\r\n",
      "/data/clintko/SMPK/ep8cs_prior50_dat_mpsk_cal.txt\r\n",
      "/data/clintko/SMPK/ep8cs_prior50_dat_mpsk_raw.txt\r\n",
      "/data/clintko/SMPK/ep8cs_prior50_tsne_gaussnorm.txt\r\n",
      "/data/clintko/SMPK/ep8cs_prior50_tsne_mpsk_cal.txt\r\n",
      "/data/clintko/SMPK/ep8cs_prior50_tsne_raw.txt\r\n"
     ]
    }
   ],
   "source": [
    "!ls -1 /data/clintko/SMPK/ep8cs_prior50*"
   ]
  }
 ],
 "metadata": {
  "kernelspec": {
   "display_name": "Python 3",
   "language": "python",
   "name": "python3"
  },
  "language_info": {
   "codemirror_mode": {
    "name": "ipython",
    "version": 3
   },
   "file_extension": ".py",
   "mimetype": "text/x-python",
   "name": "python",
   "nbconvert_exporter": "python",
   "pygments_lexer": "ipython3",
   "version": "3.6.6"
  }
 },
 "nbformat": 4,
 "nbformat_minor": 2
}
