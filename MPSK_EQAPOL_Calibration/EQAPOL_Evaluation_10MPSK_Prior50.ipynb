{
 "cells": [
  {
   "cell_type": "markdown",
   "metadata": {},
   "source": [
    "# About the notebook"
   ]
  },
  {
   "cell_type": "markdown",
   "metadata": {},
   "source": []
  },
  {
   "cell_type": "code",
   "execution_count": 2,
   "metadata": {},
   "outputs": [],
   "source": [
    "### import libraries\n",
    "suppressMessages(suppressWarnings(library(tidyverse)))\n",
    "suppressMessages(suppressWarnings(library(MPSK)))\n",
    "suppressMessages(suppressWarnings(library(tsne)))\n",
    "\n",
    "suppressMessages(suppressWarnings(library(flowCore)))\n",
    "suppressMessages(suppressWarnings(library(flowStats)))\n",
    "suppressMessages(suppressWarnings(library(flowViz)))\n",
    "suppressMessages(suppressWarnings(library(flowMatch)))\n",
    "suppressMessages(suppressWarnings(library(flowMap)))\n",
    "\n",
    "suppressMessages(suppressWarnings(library(igraph)))\n",
    "suppressMessages(suppressWarnings(library(pheatmap)))\n",
    "suppressMessages(suppressWarnings(library(RColorBrewer)))\n",
    "suppressMessages(suppressWarnings(library(gplots)))\n",
    "\n",
    "### set directories\n",
    "dat_dir = \"/data/clintko/SMPK\""
   ]
  },
  {
   "cell_type": "markdown",
   "metadata": {},
   "source": [
    "# Import data"
   ]
  },
  {
   "cell_type": "markdown",
   "metadata": {},
   "source": [
    "check the file name"
   ]
  },
  {
   "cell_type": "code",
   "execution_count": 11,
   "metadata": {},
   "outputs": [
    {
     "name": "stdout",
     "output_type": "stream",
     "text": [
      "[1] \"C.txt\"\n",
      "[1] \"ep8cs_dat_gaussnorm.txt\"\n",
      "[1] \"ep8cs_dat_mpsk_cal.txt\"\n",
      "[1] \"ep8cs_dat_mpsk_raw.txt\"\n",
      "[1] \"ep8cs_mpsk_cal.RDS\"\n",
      "[1] \"ep8cs_mpsk_chainSummary.RDS\"\n",
      "[1] \"ep8cs_mpsk_raw.RDS\"\n",
      "[1] \"ep8cs_mpsk_relab.RDS\"\n",
      "[1] \"ep8cs_tsne_gaussnorm.txt\"\n",
      "[1] \"ep8cs_tsne_idx.txt\"\n",
      "[1] \"ep8cs_tsne_mpsk_cal.txt\"\n",
      "[1] \"ep8cs_tsne_raw.txt\"\n",
      "[1] \"ep8cs_tsne_test.txt\"\n",
      "[1] \"Y_raw.txt\"\n"
     ]
    }
   ],
   "source": [
    "tmp = system(paste(\"ls -1\", dat_dir), intern = TRUE)\n",
    "for(x in tmp){print(x)}"
   ]
  },
  {
   "cell_type": "markdown",
   "metadata": {},
   "source": [
    "import the file"
   ]
  },
  {
   "cell_type": "code",
   "execution_count": 19,
   "metadata": {},
   "outputs": [
    {
     "name": "stderr",
     "output_type": "stream",
     "text": [
      "Parsed with column specification:\n",
      "cols(\n",
      "  X1 = col_double(),\n",
      "  X2 = col_double(),\n",
      "  X3 = col_double(),\n",
      "  X4 = col_double(),\n",
      "  X5 = col_double(),\n",
      "  X6 = col_double(),\n",
      "  X7 = col_double(),\n",
      "  X8 = col_double(),\n",
      "  X9 = col_double(),\n",
      "  X10 = col_double()\n",
      ")\n",
      "Parsed with column specification:\n",
      "cols(\n",
      "  X1 = col_double()\n",
      ")\n"
     ]
    }
   ],
   "source": [
    "### values\n",
    "Y = read_delim(file.path(dat_dir, \"Y_raw.txt\"), delim = \"\\t\", col_names = FALSE)\n",
    "Y = as.matrix(Y)\n",
    "\n",
    "### label\n",
    "C = read_delim(file.path(dat_dir, \"C.txt\"),     delim = \"\\t\", col_names = FALSE)\n",
    "C = as.matrix(C)"
   ]
  },
  {
   "cell_type": "markdown",
   "metadata": {},
   "source": [
    "### check if Y is scaled\n",
    "calculate the mean and sd of each column, it should be zero center and `sd == 1`"
   ]
  },
  {
   "cell_type": "code",
   "execution_count": 20,
   "metadata": {},
   "outputs": [
    {
     "data": {
      "text/html": [
       "<table>\n",
       "<thead><tr><th></th><th scope=col>X1</th><th scope=col>X2</th><th scope=col>X3</th><th scope=col>X4</th><th scope=col>X5</th><th scope=col>X6</th><th scope=col>X7</th><th scope=col>X8</th><th scope=col>X9</th><th scope=col>X10</th></tr></thead>\n",
       "<tbody>\n",
       "\t<tr><th scope=row>Mean</th><td>3.392408e-16 </td><td>-1.008253e-16</td><td>-2.208771e-17</td><td>-3.006082e-17</td><td>8.736955e-17 </td><td>2.123577e-16 </td><td>5.108118e-18 </td><td>-9.419387e-17</td><td>-1.34685e-16 </td><td>6.933805e-17 </td></tr>\n",
       "\t<tr><th scope=row>SD</th><td>1.000000e+00 </td><td> 1.000000e+00</td><td> 1.000000e+00</td><td> 1.000000e+00</td><td>1.000000e+00 </td><td>1.000000e+00 </td><td>1.000000e+00 </td><td> 1.000000e+00</td><td> 1.00000e+00 </td><td>1.000000e+00 </td></tr>\n",
       "</tbody>\n",
       "</table>\n"
      ],
      "text/latex": [
       "\\begin{tabular}{r|llllllllll}\n",
       "  & X1 & X2 & X3 & X4 & X5 & X6 & X7 & X8 & X9 & X10\\\\\n",
       "\\hline\n",
       "\tMean & 3.392408e-16  & -1.008253e-16 & -2.208771e-17 & -3.006082e-17 & 8.736955e-17  & 2.123577e-16  & 5.108118e-18  & -9.419387e-17 & -1.34685e-16  & 6.933805e-17 \\\\\n",
       "\tSD & 1.000000e+00  &  1.000000e+00 &  1.000000e+00 &  1.000000e+00 & 1.000000e+00  & 1.000000e+00  & 1.000000e+00  &  1.000000e+00 &  1.00000e+00  & 1.000000e+00 \\\\\n",
       "\\end{tabular}\n"
      ],
      "text/markdown": [
       "\n",
       "| <!--/--> | X1 | X2 | X3 | X4 | X5 | X6 | X7 | X8 | X9 | X10 | \n",
       "|---|---|\n",
       "| Mean | 3.392408e-16  | -1.008253e-16 | -2.208771e-17 | -3.006082e-17 | 8.736955e-17  | 2.123577e-16  | 5.108118e-18  | -9.419387e-17 | -1.34685e-16  | 6.933805e-17  | \n",
       "| SD | 1.000000e+00  |  1.000000e+00 |  1.000000e+00 |  1.000000e+00 | 1.000000e+00  | 1.000000e+00  | 1.000000e+00  |  1.000000e+00 |  1.00000e+00  | 1.000000e+00  | \n",
       "\n",
       "\n"
      ],
      "text/plain": [
       "     X1           X2            X3            X4            X5          \n",
       "Mean 3.392408e-16 -1.008253e-16 -2.208771e-17 -3.006082e-17 8.736955e-17\n",
       "SD   1.000000e+00  1.000000e+00  1.000000e+00  1.000000e+00 1.000000e+00\n",
       "     X6           X7           X8            X9           X10         \n",
       "Mean 2.123577e-16 5.108118e-18 -9.419387e-17 -1.34685e-16 6.933805e-17\n",
       "SD   1.000000e+00 1.000000e+00  1.000000e+00  1.00000e+00 1.000000e+00"
      ]
     },
     "metadata": {},
     "output_type": "display_data"
    }
   ],
   "source": [
    "apply(Y, 2, function(x){\n",
    "    res        = c(mean(x), sd(x))\n",
    "    names(res) = c(\"Mean\", \"SD\")\n",
    "    return(res)\n",
    "})"
   ]
  },
  {
   "cell_type": "markdown",
   "metadata": {},
   "source": [
    "### check if C is correctly setup"
   ]
  },
  {
   "cell_type": "code",
   "execution_count": 21,
   "metadata": {},
   "outputs": [
    {
     "data": {
      "text/plain": [
       "C\n",
       "    1     2     3     4     5     6     7     8     9    10    11    12    13 \n",
       "10000 10000 10000 10000 10000 10000 10000 10000 10000 10000 10000 10000 10000 \n",
       "   14    15    16    17    18 \n",
       "10000 10000 10000 10000 10000 "
      ]
     },
     "metadata": {},
     "output_type": "display_data"
    }
   ],
   "source": [
    "table(C)"
   ]
  },
  {
   "cell_type": "markdown",
   "metadata": {},
   "source": [
    "# Code for running MPSK"
   ]
  },
  {
   "cell_type": "markdown",
   "metadata": {},
   "source": [
    "Original code from Cliburn\n",
    "```\n",
    "set.seed(1)\n",
    "Y <- scale(Y)\n",
    "res <- mpsk(Y, C)\n",
    "```"
   ]
  },
  {
   "cell_type": "markdown",
   "metadata": {},
   "source": [
    "conversation between Cliburn and Shai\n",
    "\n",
    "**Cliburn's question**\n",
    "\n",
    "<font color = \"blue\">\n",
    "Hi Shai,\n",
    "\n",
    "I have another question - when we fit GMMs to similar data, we would often see in excess of 50 clusters by DP methods, yet we only see 9 clusters when Kuei fitted the 8-color ICS data. Part of this is probably simply that the skew distributions and allowing perturbed locations results in a more parsimonious model, but it is also likely that small cluster are not being captured separately. Should we be concerned about this, and if so, are there prior or other parameters we can set to increase the likelihood of “splitting” clusters?\n",
    "\n",
    "Thanks,\n",
    "\n",
    "Cliburn\n",
    "</font>\n",
    "\n",
    "**Shai's reply**\n",
    "\n",
    "<font color = \"red\">\n",
    "Hi Cliburn,\n",
    "    \n",
    "The low number of clusters is probably a result of the maximal number of clusters for the finite approximation, which is by default 10. To set a higher cap:\n",
    "</font>\n",
    "\n",
    "```   \n",
    "prior=list()\n",
    "prior$K = 50\n",
    "res = mpsk(Y, C, prior=prior) \n",
    "```\n",
    "\n",
    "<font color = \"red\">\n",
    "Of course, it may split clusters that need not be split, but hopefully it will do so less than Gaussian kernels.\n",
    "Shai\n",
    "</font>\n"
   ]
  },
  {
   "cell_type": "code",
   "execution_count": 22,
   "metadata": {},
   "outputs": [
    {
     "name": "stderr",
     "output_type": "stream",
     "text": [
      "Warning message:\n",
      "“Quick-TRANSfer stage steps exceeded maximum (= 9000000)”"
     ]
    }
   ],
   "source": [
    "set.seed(1)\n",
    "\n",
    "prior=list()\n",
    "prior$K = 50\n",
    "res = mpsk(Y, C, prior=prior)"
   ]
  },
  {
   "cell_type": "code",
   "execution_count": 23,
   "metadata": {},
   "outputs": [
    {
     "data": {
      "text/html": [
       "'MPSK'"
      ],
      "text/latex": [
       "'MPSK'"
      ],
      "text/markdown": [
       "'MPSK'"
      ],
      "text/plain": [
       "[1] \"MPSK\""
      ]
     },
     "metadata": {},
     "output_type": "display_data"
    }
   ],
   "source": [
    "class(res)"
   ]
  },
  {
   "cell_type": "code",
   "execution_count": 24,
   "metadata": {},
   "outputs": [
    {
     "data": {
      "text/html": [
       "<ol class=list-inline>\n",
       "\t<li>'chain'</li>\n",
       "\t<li>'data'</li>\n",
       "\t<li>'prior'</li>\n",
       "\t<li>'pmc'</li>\n",
       "</ol>\n"
      ],
      "text/latex": [
       "\\begin{enumerate*}\n",
       "\\item 'chain'\n",
       "\\item 'data'\n",
       "\\item 'prior'\n",
       "\\item 'pmc'\n",
       "\\end{enumerate*}\n"
      ],
      "text/markdown": [
       "1. 'chain'\n",
       "2. 'data'\n",
       "3. 'prior'\n",
       "4. 'pmc'\n",
       "\n",
       "\n"
      ],
      "text/plain": [
       "[1] \"chain\" \"data\"  \"prior\" \"pmc\"  "
      ]
     },
     "metadata": {},
     "output_type": "display_data"
    }
   ],
   "source": [
    "names(res)"
   ]
  },
  {
   "cell_type": "code",
   "execution_count": 26,
   "metadata": {},
   "outputs": [
    {
     "data": {
      "text/html": [
       "16"
      ],
      "text/latex": [
       "16"
      ],
      "text/markdown": [
       "16"
      ],
      "text/plain": [
       "[1] 16"
      ]
     },
     "metadata": {},
     "output_type": "display_data"
    }
   ],
   "source": [
    "length(res$chain)"
   ]
  },
  {
   "cell_type": "code",
   "execution_count": 27,
   "metadata": {},
   "outputs": [
    {
     "data": {
      "text/html": [
       "2"
      ],
      "text/latex": [
       "2"
      ],
      "text/markdown": [
       "2"
      ],
      "text/plain": [
       "[1] 2"
      ]
     },
     "metadata": {},
     "output_type": "display_data"
    }
   ],
   "source": [
    "length(res$data)"
   ]
  },
  {
   "cell_type": "code",
   "execution_count": 28,
   "metadata": {},
   "outputs": [
    {
     "data": {
      "text/html": [
       "10"
      ],
      "text/latex": [
       "10"
      ],
      "text/markdown": [
       "10"
      ],
      "text/plain": [
       "[1] 10"
      ]
     },
     "metadata": {},
     "output_type": "display_data"
    }
   ],
   "source": [
    "length(res$prior)"
   ]
  },
  {
   "cell_type": "code",
   "execution_count": 30,
   "metadata": {},
   "outputs": [
    {
     "data": {
      "text/html": [
       "5"
      ],
      "text/latex": [
       "5"
      ],
      "text/markdown": [
       "5"
      ],
      "text/plain": [
       "[1] 5"
      ]
     },
     "metadata": {},
     "output_type": "display_data"
    }
   ],
   "source": [
    "length(res$pmc)"
   ]
  },
  {
   "cell_type": "code",
   "execution_count": 31,
   "metadata": {},
   "outputs": [],
   "source": [
    "saveRDS(res, file = file.path(dat_dir, \"ep8cs_mpsk_raw_prior50.RDS\"))"
   ]
  },
  {
   "cell_type": "code",
   "execution_count": 33,
   "metadata": {},
   "outputs": [
    {
     "name": "stdout",
     "output_type": "stream",
     "text": [
      "[1] \"total 8154192\"\n",
      "[1] \"-rw-r--r-- 1 clintko clintko    4500000 Dec  3 02:14 C.txt\"\n",
      "[1] \"-rw-r--r-- 1 clintko clintko   36073280 Dec 17 00:36 ep8cs_dat_gaussnorm.txt\"\n",
      "[1] \"-rw-r--r-- 1 clintko clintko   36444357 Dec 17 00:36 ep8cs_dat_mpsk_cal.txt\"\n",
      "[1] \"-rw-r--r-- 1 clintko clintko   36433800 Dec 17 00:35 ep8cs_dat_mpsk_raw.txt\"\n",
      "[1] \"-rw-r--r-- 1 clintko clintko 6639004546 Dec 16 01:58 ep8cs_mpsk_cal.RDS\"\n",
      "[1] \"-rw-r--r-- 1 clintko clintko     179265 Dec 16 01:58 ep8cs_mpsk_chainSummary.RDS\"\n",
      "[1] \"-rw-r--r-- 1 clintko clintko  762463121 Dec 28 05:13 ep8cs_mpsk_raw_prior50.RDS\"\n",
      "[1] \"-rw-r--r-- 1 clintko clintko  724326313 Dec 16 01:53 ep8cs_mpsk_raw.RDS\"\n",
      "[1] \"-rw-r--r-- 1 clintko clintko   35807668 Dec 16 01:53 ep8cs_mpsk_relab.RDS\"\n",
      "[1] \"-rw-r--r-- 1 clintko clintko    9177084 Dec 17 05:29 ep8cs_tsne_gaussnorm.txt\"\n",
      "[1] \"-rw-r--r-- 1 clintko clintko    1062006 Dec 17 01:49 ep8cs_tsne_idx.txt\"\n",
      "[1] \"-rw-r--r-- 1 clintko clintko    9174880 Dec 17 05:17 ep8cs_tsne_mpsk_cal.txt\"\n",
      "[1] \"-rw-r--r-- 1 clintko clintko    9174728 Dec 17 05:07 ep8cs_tsne_raw.txt\"\n",
      "[1] \"-rw-r--r-- 1 clintko clintko        382 Dec 17 00:18 ep8cs_tsne_test.txt\"\n",
      "[1] \"-rw-r--r-- 1 clintko clintko   46046739 Dec  3 02:13 Y_raw.txt\"\n"
     ]
    }
   ],
   "source": [
    "tmp = system(paste(\"ls -l\", dat_dir), intern = TRUE)\n",
    "for(x in tmp){print(x)}"
   ]
  }
 ],
 "metadata": {
  "kernelspec": {
   "display_name": "R",
   "language": "R",
   "name": "r"
  },
  "language_info": {
   "codemirror_mode": "r",
   "file_extension": ".r",
   "mimetype": "text/x-r-source",
   "name": "R",
   "pygments_lexer": "r",
   "version": "3.4.4"
  }
 },
 "nbformat": 4,
 "nbformat_minor": 2
}
